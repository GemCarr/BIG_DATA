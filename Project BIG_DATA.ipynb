{
 "cells": [
  {
   "cell_type": "markdown",
   "metadata": {
    "application/vnd.databricks.v1+cell": {
     "inputWidgets": {},
     "nuid": "726ba7f2-8458-4afc-810c-824883a7805e",
     "showTitle": false,
     "title": ""
    }
   },
   "source": [
    "# Project BIG_DATA"
   ]
  },
  {
   "cell_type": "markdown",
   "metadata": {
    "application/vnd.databricks.v1+cell": {
     "inputWidgets": {},
     "nuid": "33735956-1a39-457c-805c-a29eaf0618d1",
     "showTitle": false,
     "title": ""
    }
   },
   "source": [
    "Student Name : Guillaume Carrière 23458, Youri Colera 23460"
   ]
  },
  {
   "cell_type": "code",
   "execution_count": 8,
   "metadata": {
    "application/vnd.databricks.v1+cell": {
     "inputWidgets": {},
     "nuid": "75ddb9c5-989f-4215-960c-acd31b6e7561",
     "showTitle": false,
     "title": ""
    }
   },
   "outputs": [],
   "source": [
    "from pyspark.sql import SparkSession\n",
    "import sys\n",
    "from pyspark.sql.window import Window\n",
    "from pyspark.sql.types import *\n",
    "import pyspark.sql.functions as F\n",
    "import numbers\n",
    "\n",
    "spark_application_name = \"Spark_Application_Name\"\n",
    "spark = (SparkSession.builder.appName(spark_application_name).getOrCreate())"
   ]
  },
  {
   "cell_type": "markdown",
   "metadata": {
    "application/vnd.databricks.v1+cell": {
     "inputWidgets": {},
     "nuid": "3c820ede-486e-4860-9b8a-3e614a9883a8",
     "showTitle": false,
     "title": ""
    }
   },
   "source": [
    "## First step : exploration\n",
    "\n",
    "In this cell we define every function that gives us information from the raw data.\n",
    "\n",
    "read_file : reads a csv file and gives back a dataframe\n",
    "\n",
    "read_files : helper function to read all available files and concatenate all of them in a dataframe\n",
    "\n",
    "show_stock : shows the first 40 and last 40 rows of a company stock\n",
    "\n",
    "get_size : shows the number of rows of a dataframe\n",
    "\n",
    "describe_stock : show the different statistics of every column of a company stock\n",
    "\n",
    "nb_missing_values_stock : count number of missing values of every column of a company stock"
   ]
  },
  {
   "cell_type": "code",
   "execution_count": 9,
   "metadata": {
    "application/vnd.databricks.v1+cell": {
     "inputWidgets": {},
     "nuid": "07b3ed42-a2a1-4ced-975e-cfc2a70bbe84",
     "showTitle": false,
     "title": ""
    }
   },
   "outputs": [],
   "source": [
    "devColumns = [StructField(\"Date\",DateType()), StructField(\"High\",FloatType()), StructField(\"Low\",FloatType()), StructField(\"Open\",FloatType()), StructField(\"Close\",FloatType()), StructField(\"Volume\",LongType()), StructField(\"Adj Close\",FloatType()), StructField(\"company_name\",StringType())]\n",
    "devSchema = StructType(devColumns)\n",
    "\n",
    "def read_file(file_path, header = True, delimiter = ',') :\n",
    "    return spark.read.schema(devSchema).option(\"delimiter\", delimiter).csv(file_path, header=header)\n",
    "\n",
    "def read_files() :\n",
    "    list_stock = []\n",
    "    list_stock.append(read_file(\"stocks_data/AMAZON.csv\"))\n",
    "    list_stock.append(read_file(\"stocks_data/APPLE.csv\"))\n",
    "    list_stock.append(read_file(\"stocks_data/FACEBOOK.csv\"))\n",
    "    list_stock.append(read_file(\"stocks_data/GOOGLE.csv\"))\n",
    "    list_stock.append(read_file(\"stocks_data/MICROSOFT.csv\"))\n",
    "    list_stock.append(read_file(\"stocks_data/TESLA.csv\"))\n",
    "    list_stock.append(read_file(\"stocks_data/ZOOM.csv\"))\n",
    "    \n",
    "    df = list_stock[0]\n",
    "    \n",
    "    for i in range (1, len(list_stock)) :\n",
    "        df = df.union(list_stock[i])\n",
    "    return df.sort(\"company_name\")\n",
    "\n",
    "def show_stock(df, company_name) :\n",
    "    stock = df.filter(F.col(\"company_name\") == company_name)\n",
    "    stock.show(40)\n",
    "    s = stock.count()\n",
    "    stock.withColumn(\"rn\",F.row_number().over(Window.orderBy(\"Date\"))).where(F.col(\"rn\")>s-40).drop(\"rn\").show(40)\n",
    "\n",
    "    \n",
    "def get_size(df) :\n",
    "    return df.count()\n",
    "\n",
    "def describe_stock(df, company_name) :\n",
    "    df.filter(F.col(\"company_name\") == company_name).describe().show()\n",
    "\n",
    "def nb_missing_values_stock(df, company_name) :\n",
    "    df.filter(F.col(\"company_name\") == company_name).select([F.count(F.when(F.isnan(c) | F.isnull(c), c)).alias(c) for c in df.columns[1:-1]]).show()\n",
    "    "
   ]
  },
  {
   "cell_type": "markdown",
   "metadata": {
    "application/vnd.databricks.v1+cell": {
     "inputWidgets": {},
     "nuid": "4b451a27-f135-4ade-83ef-133132604f1c",
     "showTitle": false,
     "title": ""
    }
   },
   "source": [
    "In this cell we define every function that creates additional information that can be useful when doing analysis\n",
    "\n",
    "moving_average : computes moving average of a column on the last nb_points for every company. nb_points relate to the Date. If nb_points = 7 the moving average is computed on the last week, this means if there are missing data points for unavailable dates, the function will adapt and compute the moving average on the remaining datapoints in order to not give false data\n",
    "\n",
    "compute_daily_return : computes the daily return on every data point of the dataframe\n",
    "\n",
    "compute_differences : computes the daily and monthly difference on every data point of every company. If the data point from the previous day or month is unavailable, the difference will be null.\n",
    "\n",
    "compute_return : compute the return rate for last week, month and year. If the data point is unavailable, the return rate will be null"
   ]
  },
  {
   "cell_type": "code",
   "execution_count": 10,
   "metadata": {
    "application/vnd.databricks.v1+cell": {
     "inputWidgets": {},
     "nuid": "71a608a0-8c68-491a-9524-64b12842be23",
     "showTitle": false,
     "title": ""
    }
   },
   "outputs": [],
   "source": [
    "days = lambda x : x * 86400 \n",
    "\n",
    "def moving_average(df, columnName, new_columnName, nb_points) :\n",
    "    \n",
    "    if columnName not in df.columns :\n",
    "        print(\"Column not found\")\n",
    "    else :\n",
    "        w = Window.partitionBy(F.col(\"company_name\")).orderBy(F.col(\"Date\").cast(\"timestamp\").cast(\"long\")).rangeBetween(-days(nb_points - 1), 0)\n",
    "        return df.withColumn(new_columnName,F.avg(columnName).over(w))\n",
    "\n",
    "def compute_daily_return(df) :\n",
    "    return df.withColumn(\"Daily Return\", ((df.Close - df.Open)/df.Open) * 100)\n",
    "\n",
    "def compute_differences(df) :\n",
    "    w = Window.partitionBy(F.col(\"company_name\")).orderBy(F.col(\"Date\").cast(\"timestamp\").cast(\"long\")).rangeBetween(-days(1), -days(1))\n",
    "    df = df.withColumn(\"day_before\",F.avg(\"Adj Close\").over(w))\n",
    "    df = df.withColumn(\"Daily Difference\", df[\"Adj Close\"] - df[\"day_before\"]).drop(\"day_before\")\n",
    "    \n",
    "    w = Window.partitionBy(F.col(\"company_name\")).orderBy(F.col(\"Date\").cast(\"timestamp\").cast(\"long\")).rangeBetween(-days(30), -days(30))\n",
    "    df = df.withColumn(\"month_before\",F.avg(\"Adj Close\").over(w))\n",
    "    return df.withColumn(\"Monthly Difference\", df[\"Adj Close\"] - df[\"month_before\"]).drop(\"month_before\")\n",
    "\n",
    "\n",
    "def compute_return(df) :\n",
    "    w = Window.partitionBy(F.col(\"company_name\")).orderBy(F.col(\"Date\").cast(\"timestamp\").cast(\"long\")).rangeBetween(-days(7), -days(7))\n",
    "    df = df.withColumn(\"week_before\",F.avg(\"Adj Close\").over(w))\n",
    "    df = df.withColumn(\"Weekly Return\", ((df[\"Adj Close\"] - df[\"week_before\"])/df[\"week_before\"]) * 100).drop(\"week_before\")\n",
    "    \n",
    "    w = Window.partitionBy(F.col(\"company_name\")).orderBy(F.col(\"Date\").cast(\"timestamp\").cast(\"long\")).rangeBetween(-days(30), -days(30))\n",
    "    df = df.withColumn(\"month_before\",F.avg(\"Adj Close\").over(w))\n",
    "    df = df.withColumn(\"Monthly Return\", ((df[\"Adj Close\"] - df[\"month_before\"])/df[\"month_before\"]) * 100).drop(\"month_before\")\n",
    "\n",
    "    w = Window.partitionBy(F.col(\"company_name\")).orderBy(F.col(\"Date\").cast(\"timestamp\").cast(\"long\")).rangeBetween(-days(365), -days(365))\n",
    "    df = df.withColumn(\"year_before\",F.avg(\"Adj Close\").over(w))\n",
    "    return df.withColumn(\"Yearly Return\", ((df[\"Adj Close\"] - df[\"year_before\"])/df[\"year_before\"]) * 100).drop(\"year_before\")\n"
   ]
  },
  {
   "cell_type": "markdown",
   "metadata": {
    "application/vnd.databricks.v1+cell": {
     "inputWidgets": {},
     "nuid": "4220255f-fba5-43e9-96ad-b2365be66dbe",
     "showTitle": false,
     "title": ""
    }
   },
   "source": [
    "In this cell we define every function that helps us analyze the data. \n",
    "\n",
    "date_difference : computes the time interval between two data points\n",
    "\n",
    "correlation_df : computes the correlation between two columns of a dataframe\n",
    "\n",
    "correlate_stocks : computes the correlation between the same columns of different company stocks\n",
    "\n",
    "best_return_rate : returns the company with the best return rate on a specific period and start date"
   ]
  },
  {
   "cell_type": "code",
   "execution_count": 11,
   "metadata": {
    "application/vnd.databricks.v1+cell": {
     "inputWidgets": {},
     "nuid": "2ddaff34-6daa-40b1-b426-977b3a293b58",
     "showTitle": false,
     "title": ""
    }
   },
   "outputs": [],
   "source": [
    "def date_difference(dp1, dp2) :\n",
    "    return abs(dp1[\"Date\"] - dp2[\"Date\"])\n",
    "\n",
    "def correlation_df(df, col1, col2) :\n",
    "    if col1 not in df.columns or col2 not in df.columns :\n",
    "        print(\"Columns not found\")\n",
    "    else :\n",
    "        return df.stat.corr(col1, col2)\n",
    "\n",
    "\n",
    "def correlate_stocks(df, company_name1, company_name2) :\n",
    "    df1 = df.filter(F.col(\"company_name\") == company_name1)\n",
    "    df2 = df.filter(F.col(\"company_name\") == company_name2)\n",
    "    \n",
    "    print(\"Correlation between \" + df1.first()[\"company_name\"] + \" and \" + df2.first()[\"company_name\"])\n",
    "    corr_columns = []\n",
    "    for column in df1.columns :\n",
    "        columnType = dict(df1.dtypes)[column]\n",
    "        if columnType == 'float' or columnType == 'long' :\n",
    "            corr_columns.append(column)\n",
    "    \n",
    "    df2 = df2.select(*(F.col(x).alias(x + '_2') for x in df2.columns))\n",
    "    jdf = df1.join(df2, df1.Date == df2.Date_2,how='inner')\n",
    "    \n",
    "    correlations = [corr_columns, []]\n",
    "    for col in corr_columns :\n",
    "        correlations[1].append(correlation_df(jdf, col, col + \"_2\"))\n",
    "    return correlations\n",
    "\n",
    "\n",
    "def best_return_rate(df, start_date, period) :\n",
    "    w = Window.partitionBy(F.col(\"company_name\")).orderBy(F.col(\"Date\").cast(\"timestamp\").cast(\"long\")).rangeBetween(days(period), days(period))\n",
    "    \n",
    "    max_ret = -sys.maxsize - 1\n",
    "    max_stock = None\n",
    "    \n",
    "    df_m = df.withColumn(\"period_after\",F.avg(\"Adj Close\").over(w))\n",
    "    rows = df_m.withColumn(\"return\", ((df_m[\"period_after\"] - df_m[\"Adj Close\"])/df_m[\"Adj Close\"]) * 100).filter(F.col(\"Date\") == start_date)\n",
    "    if rows != None :\n",
    "        for row in rows.rdd.collect() :\n",
    "            ret = row[\"return\"]\n",
    "            if (ret != None and ret > max_ret) :\n",
    "                max_ret = ret\n",
    "                max_stock = row[\"company_name\"]\n",
    "            \n",
    "    if (max_stock == None) :\n",
    "        print(\"Data insufficient\")\n",
    "    else :\n",
    "        print(\"Best return rate is \" + str(max_ret) + \" for the stock of \" + max_stock)\n",
    "\n",
    "    return max_stock"
   ]
  },
  {
   "cell_type": "markdown",
   "metadata": {
    "application/vnd.databricks.v1+cell": {
     "inputWidgets": {},
     "nuid": "e2edce6e-28d4-4f91-8777-f60dbcb10136",
     "showTitle": false,
     "title": ""
    }
   },
   "source": [
    "In this cell we define the main function that will use all the previously defined functions in order to perform the exploration process.\n",
    "\n",
    "It will be composed of these steps :\n",
    "\n",
    "- read all the .csv files and put them in a pyspark dataframe\n",
    "- for every stock, print the company name, the time range of the data, the number of rows, the number of missing values, descriptive statistics on every variable and show the first 40 and last 40 rows\n",
    "- for every stock :\n",
    "    - compute the weekly, monthly and yearly moving average of the \"Open\" column\n",
    "    - compute the weekly, monthly and yearly moving average of the \"Close\" column\n",
    "    - compute the daily and monthly difference for the \"Adj Close\" column\n",
    "    - compute the daily return rate\n",
    "    - compute the weekly, monthly and yearly moving average of the \"Daily Return\" column\n",
    "    - compute the weekly, monthly and yearly return rate\n",
    "    - show the dataframe to see all the new columns\n",
    "- for every pair of stocks, show the correlation between every pair of similar columns in the pair of stocks\n",
    "- compute the best return rate of the stocks for a period of one year, at the starting date of 2019-12-02 (beginning of COVID-19 crisis)"
   ]
  },
  {
   "cell_type": "code",
   "execution_count": 12,
   "metadata": {
    "application/vnd.databricks.v1+cell": {
     "inputWidgets": {},
     "nuid": "ab7ddb80-b66d-4b4b-8e61-72d6a4260fc8",
     "showTitle": false,
     "title": ""
    }
   },
   "outputs": [],
   "source": [
    "def main() : \n",
    "    df = read_files()\n",
    "    companies = [\"AMAZON\", \"APPLE\", \"FACEBOOK\", \"GOOGLE\", \"MICROSOFT\", \"TESLA\", \"ZOOM\"]\n",
    "    \n",
    "    for company_name in companies :\n",
    "        stock = df.filter(F.col(\"company_name\") == company_name)\n",
    "        print(\"Time range of the stock : \" + str(date_difference(stock.first(), stock.tail(1)[0])))\n",
    "        print(company_name + \" size : \" + str(get_size(stock)))\n",
    "        \n",
    "        print(\"nb_missing_values :\")\n",
    "        nb_missing_values_stock(df, company_name)\n",
    "        describe_stock(df, company_name)\n",
    "        show_stock(df, company_name)\n",
    "    \n",
    "    \n",
    "    df = moving_average(df, \"Open\", \"Weekly Avg Open\", 7)\n",
    "    df = moving_average(df, \"Open\", \"Monthly Avg Open\", 30)\n",
    "    df = moving_average(df, \"Open\", \"Yearly Avg Open\", 365)\n",
    "\n",
    "    df = moving_average(df, \"Close\", \"Weekly Avg Close\", 7)\n",
    "    df = moving_average(df, \"Close\", \"Monthly Avg Close\", 30)\n",
    "    df = moving_average(df, \"Close\", \"Yearly Avg Close\", 365)\n",
    "\n",
    "    df = compute_differences(df)\n",
    "\n",
    "    df = compute_daily_return(df)\n",
    "\n",
    "    df = moving_average(df, \"Daily Return\", \"Weekly Avg Daily Return\", 7)\n",
    "    df = moving_average(df, \"Daily Return\", \"Monthly Avg Daily Return\", 30)\n",
    "    df = moving_average(df, \"Daily Return\", \"Yearly Avg Daily Return\", 365)\n",
    "        \n",
    "    df = compute_return(df)\n",
    "    \n",
    "    for company_name in companies :\n",
    "        df.filter(F.col(\"company_name\") == company_name).show()\n",
    "\n",
    "    for i in range (0, len(companies)) :\n",
    "        for j in range (i, len(companies)) :\n",
    "            stock = companies[i]\n",
    "            stock2 = companies[j]\n",
    "            if (stock != stock2) :\n",
    "                print(correlate_stocks(df, stock, stock2))\n",
    "                \n",
    "    best_return_rate(df, \"2019-12-02\", 365)\n",
    "    return df\n"
   ]
  },
  {
   "cell_type": "code",
   "execution_count": 13,
   "metadata": {
    "application/vnd.databricks.v1+cell": {
     "inputWidgets": {},
     "nuid": "ba881e6b-67f1-4447-8dd6-37346a0598f0",
     "showTitle": false,
     "title": ""
    }
   },
   "outputs": [
    {
     "name": "stderr",
     "output_type": "stream",
     "text": [
      "                                                                                \r"
     ]
    },
    {
     "name": "stdout",
     "output_type": "stream",
     "text": [
      "Time range of the stock : 1429 days, 0:00:00\n",
      "AMAZON size : 987\n",
      "nb_missing_values :\n",
      "+----+---+----+-----+------+---------+\n",
      "|High|Low|Open|Close|Volume|Adj Close|\n",
      "+----+---+----+-----+------+---------+\n",
      "|   0|  0|   0|    0|     0|        0|\n",
      "+----+---+----+-----+------+---------+\n",
      "\n",
      "+-------+------------------+------------------+-----------------+------------------+-----------------+------------------+------------+\n",
      "|summary|              High|               Low|             Open|             Close|           Volume|         Adj Close|company_name|\n",
      "+-------+------------------+------------------+-----------------+------------------+-----------------+------------------+------------+\n",
      "|  count|               987|               987|              987|               987|              987|               987|         987|\n",
      "|   mean|1762.0071216958152|1722.1011452099956|1743.433881363487|1742.9566644206718| 4509728.05775076|1742.9566644206718|        null|\n",
      "| stddev| 667.2385315752688| 644.7988093382758|657.1153070927137| 655.9576061129322|2179817.628631287| 655.9576061129322|        null|\n",
      "|    min|            758.76|             747.7|           757.92|            753.67|           881300|            753.67|      AMAZON|\n",
      "|    max|           3552.25|           3486.69|           3547.0|           3531.45|         16565000|           3531.45|      AMAZON|\n",
      "+-------+------------------+------------------+-----------------+------------------+-----------------+------------------+------------+\n",
      "\n",
      "+----------+------+------+------+------+--------+---------+------------+\n",
      "|      Date|  High|   Low|  Open| Close|  Volume|Adj Close|company_name|\n",
      "+----------+------+------+------+------+--------+---------+------------+\n",
      "|2017-01-03|758.76| 747.7|757.92|753.67| 3521100|   753.67|      AMAZON|\n",
      "|2017-01-04|759.68| 754.2|758.39|757.18| 2510500|   757.18|      AMAZON|\n",
      "|2017-01-05| 782.4|760.26|761.55|780.45| 5830100|   780.45|      AMAZON|\n",
      "|2017-01-06|799.44|778.48|782.36|795.99| 5986200|   795.99|      AMAZON|\n",
      "|2017-01-09|801.77|791.77| 798.0|796.92| 3446100|   796.92|      AMAZON|\n",
      "|2017-01-10| 798.0|789.54| 796.6| 795.9| 2558400|    795.9|      AMAZON|\n",
      "|2017-01-11| 799.5|789.51|793.66|799.02| 2992800|   799.02|      AMAZON|\n",
      "|2017-01-12|814.13| 799.5|800.31|813.64| 4873900|   813.64|      AMAZON|\n",
      "|2017-01-13|821.65| 811.4|814.32|817.14| 3791900|   817.14|      AMAZON|\n",
      "|2017-01-17| 816.0|803.44| 815.7|809.72| 3670500|   809.72|      AMAZON|\n",
      "|2017-01-18|811.73|804.27| 809.5|807.48| 2354200|   807.48|      AMAZON|\n",
      "|2017-01-19|813.51|807.32| 810.0|809.04| 2540800|   809.04|      AMAZON|\n",
      "|2017-01-20|816.02|806.26|815.28|808.33| 3376200|   808.33|      AMAZON|\n",
      "|2017-01-23| 818.5|805.08| 806.8|817.88| 2797500|   817.88|      AMAZON|\n",
      "|2017-01-24|823.99| 814.5| 822.0|822.44| 2971700|   822.44|      AMAZON|\n",
      "|2017-01-25|837.42|825.29|825.79|836.52| 3922600|   836.52|      AMAZON|\n",
      "|2017-01-26|843.84| 833.0|835.53|839.15| 3586300|   839.15|      AMAZON|\n",
      "|2017-01-27| 839.7|829.44| 839.0|835.77| 2998700|   835.77|      AMAZON|\n",
      "|2017-01-30| 833.5|816.38| 833.0|830.38| 3747300|   830.38|      AMAZON|\n",
      "|2017-01-31|826.99|819.56|823.75|823.48| 3137200|   823.48|      AMAZON|\n",
      "|2017-02-01|833.78|824.94|829.21|832.35| 3850200|   832.35|      AMAZON|\n",
      "|2017-02-02|842.49|828.26|836.59|839.95| 7350500|   839.95|      AMAZON|\n",
      "|2017-02-03| 818.3| 804.0|806.72| 810.2|10868800|    810.2|      AMAZON|\n",
      "|2017-02-06|810.72| 803.0| 809.8|807.64| 3897300|   807.64|      AMAZON|\n",
      "|2017-02-07|816.16| 807.5|809.31| 812.5| 3466100|    812.5|      AMAZON|\n",
      "|2017-02-08|821.48| 812.5|812.69|819.71| 2858000|   819.71|      AMAZON|\n",
      "|2017-02-09| 825.0|819.71| 821.6|821.36| 2484900|   821.36|      AMAZON|\n",
      "|2017-02-10| 828.0|822.85|823.82|827.46| 2429600|   827.46|      AMAZON|\n",
      "|2017-02-13| 843.0|828.55|831.62|836.53| 4172600|   836.53|      AMAZON|\n",
      "|2017-02-14|838.31|831.45| 837.0|836.39| 2792400|   836.39|      AMAZON|\n",
      "|2017-02-15|842.81|832.82| 834.0| 842.7| 2968900|    842.7|      AMAZON|\n",
      "|2017-02-16| 845.0|839.38|841.84|844.14| 2714700|   844.14|      AMAZON|\n",
      "|2017-02-17|847.27|840.73| 842.0|845.07| 3112300|   845.07|      AMAZON|\n",
      "|2017-02-21|857.98|847.25|848.84|856.44| 3507700|   856.44|      AMAZON|\n",
      "|2017-02-22|858.43|852.18|856.95|855.61| 2617000|   855.61|      AMAZON|\n",
      "|2017-02-23|860.86| 848.0|857.57|852.19| 3462000|   852.19|      AMAZON|\n",
      "|2017-02-24|845.81|837.75|844.69|845.24| 3688000|   845.24|      AMAZON|\n",
      "|2017-02-27| 852.5|839.67|842.38|848.64| 2713600|   848.64|      AMAZON|\n",
      "|2017-02-28|854.09|842.05|851.45|845.04| 2793700|   845.04|      AMAZON|\n",
      "|2017-03-01|854.83|849.01|853.05|853.08| 2760100|   853.08|      AMAZON|\n",
      "+----------+------+------+------+------+--------+---------+------------+\n",
      "only showing top 40 rows\n",
      "\n"
     ]
    },
    {
     "name": "stderr",
     "output_type": "stream",
     "text": [
      "2022-06-20 16:04:22,662 WARN window.WindowExec: No Partition Defined for Window operation! Moving all data to a single partition, this can cause serious performance degradation.\n",
      "2022-06-20 16:04:22,668 WARN window.WindowExec: No Partition Defined for Window operation! Moving all data to a single partition, this can cause serious performance degradation.\n",
      "2022-06-20 16:04:22,971 WARN window.WindowExec: No Partition Defined for Window operation! Moving all data to a single partition, this can cause serious performance degradation.\n",
      "2022-06-20 16:04:23,032 WARN window.WindowExec: No Partition Defined for Window operation! Moving all data to a single partition, this can cause serious performance degradation.\n"
     ]
    },
    {
     "name": "stdout",
     "output_type": "stream",
     "text": [
      "+----------+-------+-------+-------+---------+-------+---------+------------+\n",
      "|      Date|   High|    Low|   Open|    Close| Volume|Adj Close|company_name|\n",
      "+----------+-------+-------+-------+---------+-------+---------+------------+\n",
      "|2020-10-07| 3200.0|3132.39| 3135.0|  3195.69|4309400|  3195.69|      AMAZON|\n",
      "|2020-10-08|3233.29|3174.99|3224.99|  3190.55|3174100|  3190.55|      AMAZON|\n",
      "|2020-10-09|3288.99|3197.83| 3210.0|  3286.65|4907900|  3286.65|      AMAZON|\n",
      "|2020-10-12|3496.24|3339.55|3349.94|  3442.93|8364200|  3442.93|      AMAZON|\n",
      "|2020-10-13|3492.38|3424.22|3467.99|  3443.63|5744700|  3443.63|      AMAZON|\n",
      "|2020-10-14|3464.88| 3340.0| 3447.0|  3363.71|5828900|  3363.71|      AMAZON|\n",
      "|2020-10-15|3355.88| 3280.0|3292.01|  3338.65|5223400|  3338.65|      AMAZON|\n",
      "|2020-10-16|3399.66| 3160.0|3363.23|  3272.71|6474400|  3272.71|      AMAZON|\n",
      "|2020-10-19| 3329.0|3192.74|3299.61|  3207.21|5223600|  3207.21|      AMAZON|\n",
      "|2020-10-20| 3266.0|3192.01|3222.28|  3217.01|4509700|  3217.01|      AMAZON|\n",
      "|2020-10-21|3233.88| 3160.0| 3212.5|  3184.94|4592700|  3184.94|      AMAZON|\n",
      "|2020-10-22|3198.75|3121.94|3189.87|   3176.4|4212000|   3176.4|      AMAZON|\n",
      "|2020-10-23|3205.33| 3140.0| 3191.0|   3204.4|3466700|   3204.4|      AMAZON|\n",
      "|2020-10-26|3282.98| 3153.3|3198.74|  3207.04|5901200|  3207.04|      AMAZON|\n",
      "|2020-10-27|3291.66| 3211.3|3224.94|  3286.33|4291000|  3286.33|      AMAZON|\n",
      "|2020-10-28|3264.02|3162.47| 3249.3|  3162.78|5588300|  3162.78|      AMAZON|\n",
      "|2020-10-29|3257.25| 3164.0|3201.27|  3211.01|6596500|  3211.01|      AMAZON|\n",
      "|2020-10-30| 3167.0| 3019.0|3157.75|  3036.15|8386400|  3036.15|      AMAZON|\n",
      "|2020-11-02|3079.71|2950.12|3061.74|  3004.48|7257400|  3004.48|      AMAZON|\n",
      "|2020-11-03| 3074.9|2980.98|3018.53|  3048.41|4897900|  3048.41|      AMAZON|\n",
      "|2020-11-04|3244.85|3139.73|3159.99|  3241.16|6839000|  3241.16|      AMAZON|\n",
      "|2020-11-05| 3366.8|3288.88|3319.97|   3322.0|5789300|   3322.0|      AMAZON|\n",
      "|2020-11-06| 3322.0| 3232.0|3304.64|  3311.37|4647300|  3311.37|      AMAZON|\n",
      "|2020-11-09| 3289.0|3112.11|3231.03|  3143.74|7190400|  3143.74|      AMAZON|\n",
      "|2020-11-10| 3114.0|3019.48|3095.02|  3035.02|6591000|  3035.02|      AMAZON|\n",
      "|2020-11-11|3139.15| 3050.0|3061.78|  3137.39|4366900|  3137.39|      AMAZON|\n",
      "|2020-11-12|3175.88|3086.05|3159.95|  3110.28|4362000|  3110.28|      AMAZON|\n",
      "|2020-11-13|3141.72|3085.39| 3122.0|  3128.81|3756200|  3128.81|      AMAZON|\n",
      "|2020-11-16| 3142.7|3072.69| 3093.2|  3131.06|3808700|  3131.06|      AMAZON|\n",
      "|2020-11-17|3189.25|3135.26|3183.54|  3135.66|3444700|  3135.66|      AMAZON|\n",
      "|2020-11-18| 3140.0| 3105.1| 3134.0|  3105.46|2916800|  3105.46|      AMAZON|\n",
      "|2020-11-19| 3125.0|3080.92|3105.31|  3117.02|3010300|  3117.02|      AMAZON|\n",
      "|2020-11-20|3132.89|3098.05|3117.02|   3099.4|3374400|   3099.4|      AMAZON|\n",
      "|2020-11-23|3139.75|3065.46| 3116.7|  3098.39|4708900|  3098.39|      AMAZON|\n",
      "|2020-11-24|3134.25|3086.26| 3100.5|  3118.06|3602100|  3118.06|      AMAZON|\n",
      "|2020-11-25| 3198.0|3140.26|3141.87|  3185.07|3790400|  3185.07|      AMAZON|\n",
      "|2020-11-27|3216.19|3190.05|3211.26|  3195.34|2392900|  3195.34|      AMAZON|\n",
      "|2020-11-30|3228.39|3125.55|3208.48|  3168.04|4063900|  3168.04|      AMAZON|\n",
      "|2020-12-01|3248.95|3157.18| 3188.5|  3220.08|4537000|  3220.08|      AMAZON|\n",
      "|2020-12-02|3223.76|3173.26|3221.65|3213.4385|1119593|3213.4385|      AMAZON|\n",
      "+----------+-------+-------+-------+---------+-------+---------+------------+\n",
      "\n",
      "Time range of the stock : 1429 days, 0:00:00\n",
      "APPLE size : 987\n",
      "nb_missing_values :\n",
      "+----+---+----+-----+------+---------+\n",
      "|High|Low|Open|Close|Volume|Adj Close|\n",
      "+----+---+----+-----+------+---------+\n",
      "|   0|  0|   0|    0|   987|        0|\n",
      "+----+---+----+-----+------+---------+\n",
      "\n",
      "+-------+------------------+-----------------+-----------------+------------------+------+-----------------+------------+\n",
      "|summary|              High|              Low|             Open|             Close|Volume|        Adj Close|company_name|\n",
      "+-------+------------------+-----------------+-----------------+------------------+------+-----------------+------------+\n",
      "|  count|               987|              987|              987|               987|     0|              987|         987|\n",
      "|   mean|57.322335375599344|56.08516212123264|56.68830042165584|56.735163877075564|  null| 55.3555844972682|        null|\n",
      "| stddev|23.909537521895153|23.04004228077875|23.50911719644306|23.487454843800442|  null|24.00281865091007|        null|\n",
      "|    min|           29.0825|            28.69|            28.95|            29.005|  null|        27.247108|       APPLE|\n",
      "|    max|            137.98|           130.53|           137.59|            134.18|  null|         133.9489|       APPLE|\n",
      "+-------+------------------+-----------------+-----------------+------------------+------+-----------------+------------+\n",
      "\n",
      "+----------+-------+-------+-------+-------+------+---------+------------+\n",
      "|      Date|   High|    Low|   Open|  Close|Volume|Adj Close|company_name|\n",
      "+----------+-------+-------+-------+-------+------+---------+------------+\n",
      "|2017-01-03|29.0825|  28.69|  28.95|29.0375|  null| 27.27764|       APPLE|\n",
      "|2017-01-04|29.1275|28.9375|28.9625| 29.005|  null|27.247108|       APPLE|\n",
      "|2017-01-05| 29.215|28.9525|  28.98|29.1525|  null|27.385668|       APPLE|\n",
      "|2017-01-06|  29.54|29.1175| 29.195|29.4775|  null|27.690971|       APPLE|\n",
      "|2017-01-09|29.8575| 29.485|29.4875|29.7475|  null|27.944603|       APPLE|\n",
      "|2017-01-10| 29.845| 29.575|29.6925|29.7775|  null|27.972786|       APPLE|\n",
      "|2017-01-11|29.9825|  29.65| 29.685|29.9375|  null|28.123089|       APPLE|\n",
      "|2017-01-12| 29.825|29.5525| 29.725|29.8125|  null|28.005665|       APPLE|\n",
      "|2017-01-13| 29.905|29.7025|29.7775|  29.76|  null| 27.95635|       APPLE|\n",
      "|2017-01-17|  30.06| 29.555| 29.585|   30.0|  null|  28.1818|       APPLE|\n",
      "|2017-01-18| 30.125|29.9275|   30.0|29.9975|  null|28.179457|       APPLE|\n",
      "|2017-01-19|30.0225|29.8425|  29.85| 29.945|  null|28.130133|       APPLE|\n",
      "|2017-01-20|30.1125|29.9325|30.1125|   30.0|  null|  28.1818|       APPLE|\n",
      "|2017-01-23|30.2025|29.9425|   30.0|  30.02|  null| 28.20059|       APPLE|\n",
      "|2017-01-24| 30.025| 29.875|29.8875|29.9925|  null|28.174757|       APPLE|\n",
      "|2017-01-25| 30.525|  30.07| 30.105|  30.47|  null|28.623314|       APPLE|\n",
      "|2017-01-26|  30.61|   30.4|30.4175| 30.485|  null|28.637407|       APPLE|\n",
      "|2017-01-27|30.5875|   30.4| 30.535|30.4875|  null|28.639755|       APPLE|\n",
      "|2017-01-30|30.4075| 30.165|30.2325|30.4075|  null|28.564606|       APPLE|\n",
      "|2017-01-31|30.3475| 30.155|30.2875|30.3375|  null|28.498844|       APPLE|\n",
      "|2017-02-01|32.6225|31.7525|31.7575|32.1875|  null| 30.23672|       APPLE|\n",
      "|2017-02-02|32.3475| 31.945| 31.995|32.1325|  null| 30.18506|       APPLE|\n",
      "|2017-02-03|32.2975|  32.04|32.0775|  32.27|  null| 30.31423|       APPLE|\n",
      "|2017-02-06| 32.625| 32.225|32.2825|32.5725|  null|30.598392|       APPLE|\n",
      "|2017-02-07|33.0225|32.6125| 32.635|32.8825|  null|  30.8896|       APPLE|\n",
      "|2017-02-08| 33.055| 32.805|32.8375|  33.01|  null|31.009373|       APPLE|\n",
      "|2017-02-09|33.1125|  32.78|32.9125| 33.105|  null|31.233446|       APPLE|\n",
      "|2017-02-10| 33.235|33.0125| 33.115|  33.03|  null| 31.16269|       APPLE|\n",
      "|2017-02-13| 33.455|33.1875|  33.27|33.3225|  null|31.438652|       APPLE|\n",
      "|2017-02-14|33.7725|33.3125|33.3675| 33.755|  null|31.846703|       APPLE|\n",
      "|2017-02-15|34.0675| 33.655|  33.88|33.8775|  null|31.962276|       APPLE|\n",
      "|2017-02-16| 33.975|  33.71|33.9175|33.8375|  null|31.924547|       APPLE|\n",
      "|2017-02-17|33.9575| 33.775| 33.775|  33.93|  null| 32.01181|       APPLE|\n",
      "|2017-02-21|34.1875| 33.995|34.0575| 34.175|  null|32.242958|       APPLE|\n",
      "|2017-02-22|  34.28|34.0275|34.1075|34.2775|  null|32.339664|       APPLE|\n",
      "|2017-02-23|  34.37| 34.075| 34.345|34.1325|  null| 32.20287|       APPLE|\n",
      "|2017-02-24| 34.165|  33.82|33.9775| 34.165|  null|32.233524|       APPLE|\n",
      "|2017-02-27|  34.36|  34.07| 34.285|34.2325|  null| 32.29721|       APPLE|\n",
      "|2017-02-28|  34.36| 34.175|  34.27|34.2475|  null| 32.31136|       APPLE|\n",
      "|2017-03-01|35.0375|   34.4|34.4725|34.9475|  null| 32.97178|       APPLE|\n",
      "+----------+-------+-------+-------+-------+------+---------+------------+\n",
      "only showing top 40 rows\n",
      "\n"
     ]
    },
    {
     "name": "stderr",
     "output_type": "stream",
     "text": [
      "2022-06-20 16:04:25,864 WARN window.WindowExec: No Partition Defined for Window operation! Moving all data to a single partition, this can cause serious performance degradation.\n",
      "2022-06-20 16:04:25,866 WARN window.WindowExec: No Partition Defined for Window operation! Moving all data to a single partition, this can cause serious performance degradation.\n",
      "2022-06-20 16:04:26,087 WARN window.WindowExec: No Partition Defined for Window operation! Moving all data to a single partition, this can cause serious performance degradation.\n",
      "2022-06-20 16:04:26,126 WARN window.WindowExec: No Partition Defined for Window operation! Moving all data to a single partition, this can cause serious performance degradation.\n"
     ]
    },
    {
     "name": "stdout",
     "output_type": "stream",
     "text": [
      "+----------+------+------+------+--------+------+----------+------------+\n",
      "|      Date|  High|   Low|  Open|   Close|Volume| Adj Close|company_name|\n",
      "+----------+------+------+------+--------+------+----------+------------+\n",
      "|2020-10-07|115.55|114.13|114.62|  115.08|  null|114.881805|       APPLE|\n",
      "|2020-10-08| 116.4|114.59|116.25|  114.97|  null| 114.77199|       APPLE|\n",
      "|2020-10-09| 117.0|114.92|115.28|  116.97|  null| 116.76855|       APPLE|\n",
      "|2020-10-12|125.18|119.28|120.06|   124.4|  null| 124.18575|       APPLE|\n",
      "|2020-10-13|125.39|119.65|125.27|   121.1|  null| 120.89143|       APPLE|\n",
      "|2020-10-14|123.03|119.62| 121.0|  121.19|  null| 120.98128|       APPLE|\n",
      "|2020-10-15| 121.2|118.15|118.72|  120.71|  null|120.502106|       APPLE|\n",
      "|2020-10-16|121.55|118.81|121.28|  119.02|  null| 118.81501|       APPLE|\n",
      "|2020-10-19|120.42|115.66|119.96|  115.98|  null| 115.78025|       APPLE|\n",
      "|2020-10-20|118.98|115.63| 116.2|  117.51|  null| 117.30762|       APPLE|\n",
      "|2020-10-21|118.71|116.45|116.67|  116.87|  null|116.668724|       APPLE|\n",
      "|2020-10-22|118.04|114.59|117.45|  115.75|  null|115.550644|       APPLE|\n",
      "|2020-10-23|116.55|114.28|116.39|  115.04|  null| 114.84187|       APPLE|\n",
      "|2020-10-26|116.55|112.88|114.01|  115.05|  null| 114.85185|       APPLE|\n",
      "|2020-10-27|117.28|114.54|115.49|   116.6|  null| 116.39918|       APPLE|\n",
      "|2020-10-28|115.43| 111.1|115.05|   111.2|  null| 111.00848|       APPLE|\n",
      "|2020-10-29|116.93| 112.2|112.37|  115.32|  null| 115.12138|       APPLE|\n",
      "|2020-10-30|111.99|107.72|111.06|  108.86|  null|108.672516|       APPLE|\n",
      "|2020-11-02|110.68|107.32|109.11|  108.77|  null|108.582664|       APPLE|\n",
      "|2020-11-03|111.49|108.73|109.66|  110.44|  null|110.249794|       APPLE|\n",
      "|2020-11-04|115.59|112.35|114.14|  114.95|  null| 114.75202|       APPLE|\n",
      "|2020-11-05|119.62|116.87|117.95|  119.03|  null|   118.825|       APPLE|\n",
      "|2020-11-06| 119.2|116.13|118.32|  118.69|  null|    118.69|       APPLE|\n",
      "|2020-11-09|121.99|116.05| 120.5|  116.32|  null|    116.32|       APPLE|\n",
      "|2020-11-10|117.59|114.13|115.55|  115.97|  null|    115.97|       APPLE|\n",
      "|2020-11-11|119.63|116.44|117.19|  119.49|  null|    119.49|       APPLE|\n",
      "|2020-11-12|120.53|118.57|119.62|  119.21|  null|    119.21|       APPLE|\n",
      "|2020-11-13|119.67|117.87|119.44|  119.26|  null|    119.26|       APPLE|\n",
      "|2020-11-16|120.99|118.15|118.92|   120.3|  null|     120.3|       APPLE|\n",
      "|2020-11-17|120.67|118.96|119.55|  119.39|  null|    119.39|       APPLE|\n",
      "|2020-11-18|119.82| 118.0|118.61|  118.03|  null|    118.03|       APPLE|\n",
      "|2020-11-19|119.06|116.81|117.59|  118.64|  null|    118.64|       APPLE|\n",
      "|2020-11-20|118.77|117.29|118.64|  117.34|  null|    117.34|       APPLE|\n",
      "|2020-11-23|117.62|113.75|117.18|  113.85|  null|    113.85|       APPLE|\n",
      "|2020-11-24|115.85|112.59|113.91|  115.17|  null|    115.17|       APPLE|\n",
      "|2020-11-25|116.75|115.17|115.55|  116.03|  null|    116.03|       APPLE|\n",
      "|2020-11-27|117.49|116.22|116.57|  116.59|  null|    116.59|       APPLE|\n",
      "|2020-11-30|120.97|116.81|116.97|  119.05|  null|    119.05|       APPLE|\n",
      "|2020-12-01|123.47|120.01|121.01|  122.72|  null|    122.72|       APPLE|\n",
      "|2020-12-02|122.62|120.89|122.02|122.1593|  null|  122.1593|       APPLE|\n",
      "+----------+------+------+------+--------+------+----------+------------+\n",
      "\n",
      "Time range of the stock : 1429 days, 0:00:00\n",
      "FACEBOOK size : 987\n",
      "nb_missing_values :\n",
      "+----+---+----+-----+------+---------+\n",
      "|High|Low|Open|Close|Volume|Adj Close|\n",
      "+----+---+----+-----+------+---------+\n",
      "|   0|  0|   0|    0|     0|        0|\n",
      "+----+---+----+-----+------+---------+\n",
      "\n",
      "+-------+------------------+-----------------+------------------+------------------+--------------------+------------------+------------+\n",
      "|summary|              High|              Low|              Open|             Close|              Volume|         Adj Close|company_name|\n",
      "+-------+------------------+-----------------+------------------+------------------+--------------------+------------------+------------+\n",
      "|  count|               987|              987|               987|               987|                 987|               987|         987|\n",
      "|   mean| 186.3984500224105|182.0770063931698|184.23939196461964|184.34894618968713|2.0852387126646403E7|184.34894618968713|        null|\n",
      "| stddev|37.254783636139116|35.96107958363421| 36.62328370702378| 36.62017415511841|1.3239300733826615E7| 36.62017415511841|        null|\n",
      "|    min|            117.84|           115.51|            116.03|            116.86|             4113594|            116.86|    FACEBOOK|\n",
      "|    max|            304.67|           293.05|            300.16|            303.91|           169803700|            303.91|    FACEBOOK|\n",
      "+-------+------------------+-----------------+------------------+------------------+--------------------+------------------+------------+\n",
      "\n",
      "+----------+------+------+------+------+--------+---------+------------+\n",
      "|      Date|  High|   Low|  Open| Close|  Volume|Adj Close|company_name|\n",
      "+----------+------+------+------+------+--------+---------+------------+\n",
      "|2017-01-03|117.84|115.51|116.03|116.86|20663900|   116.86|    FACEBOOK|\n",
      "|2017-01-04|119.66|117.29|117.55|118.69|19630900|   118.69|    FACEBOOK|\n",
      "|2017-01-05|120.95|118.32|118.86|120.67|19492200|   120.67|    FACEBOOK|\n",
      "|2017-01-06|123.88|120.03|120.98|123.41|28545300|   123.41|    FACEBOOK|\n",
      "|2017-01-09|125.43|123.04|123.55| 124.9|22880400|    124.9|    FACEBOOK|\n",
      "|2017-01-10| 125.5|124.28|124.82|124.35|17324600|   124.35|    FACEBOOK|\n",
      "|2017-01-11|126.12|124.06|124.35|126.09|18356500|   126.09|    FACEBOOK|\n",
      "|2017-01-12|126.73| 124.8|125.61|126.62|18653900|   126.62|    FACEBOOK|\n",
      "|2017-01-13|129.27|127.37|127.49|128.34|24884300|   128.34|    FACEBOOK|\n",
      "|2017-01-17|128.34| 127.4|128.04|127.87|15294500|   127.87|    FACEBOOK|\n",
      "|2017-01-18|128.43|126.84|128.41|127.92|13145900|   127.92|    FACEBOOK|\n",
      "|2017-01-19|128.35|127.45|128.23|127.55|12195500|   127.55|    FACEBOOK|\n",
      "|2017-01-20|128.48|126.78| 128.1|127.04|19097200|   127.04|    FACEBOOK|\n",
      "|2017-01-23|129.25|126.95|127.31|128.93|16593600|   128.93|    FACEBOOK|\n",
      "|2017-01-24| 129.9|128.38|129.38|129.37|15162700|   129.37|    FACEBOOK|\n",
      "|2017-01-25|131.74|129.77| 130.0|131.48|18731300|   131.48|    FACEBOOK|\n",
      "|2017-01-26|133.14|131.44|131.63|132.78|20020100|   132.78|    FACEBOOK|\n",
      "|2017-01-27|132.95|131.08|132.68|132.18|19539500|   132.18|    FACEBOOK|\n",
      "|2017-01-30|131.58| 129.6|131.58|130.98|18956100|   130.98|    FACEBOOK|\n",
      "|2017-01-31|130.66|129.52|130.17|130.32|19790500|   130.32|    FACEBOOK|\n",
      "|2017-02-01|133.49|130.68|132.25|133.23|50139800|   133.23|    FACEBOOK|\n",
      "|2017-02-02|135.49| 130.4|133.22|130.84|54366400|   130.84|    FACEBOOK|\n",
      "|2017-02-03|132.85|130.76|131.24|130.98|24804900|   130.98|    FACEBOOK|\n",
      "|2017-02-06|132.06| 130.3|130.98|132.06|17058500|   132.06|    FACEBOOK|\n",
      "|2017-02-07| 133.0|131.66|132.24|131.84|14596400|   131.84|    FACEBOOK|\n",
      "|2017-02-08|134.44|132.44| 132.6| 134.2|22390600|    134.2|    FACEBOOK|\n",
      "|2017-02-09| 134.5|133.31|134.49|134.14|16470600|   134.14|    FACEBOOK|\n",
      "|2017-02-10|134.94|133.68| 134.1|134.19|15061900|   134.19|    FACEBOOK|\n",
      "|2017-02-13| 134.7| 133.7| 134.7|134.05|13526200|   134.05|    FACEBOOK|\n",
      "|2017-02-14|134.23|132.55| 134.1|133.85|14364900|   133.85|    FACEBOOK|\n",
      "|2017-02-15| 133.7|132.66|133.45|133.44|13226500|   133.44|    FACEBOOK|\n",
      "|2017-02-16|133.87|133.02|133.07|133.84|12831100|   133.84|    FACEBOOK|\n",
      "|2017-02-17|134.09|133.17| 133.5|133.53|12276500|   133.53|    FACEBOOK|\n",
      "|2017-02-21|133.91| 132.9| 133.5|133.72|14759100|   133.72|    FACEBOOK|\n",
      "|2017-02-22|136.79|133.46| 133.6|136.12|27360100|   136.12|    FACEBOOK|\n",
      "|2017-02-23|136.12|134.33|135.89|135.36|18422500|   135.36|    FACEBOOK|\n",
      "|2017-02-24|135.62|134.16|134.16|135.44|12625700|   135.44|    FACEBOOK|\n",
      "|2017-02-27|137.18|135.02|135.26|136.41|14306700|   136.41|    FACEBOOK|\n",
      "|2017-02-28|136.81|134.75|136.79|135.54|16112100|   135.54|    FACEBOOK|\n",
      "|2017-03-01|137.48| 136.3|136.47|137.42|16257000|   137.42|    FACEBOOK|\n",
      "+----------+------+------+------+------+--------+---------+------------+\n",
      "only showing top 40 rows\n",
      "\n"
     ]
    },
    {
     "name": "stderr",
     "output_type": "stream",
     "text": [
      "2022-06-20 16:04:28,380 WARN window.WindowExec: No Partition Defined for Window operation! Moving all data to a single partition, this can cause serious performance degradation.\n",
      "2022-06-20 16:04:28,381 WARN window.WindowExec: No Partition Defined for Window operation! Moving all data to a single partition, this can cause serious performance degradation.\n",
      "2022-06-20 16:04:28,593 WARN window.WindowExec: No Partition Defined for Window operation! Moving all data to a single partition, this can cause serious performance degradation.\n",
      "2022-06-20 16:04:28,625 WARN window.WindowExec: No Partition Defined for Window operation! Moving all data to a single partition, this can cause serious performance degradation.\n"
     ]
    },
    {
     "name": "stdout",
     "output_type": "stream",
     "text": [
      "+----------+------+-------+------+------+--------+---------+------------+\n",
      "|      Date|  High|    Low|  Open| Close|  Volume|Adj Close|company_name|\n",
      "+----------+------+-------+------+------+--------+---------+------------+\n",
      "|2020-10-07|260.18| 254.82|259.21|258.12|23133400|   258.12|    FACEBOOK|\n",
      "|2020-10-08|264.62| 259.15|259.75|263.76|16312800|   263.76|    FACEBOOK|\n",
      "|2020-10-09|264.75| 262.17|264.52|264.45|14107800|   264.45|    FACEBOOK|\n",
      "|2020-10-12|280.18| 267.87| 270.2|275.75|31019300|   275.75|    FACEBOOK|\n",
      "|2020-10-13| 279.1| 273.39|277.58|276.14|18063300|   276.14|    FACEBOOK|\n",
      "|2020-10-14|278.75|  271.5|277.62|271.82|15601200|   271.82|    FACEBOOK|\n",
      "|2020-10-15|269.04| 263.67| 267.6|266.72|15416100|   266.72|    FACEBOOK|\n",
      "|2020-10-16|271.37|  265.3|267.38|265.93|16622700|   265.93|    FACEBOOK|\n",
      "|2020-10-19|268.55| 259.88|265.53| 261.4|13587000|    261.4|    FACEBOOK|\n",
      "|2020-10-20| 269.7| 262.88|263.06|267.56|18763200|   267.56|    FACEBOOK|\n",
      "|2020-10-21|283.05| 276.37|279.56|278.73|28998600|   278.73|    FACEBOOK|\n",
      "|2020-10-22|282.45| 275.04|279.87|278.12|16720000|   278.12|    FACEBOOK|\n",
      "|2020-10-23|285.24| 276.82| 278.8|284.79|17535200|   284.79|    FACEBOOK|\n",
      "|2020-10-26|285.23| 274.26|283.16|277.11|21322900|   277.11|    FACEBOOK|\n",
      "|2020-10-27|284.51| 276.31|278.76|283.29|16287200|   283.29|    FACEBOOK|\n",
      "|2020-10-28|278.79| 267.26|278.79|267.67|23121800|   267.67|    FACEBOOK|\n",
      "|2020-10-29| 283.6| 273.78|276.55|280.83|32368100|   280.83|    FACEBOOK|\n",
      "|2020-10-30| 276.7|  259.1| 274.5|263.11|47247800|   263.11|    FACEBOOK|\n",
      "|2020-11-02|270.47| 257.34| 264.6|261.36|27165700|   261.36|    FACEBOOK|\n",
      "|2020-11-03|270.05| 260.88|263.16| 265.3|17961900|    265.3|    FACEBOOK|\n",
      "|2020-11-04|288.94| 278.62| 281.0|287.38|35364400|   287.38|    FACEBOOK|\n",
      "|2020-11-05|297.38| 288.95| 291.9|294.68|23823600|   294.68|    FACEBOOK|\n",
      "|2020-11-06| 294.6| 288.06|293.95|293.41|13891000|   293.41|    FACEBOOK|\n",
      "|2020-11-09|292.58| 278.53|289.87|278.77|25117700|   278.77|    FACEBOOK|\n",
      "|2020-11-10| 274.0|  264.0| 273.1|272.43|29067700|   272.43|    FACEBOOK|\n",
      "|2020-11-11| 278.4| 272.48|273.47|276.48|14957000|   276.48|    FACEBOOK|\n",
      "|2020-11-12|279.75| 274.43|277.18|275.08|12899500|   275.08|    FACEBOOK|\n",
      "|2020-11-13|277.76|  273.1|277.72|276.95|10391200|   276.95|    FACEBOOK|\n",
      "|2020-11-16|279.41| 274.63|275.05|278.96|12970400|   278.96|    FACEBOOK|\n",
      "|2020-11-17|277.68| 273.29|277.68| 275.0|15040300|    275.0|    FACEBOOK|\n",
      "|2020-11-18|277.39| 271.84|274.52|271.97|12152900|   271.97|    FACEBOOK|\n",
      "|2020-11-19|273.47| 269.19|271.02|272.94|12963700|   272.94|    FACEBOOK|\n",
      "|2020-11-20| 273.0| 269.41|272.56| 269.7|18114700|    269.7|    FACEBOOK|\n",
      "|2020-11-23|270.95| 264.53|270.89|268.43|20990800|   268.43|    FACEBOOK|\n",
      "|2020-11-24|277.82| 267.87|268.49|276.92|16930400|   276.92|    FACEBOOK|\n",
      "|2020-11-25|280.18| 272.65|278.14|275.59|12467000|   275.59|    FACEBOOK|\n",
      "|2020-11-27|279.13| 274.82|277.39|277.81| 7808400|   277.81|    FACEBOOK|\n",
      "|2020-11-30| 277.7| 271.01|276.03|276.97|16693300|   276.97|    FACEBOOK|\n",
      "|2020-12-01| 289.3| 278.96|279.16|286.55|20738900|   286.55|    FACEBOOK|\n",
      "|2020-12-02|285.95|280.825|285.36|285.65| 4113594|   285.65|    FACEBOOK|\n",
      "+----------+------+-------+------+------+--------+---------+------------+\n",
      "\n",
      "Time range of the stock : 1429 days, 0:00:00\n",
      "GOOGLE size : 987\n",
      "nb_missing_values :\n",
      "+----+---+----+-----+------+---------+\n",
      "|High|Low|Open|Close|Volume|Adj Close|\n",
      "+----+---+----+-----+------+---------+\n",
      "|   0|  0|   0|    0|     0|        0|\n",
      "+----+---+----+-----+------+---------+\n",
      "\n",
      "+-------+------------------+------------------+------------------+------------------+------------------+------------------+------------+\n",
      "|summary|              High|               Low|              Open|             Close|            Volume|         Adj Close|company_name|\n",
      "+-------+------------------+------------------+------------------+------------------+------------------+------------------+------------+\n",
      "|  count|               987|               987|               987|               987|               987|               987|         987|\n",
      "|   mean|1175.6790605137292|1152.9178970166856|1163.8854444324065|1164.8144006854736|1634631.7335359675|1164.8144006854736|        null|\n",
      "| stddev| 218.8235632110295| 212.2207173542823|214.97779187990264|215.44599608390612| 716425.6760312195|215.44599608390612|        null|\n",
      "|    min|            789.63|             775.8|            778.81|            786.14|            285821|            786.14|      GOOGLE|\n",
      "|    max|           1824.83|         1789.4725|            1798.1|           1807.12|           6207000|           1807.12|      GOOGLE|\n",
      "+-------+------------------+------------------+------------------+------------------+------------------+------------------+------------+\n",
      "\n",
      "+----------+-------+-------+------+-------+-------+---------+------------+\n",
      "|      Date|   High|    Low|  Open|  Close| Volume|Adj Close|company_name|\n",
      "+----------+-------+-------+------+-------+-------+---------+------------+\n",
      "|2017-01-03| 789.63|  775.8|778.81| 786.14|1657300|   786.14|      GOOGLE|\n",
      "|2017-01-04| 791.34| 783.16|788.36|  786.9|1073000|    786.9|      GOOGLE|\n",
      "|2017-01-05| 794.48| 785.02|786.08| 794.02|1335200|   794.02|      GOOGLE|\n",
      "|2017-01-06|  807.9|792.204|795.26| 806.15|1640200|   806.15|      GOOGLE|\n",
      "|2017-01-09|809.966| 802.83| 806.4| 806.65|1274600|   806.65|      GOOGLE|\n",
      "|2017-01-10| 809.13| 803.51|807.86| 804.79|1176800|   804.79|      GOOGLE|\n",
      "|2017-01-11| 808.15| 801.37| 805.0| 807.91|1065900|   807.91|      GOOGLE|\n",
      "|2017-01-12| 807.39| 799.17|807.14| 806.36|1353100|   806.36|      GOOGLE|\n",
      "|2017-01-13|811.224| 806.69|807.48| 807.88|1099200|   807.88|      GOOGLE|\n",
      "|2017-01-17| 807.14| 800.37|807.08| 804.61|1362100|   804.61|      GOOGLE|\n",
      "|2017-01-18|806.205| 800.99|805.81| 806.07|1294400|   806.07|      GOOGLE|\n",
      "|2017-01-19| 809.48|  801.8|805.12|802.175| 919300|  802.175|      GOOGLE|\n",
      "|2017-01-20| 806.91| 801.69|806.91| 805.02|1670000|   805.02|      GOOGLE|\n",
      "|2017-01-23| 820.87| 803.74|807.25| 819.31|1963600|   819.31|      GOOGLE|\n",
      "|2017-01-24|  825.9|817.821| 822.3| 823.87|1474000|   823.87|      GOOGLE|\n",
      "|2017-01-25| 835.77| 825.06|829.62| 835.67|1494500|   835.67|      GOOGLE|\n",
      "|2017-01-26|  838.0| 827.01|837.81| 832.15|2973900|   832.15|      GOOGLE|\n",
      "|2017-01-27| 841.95| 820.44|834.71| 823.31|2965800|   823.31|      GOOGLE|\n",
      "|2017-01-30| 815.84|  799.8|814.66| 802.32|3246600|   802.32|      GOOGLE|\n",
      "|2017-01-31| 801.25| 790.52|796.86| 796.79|2160600|   796.79|      GOOGLE|\n",
      "|2017-02-01| 801.19| 791.19|799.68|795.695|2029700|  795.695|      GOOGLE|\n",
      "|2017-02-02|  802.7|  792.0| 793.8| 798.53|1532100|   798.53|      GOOGLE|\n",
      "|2017-02-03|  806.0| 800.37|802.99| 801.49|1463400|   801.49|      GOOGLE|\n",
      "|2017-02-06| 801.67| 795.25| 799.7| 801.34|1184500|   801.34|      GOOGLE|\n",
      "|2017-02-07|  810.5| 801.78|803.99| 806.97|1241200|   806.97|      GOOGLE|\n",
      "|2017-02-08| 811.84| 803.19| 807.0| 808.38|1155300|   808.38|      GOOGLE|\n",
      "|2017-02-09| 810.66| 804.54|809.51| 809.56| 989700|   809.56|      GOOGLE|\n",
      "|2017-02-10| 815.25| 809.78| 811.7| 813.67|1135000|   813.67|      GOOGLE|\n",
      "|2017-02-13|820.959| 815.49| 816.0| 819.24|1213300|   819.24|      GOOGLE|\n",
      "|2017-02-14|  823.0|  816.0| 819.0| 820.45|1054700|   820.45|      GOOGLE|\n",
      "|2017-02-15|  823.0| 818.47|819.36| 818.98|1313600|   818.98|      GOOGLE|\n",
      "|2017-02-16|  824.4| 818.98|819.93| 824.16|1287600|   824.16|      GOOGLE|\n",
      "|2017-02-17| 828.07|821.655|823.02| 828.07|1611000|   828.07|      GOOGLE|\n",
      "|2017-02-21| 833.45| 828.35|828.66| 831.66|1262300|   831.66|      GOOGLE|\n",
      "|2017-02-22| 833.25| 828.64|828.66| 830.76| 982900|   830.76|      GOOGLE|\n",
      "|2017-02-23| 832.46| 822.88|830.12| 831.33|1472800|   831.33|      GOOGLE|\n",
      "|2017-02-24|  829.0|  824.2|827.73| 828.64|1392200|   828.64|      GOOGLE|\n",
      "|2017-02-27|  830.5|  824.0|824.55| 829.28|1101500|   829.28|      GOOGLE|\n",
      "|2017-02-28| 828.54|  820.2|825.61| 823.21|2260800|   823.21|      GOOGLE|\n",
      "|2017-03-01|836.255| 827.26|828.85| 835.24|1496500|   835.24|      GOOGLE|\n",
      "+----------+-------+-------+------+-------+-------+---------+------------+\n",
      "only showing top 40 rows\n",
      "\n"
     ]
    },
    {
     "name": "stderr",
     "output_type": "stream",
     "text": [
      "2022-06-20 16:04:30,810 WARN window.WindowExec: No Partition Defined for Window operation! Moving all data to a single partition, this can cause serious performance degradation.\n",
      "2022-06-20 16:04:30,811 WARN window.WindowExec: No Partition Defined for Window operation! Moving all data to a single partition, this can cause serious performance degradation.\n",
      "2022-06-20 16:04:31,028 WARN window.WindowExec: No Partition Defined for Window operation! Moving all data to a single partition, this can cause serious performance degradation.\n",
      "2022-06-20 16:04:31,061 WARN window.WindowExec: No Partition Defined for Window operation! Moving all data to a single partition, this can cause serious performance degradation.\n"
     ]
    },
    {
     "name": "stdout",
     "output_type": "stream",
     "text": [
      "+----------+--------+---------+--------+-------+-------+---------+------------+\n",
      "|      Date|    High|      Low|    Open|  Close| Volume|Adj Close|company_name|\n",
      "+----------+--------+---------+--------+-------+-------+---------+------------+\n",
      "|2020-10-07| 1468.96|   1436.0| 1464.29|1460.29|1746200|  1460.29|      GOOGLE|\n",
      "|2020-10-08|  1490.0|  1465.09| 1465.09|1485.93|1187800|  1485.93|      GOOGLE|\n",
      "|2020-10-09| 1516.52|  1489.45|  1494.7|1515.22|1435300|  1515.22|      GOOGLE|\n",
      "|2020-10-12| 1593.86|  1532.57|  1543.0|1569.15|2482600|  1569.15|      GOOGLE|\n",
      "|2020-10-13|  1590.0|   1563.2| 1583.73|1571.68|1601000|  1571.68|      GOOGLE|\n",
      "|2020-10-14|1587.684|  1550.53| 1578.59|1568.08|1931000|  1568.08|      GOOGLE|\n",
      "|2020-10-15|1575.105|  1545.03| 1547.15|1559.13|1540000|  1559.13|      GOOGLE|\n",
      "|2020-10-16| 1581.13|   1563.0| 1565.85|1573.01|1434700|  1573.01|      GOOGLE|\n",
      "|2020-10-19| 1588.15|   1528.0| 1580.46|1534.61|1607100|  1534.61|      GOOGLE|\n",
      "|2020-10-20|  1577.5|  1525.67| 1527.05|1555.93|2241700|  1555.93|      GOOGLE|\n",
      "|2020-10-21| 1618.73|  1571.63| 1573.33|1593.31|2568300|  1593.31|      GOOGLE|\n",
      "|2020-10-22| 1621.99|   1585.0| 1593.05|1615.33|1433600|  1615.33|      GOOGLE|\n",
      "|2020-10-23| 1642.36|  1620.51| 1626.07| 1641.0|1375800|   1641.0|      GOOGLE|\n",
      "|2020-10-26| 1638.24|   1576.5| 1625.01|1590.45|1853300|  1590.45|      GOOGLE|\n",
      "|2020-10-27|1606.845|  1582.78| 1595.67|1604.26|1229000|  1604.26|      GOOGLE|\n",
      "|2020-10-28| 1561.35|  1514.62| 1559.74|1516.62|1834000|  1516.62|      GOOGLE|\n",
      "|2020-10-29| 1593.71|  1522.24| 1522.36|1567.24|2003100|  1567.24|      GOOGLE|\n",
      "|2020-10-30|  1687.0|  1604.46| 1672.11|1621.01|4329100|  1621.01|      GOOGLE|\n",
      "|2020-11-02| 1660.77|  1616.03| 1628.16|1626.03|2535400|  1626.03|      GOOGLE|\n",
      "|2020-11-03|  1661.7|  1616.62| 1631.78|1650.21|1661700|  1650.21|      GOOGLE|\n",
      "|2020-11-04|1771.365|  1706.03| 1710.28|1749.13|3570900|  1749.13|      GOOGLE|\n",
      "|2020-11-05| 1793.64|  1750.51|  1781.0|1763.37|2065800|  1763.37|      GOOGLE|\n",
      "|2020-11-06| 1772.43|  1740.35| 1753.95|1761.75|1660900|  1761.75|      GOOGLE|\n",
      "|2020-11-09| 1818.06|  1760.02|  1790.9| 1763.0|2268300|   1763.0|      GOOGLE|\n",
      "|2020-11-10|  1763.0|   1717.3| 1731.09|1740.39|2636100|  1740.39|      GOOGLE|\n",
      "|2020-11-11| 1764.22| 1747.365|  1750.0|1752.71|1264000|  1752.71|      GOOGLE|\n",
      "|2020-11-12| 1768.27|   1745.6| 1747.63|1749.84|1247500|  1749.84|      GOOGLE|\n",
      "|2020-11-13| 1781.04|  1744.55| 1757.63|1777.02|1499900|  1777.02|      GOOGLE|\n",
      "|2020-11-16| 1799.07|  1767.69|  1771.7|1781.38|1246800|  1781.38|      GOOGLE|\n",
      "|2020-11-17|  1785.0|   1767.0| 1776.94|1770.15|1147100|  1770.15|      GOOGLE|\n",
      "|2020-11-18| 1773.47|  1746.14| 1765.23|1746.78|1173500|  1746.78|      GOOGLE|\n",
      "|2020-11-19| 1769.59| 1737.005| 1738.38|1763.92|1249900|  1763.92|      GOOGLE|\n",
      "|2020-11-20|  1774.0|  1741.86| 1765.21|1742.19|2313500|  1742.19|      GOOGLE|\n",
      "|2020-11-23|  1753.9|  1717.72|  1749.6|1734.86|2161600|  1734.86|      GOOGLE|\n",
      "|2020-11-24|  1771.6|  1727.69|  1730.5|1768.88|1578000|  1768.88|      GOOGLE|\n",
      "|2020-11-25| 1778.54|  1756.54| 1772.89|1771.43|1045800|  1771.43|      GOOGLE|\n",
      "|2020-11-27|  1804.0|  1772.44| 1773.09|1793.19| 884900|  1793.19|      GOOGLE|\n",
      "|2020-11-30|1788.065|   1755.0|1781.184|1760.74|1823800|  1760.74|      GOOGLE|\n",
      "|2020-12-01| 1824.83|  1769.37| 1774.37| 1798.1|1736900|   1798.1|      GOOGLE|\n",
      "|2020-12-02|  1809.0|1789.4725|  1798.1|1807.12| 285821|  1807.12|      GOOGLE|\n",
      "+----------+--------+---------+--------+-------+-------+---------+------------+\n",
      "\n",
      "Time range of the stock : 1429 days, 0:00:00\n",
      "MICROSOFT size : 987\n",
      "nb_missing_values :\n",
      "+----+---+----+-----+------+---------+\n",
      "|High|Low|Open|Close|Volume|Adj Close|\n",
      "+----+---+----+-----+------+---------+\n",
      "|   0|  0|   0|    0|   987|        0|\n",
      "+----+---+----+-----+------+---------+\n",
      "\n",
      "+-------+------------------+------------------+------------------+------------------+------+------------------+------------+\n",
      "|summary|              High|               Low|              Open|             Close|Volume|         Adj Close|company_name|\n",
      "+-------+------------------+------------------+------------------+------------------+------+------------------+------------+\n",
      "|  count|               987|               987|               987|               987|     0|               987|         987|\n",
      "|   mean|123.52858665334901|121.02308006634466|122.32611970601957|122.34503256924367|  null|119.77032003045203|        null|\n",
      "| stddev| 46.40416482581066|45.038031013567725| 45.73307377448831| 45.74600811823214|  null| 46.76978863281242|        null|\n",
      "|    min|             62.66|             61.95|             62.19|              62.3|  null|         58.410725|   MICROSOFT|\n",
      "|    max|            232.86|            227.35|            229.27|            231.65|  null|          231.0451|   MICROSOFT|\n",
      "+-------+------------------+------------------+------------------+------------------+------+------------------+------------+\n",
      "\n",
      "+----------+-----+-----+-----+-----+------+---------+------------+\n",
      "|      Date| High|  Low| Open|Close|Volume|Adj Close|company_name|\n",
      "+----------+-----+-----+-----+-----+------+---------+------------+\n",
      "|2017-01-03|62.84|62.13|62.79|62.58|  null|58.673244|   MICROSOFT|\n",
      "|2017-01-04|62.75|62.12|62.48| 62.3|  null|58.410725|   MICROSOFT|\n",
      "|2017-01-05|62.66|62.03|62.19| 62.3|  null|58.410725|   MICROSOFT|\n",
      "|2017-01-06|63.15|62.04| 62.3|62.84|  null|58.917015|   MICROSOFT|\n",
      "|2017-01-09|63.08|62.54|62.76|62.64|  null|58.729496|   MICROSOFT|\n",
      "|2017-01-10|63.07|62.28|62.73|62.62|  null|58.710747|   MICROSOFT|\n",
      "|2017-01-11|63.23|62.43|62.61|63.19|  null| 59.24516|   MICROSOFT|\n",
      "|2017-01-12| 63.4|61.95|63.06|62.61|  null| 58.70137|   MICROSOFT|\n",
      "|2017-01-13|62.87|62.35|62.62| 62.7|  null|58.785755|   MICROSOFT|\n",
      "|2017-01-17| 62.7|62.03|62.68|62.53|  null| 58.62637|   MICROSOFT|\n",
      "|2017-01-18| 62.7|62.12|62.67| 62.5|  null|58.598248|   MICROSOFT|\n",
      "|2017-01-19|62.98| 62.2|62.24| 62.3|  null|58.410725|   MICROSOFT|\n",
      "|2017-01-20|62.82|62.37|62.67|62.74|  null| 58.82326|   MICROSOFT|\n",
      "|2017-01-23|63.12|62.57| 62.7|62.96|  null|59.029526|   MICROSOFT|\n",
      "|2017-01-24|63.74|62.94| 63.2|63.52|  null| 59.55457|   MICROSOFT|\n",
      "|2017-01-25| 64.1|63.45|63.95|63.68|  null|59.704575|   MICROSOFT|\n",
      "|2017-01-26|64.54|63.55|64.12|64.27|  null|60.257736|   MICROSOFT|\n",
      "|2017-01-27|65.91|64.89|65.39|65.78|  null| 61.67348|   MICROSOFT|\n",
      "|2017-01-30|65.79| 64.8|65.69|65.13|  null|61.064045|   MICROSOFT|\n",
      "|2017-01-31|65.15|64.26|64.86|64.65|  null| 60.61402|   MICROSOFT|\n",
      "|2017-02-01|64.62|63.47|64.36|63.58|  null|59.610825|   MICROSOFT|\n",
      "|2017-02-02|63.41|62.75|63.25|63.17|  null|59.226406|   MICROSOFT|\n",
      "|2017-02-03| 63.7|63.07| 63.5|63.68|  null|59.704575|   MICROSOFT|\n",
      "|2017-02-06|63.65|63.14| 63.5|63.64|  null| 59.66707|   MICROSOFT|\n",
      "|2017-02-07|63.78|63.23|63.74|63.43|  null| 59.47018|   MICROSOFT|\n",
      "|2017-02-08|63.81|63.22|63.57|63.34|  null|  59.3858|   MICROSOFT|\n",
      "|2017-02-09|64.44|63.32|63.52|64.06|  null| 60.06085|   MICROSOFT|\n",
      "|2017-02-10| 64.3|63.98|64.25| 64.0|  null|60.004604|   MICROSOFT|\n",
      "|2017-02-13|64.86|64.13|64.24|64.72|  null|60.679653|   MICROSOFT|\n",
      "|2017-02-14|64.72|64.02|64.41|64.57|  null|60.906044|   MICROSOFT|\n",
      "|2017-02-15|64.57|64.16| 64.5|64.53|  null|60.868298|   MICROSOFT|\n",
      "|2017-02-16|65.24|64.44|64.74|64.52|  null| 60.85886|   MICROSOFT|\n",
      "|2017-02-17|64.69| 64.3|64.47|64.62|  null|60.953197|   MICROSOFT|\n",
      "|2017-02-21|64.95|64.45|64.61|64.49|  null| 60.83057|   MICROSOFT|\n",
      "|2017-02-22|64.39|64.05|64.33|64.36|  null|60.707947|   MICROSOFT|\n",
      "|2017-02-23|64.73|64.19|64.42|64.62|  null|60.953197|   MICROSOFT|\n",
      "|2017-02-24| 64.8|64.14|64.53|64.62|  null|60.953197|   MICROSOFT|\n",
      "|2017-02-27|64.54|64.05|64.54|64.23|  null| 60.58533|   MICROSOFT|\n",
      "|2017-02-28| 64.2|63.76|64.08|63.98|  null|60.349503|   MICROSOFT|\n",
      "|2017-03-01|64.99|64.02|64.13|64.94|  null| 61.25505|   MICROSOFT|\n",
      "+----------+-----+-----+-----+-----+------+---------+------------+\n",
      "only showing top 40 rows\n",
      "\n"
     ]
    },
    {
     "name": "stderr",
     "output_type": "stream",
     "text": [
      "2022-06-20 16:04:33,209 WARN window.WindowExec: No Partition Defined for Window operation! Moving all data to a single partition, this can cause serious performance degradation.\n",
      "2022-06-20 16:04:33,210 WARN window.WindowExec: No Partition Defined for Window operation! Moving all data to a single partition, this can cause serious performance degradation.\n",
      "2022-06-20 16:04:33,423 WARN window.WindowExec: No Partition Defined for Window operation! Moving all data to a single partition, this can cause serious performance degradation.\n",
      "2022-06-20 16:04:33,452 WARN window.WindowExec: No Partition Defined for Window operation! Moving all data to a single partition, this can cause serious performance degradation.\n"
     ]
    },
    {
     "name": "stdout",
     "output_type": "stream",
     "text": [
      "+----------+-------+------+------+-------+------+---------+------------+\n",
      "|      Date|   High|   Low|  Open|  Close|Volume|Adj Close|company_name|\n",
      "+----------+-------+------+------+-------+------+---------+------------+\n",
      "|2020-10-07| 210.11|206.72|207.06| 209.83|  null|209.28209|   MICROSOFT|\n",
      "|2020-10-08| 211.19|208.32|210.51| 210.58|  null|210.03014|   MICROSOFT|\n",
      "|2020-10-09| 215.86|211.23|211.23| 215.81|  null|215.24648|   MICROSOFT|\n",
      "|2020-10-12| 223.86|216.81|218.79|  221.4|  null|220.82187|   MICROSOFT|\n",
      "|2020-10-13| 225.21|220.43|222.72| 222.86|  null|222.27806|   MICROSOFT|\n",
      "|2020-10-14| 224.22|219.13| 223.0| 220.86|  null|220.28328|   MICROSOFT|\n",
      "|2020-10-15| 220.36|216.01| 217.1| 219.66|  null|219.08643|   MICROSOFT|\n",
      "|2020-10-16| 222.29|219.32|220.15| 219.66|  null|219.08643|   MICROSOFT|\n",
      "|2020-10-19|  222.3|213.72|220.42| 214.22|  null|213.66063|   MICROSOFT|\n",
      "|2020-10-20| 217.37|213.09| 215.8| 214.65|  null| 214.0895|   MICROSOFT|\n",
      "|2020-10-21| 216.92|213.12|213.12|  214.8|  null|214.23912|   MICROSOFT|\n",
      "|2020-10-22| 216.06| 211.7|213.93| 214.89|  null|214.32887|   MICROSOFT|\n",
      "|2020-10-23| 216.28|213.16|215.03| 216.23|  null|215.66537|   MICROSOFT|\n",
      "|2020-10-26| 216.34| 208.1|213.85| 210.08|  null|209.53143|   MICROSOFT|\n",
      "|2020-10-27| 214.67|210.33|211.59| 213.25|  null|212.69316|   MICROSOFT|\n",
      "|2020-10-28| 208.84| 202.1|207.67| 202.68|  null|202.15076|   MICROSOFT|\n",
      "|2020-10-29| 207.36|203.37|204.07| 204.72|  null|204.18542|   MICROSOFT|\n",
      "|2020-10-30| 204.29|199.62| 203.5| 202.47|  null|201.94131|   MICROSOFT|\n",
      "|2020-11-02| 205.28|200.12|204.29| 202.33|  null|201.80167|   MICROSOFT|\n",
      "|2020-11-03| 208.12|203.12|203.89| 206.43|  null|205.89096|   MICROSOFT|\n",
      "|2020-11-04| 218.32|212.42|214.02| 216.39|  null|215.82495|   MICROSOFT|\n",
      "|2020-11-05| 224.12|221.15|222.04| 223.29|  null|222.70694|   MICROSOFT|\n",
      "|2020-11-06| 224.36|218.03|222.26| 223.72|  null|223.13582|   MICROSOFT|\n",
      "|2020-11-09| 228.12|217.88|224.44| 218.39|  null|217.81973|   MICROSOFT|\n",
      "|2020-11-10|  216.5|209.72| 214.5| 211.01|  null|  210.459|   MICROSOFT|\n",
      "|2020-11-11| 218.04| 212.2|212.39| 216.55|  null|215.98454|   MICROSOFT|\n",
      "|2020-11-12| 219.11|214.46|217.21| 215.44|  null|214.87744|   MICROSOFT|\n",
      "|2020-11-13| 217.42|214.16|216.36| 216.51|  null|215.94464|   MICROSOFT|\n",
      "|2020-11-16| 217.74|214.52|214.87| 217.23|  null|216.66277|   MICROSOFT|\n",
      "|2020-11-17| 217.68|214.08| 216.1| 214.46|  null|213.90001|   MICROSOFT|\n",
      "|2020-11-18| 215.17|210.93|213.65| 211.08|  null|   211.08|   MICROSOFT|\n",
      "|2020-11-19| 213.03|209.93|211.38| 212.42|  null|   212.42|   MICROSOFT|\n",
      "|2020-11-20| 213.29| 210.0| 212.2| 210.39|  null|   210.39|   MICROSOFT|\n",
      "|2020-11-23| 212.29|208.16|210.95| 210.11|  null|   210.11|   MICROSOFT|\n",
      "|2020-11-24| 214.25|208.86|209.59| 213.86|  null|   213.86|   MICROSOFT|\n",
      "|2020-11-25| 215.29|212.46|215.11| 213.87|  null|   213.87|   MICROSOFT|\n",
      "|2020-11-27| 216.27|214.04|214.85| 215.23|  null|   215.23|   MICROSOFT|\n",
      "|2020-11-30| 214.76|210.84| 214.1| 214.07|  null|   214.07|   MICROSOFT|\n",
      "|2020-12-01| 217.32|213.35|214.51| 216.21|  null|   216.21|   MICROSOFT|\n",
      "|2020-12-02|215.085| 212.8|214.88|214.127|  null|  214.127|   MICROSOFT|\n",
      "+----------+-------+------+------+-------+------+---------+------------+\n",
      "\n",
      "Time range of the stock : 1429 days, 0:00:00\n",
      "TESLA size : 987\n",
      "nb_missing_values :\n",
      "+----+---+----+-----+------+---------+\n",
      "|High|Low|Open|Close|Volume|Adj Close|\n",
      "+----+---+----+-----+------+---------+\n",
      "|   0|  0|   0|    0|   987|        0|\n",
      "+----+---+----+-----+------+---------+\n",
      "\n",
      "+-------+------------------+------------------+------------------+------------------+------+------------------+------------+\n",
      "|summary|              High|               Low|              Open|             Close|Volume|         Adj Close|company_name|\n",
      "+-------+------------------+------------------+------------------+------------------+------+------------------+------------+\n",
      "|  count|               987|               987|               987|               987|     0|               987|         987|\n",
      "|   mean|109.78768801858239|104.62396354636644|107.26065877433244|107.35318730208408|  null|107.35318730208408|        null|\n",
      "| stddev|111.32320643662912|104.77686876247262|108.22123794487165|108.29768349070845|  null|108.29768349070845|        null|\n",
      "|    min|            37.336|            35.398|             36.22|            35.794|  null|            35.794|       TESLA|\n",
      "|    max|             607.8|            578.45|            602.21|            585.76|  null|            585.76|       TESLA|\n",
      "+-------+------------------+------------------+------------------+------------------+------+------------------+------------+\n",
      "\n",
      "+----------+------+------+------+------+------+---------+------------+\n",
      "|      Date|  High|   Low|  Open| Close|Volume|Adj Close|company_name|\n",
      "+----------+------+------+------+------+------+---------+------------+\n",
      "|2017-01-03|44.066|42.192|42.972|43.398|  null|   43.398|       TESLA|\n",
      "|2017-01-04|  45.6|42.862| 42.95|45.398|  null|   45.398|       TESLA|\n",
      "|2017-01-05|45.496| 44.39|45.284| 45.35|  null|    45.35|       TESLA|\n",
      "|2017-01-06|46.062| 45.09|45.386|45.802|  null|   45.802|       TESLA|\n",
      "|2017-01-09|46.384|  45.6|45.794|46.256|  null|   46.256|       TESLA|\n",
      "|2017-01-10|  46.4|45.378|  46.4|45.974|  null|   45.974|       TESLA|\n",
      "|2017-01-11|45.996|45.336|45.814|45.946|  null|   45.946|       TESLA|\n",
      "|2017-01-12| 46.14|45.116|45.812|45.918|  null|   45.918|       TESLA|\n",
      "|2017-01-13| 47.57|45.918|  46.0| 47.55|  null|    47.55|       TESLA|\n",
      "|2017-01-17|47.992|46.874| 47.34|47.116|  null|   47.116|       TESLA|\n",
      "|2017-01-18|47.942|47.116| 47.33|47.672|  null|   47.672|       TESLA|\n",
      "|2017-01-19|49.736| 48.15| 49.45|48.752|  null|   48.752|       TESLA|\n",
      "|2017-01-20|  49.2|48.602|49.092|48.946|  null|   48.946|       TESLA|\n",
      "|2017-01-23|50.178|  49.1| 49.17|49.784|  null|   49.784|       TESLA|\n",
      "|2017-01-24| 50.96| 49.93|  50.0|50.922|  null|   50.922|       TESLA|\n",
      "|2017-01-25|51.692| 50.36|51.462|50.894|  null|   50.894|       TESLA|\n",
      "|2017-01-26|51.148| 50.15|50.858|50.502|  null|   50.502|       TESLA|\n",
      "|2017-01-27|  50.6|49.704|50.276| 50.59|  null|    50.59|       TESLA|\n",
      "|2017-01-30|51.058| 49.42|50.506|50.126|  null|   50.126|       TESLA|\n",
      "|2017-01-31|51.178| 49.54|49.848|50.386|  null|   50.386|       TESLA|\n",
      "|2017-02-01| 50.64| 49.81| 50.61|49.848|  null|   49.848|       TESLA|\n",
      "|2017-02-02|50.484|49.542|49.668| 50.31|  null|    50.31|       TESLA|\n",
      "|2017-02-03|50.436|49.936|50.382|50.266|  null|   50.266|       TESLA|\n",
      "|2017-02-06|51.564|50.126|  50.2|51.554|  null|   51.554|       TESLA|\n",
      "|2017-02-07|  52.0|51.284|51.638|51.496|  null|   51.496|       TESLA|\n",
      "|2017-02-08|52.672| 51.24| 51.47|52.416|  null|   52.416|       TESLA|\n",
      "|2017-02-09|54.236| 53.23| 53.25| 53.84|  null|    53.84|       TESLA|\n",
      "|2017-02-10| 54.19|53.222|53.958|53.846|  null|   53.846|       TESLA|\n",
      "|2017-02-13|56.158|54.102|54.148| 56.12|  null|    56.12|       TESLA|\n",
      "|2017-02-14|57.478|55.722|55.806|56.196|  null|   56.196|       TESLA|\n",
      "|2017-02-15|56.448|55.288|  56.0|55.952|  null|   55.952|       TESLA|\n",
      "|2017-02-16|  56.0|  53.7| 55.52| 53.79|  null|    53.79|       TESLA|\n",
      "|2017-02-17|54.578| 52.83| 53.16|54.446|  null|   54.446|       TESLA|\n",
      "|2017-02-21| 56.28|54.802| 55.09|55.478|  null|   55.478|       TESLA|\n",
      "|2017-02-22| 56.69| 54.52|56.062|54.702|  null|   54.702|       TESLA|\n",
      "|2017-02-23|52.932|51.112|  52.8|51.198|  null|   51.198|       TESLA|\n",
      "|2017-02-24| 51.65| 50.04|50.532|  51.4|  null|     51.4|       TESLA|\n",
      "|2017-02-27|49.672|48.402|49.634|49.246|  null|   49.246|       TESLA|\n",
      "|2017-02-28|  50.2| 48.78|48.838|49.998|  null|   49.998|       TESLA|\n",
      "|2017-03-01| 50.97|49.822|50.836|50.004|  null|   50.004|       TESLA|\n",
      "+----------+------+------+------+------+------+---------+------------+\n",
      "only showing top 40 rows\n",
      "\n"
     ]
    },
    {
     "name": "stderr",
     "output_type": "stream",
     "text": [
      "2022-06-20 16:04:35,434 WARN window.WindowExec: No Partition Defined for Window operation! Moving all data to a single partition, this can cause serious performance degradation.\n",
      "2022-06-20 16:04:35,435 WARN window.WindowExec: No Partition Defined for Window operation! Moving all data to a single partition, this can cause serious performance degradation.\n",
      "2022-06-20 16:04:35,629 WARN window.WindowExec: No Partition Defined for Window operation! Moving all data to a single partition, this can cause serious performance degradation.\n",
      "2022-06-20 16:04:35,654 WARN window.WindowExec: No Partition Defined for Window operation! Moving all data to a single partition, this can cause serious performance degradation.\n"
     ]
    },
    {
     "name": "stdout",
     "output_type": "stream",
     "text": [
      "+----------+------+------+------+------+------+---------+------------+\n",
      "|      Date|  High|   Low|  Open| Close|Volume|Adj Close|company_name|\n",
      "+----------+------+------+------+------+------+---------+------------+\n",
      "|2020-10-07| 429.9|413.85|419.87| 425.3|  null|    425.3|       TESLA|\n",
      "|2020-10-08| 439.0| 425.3|438.44|425.92|  null|   425.92|       TESLA|\n",
      "|2020-10-09|434.59|426.46|430.13| 434.0|  null|    434.0|       TESLA|\n",
      "|2020-10-12|448.74|438.58| 442.0| 442.3|  null|    442.3|       TESLA|\n",
      "|2020-10-13|448.89| 436.6|443.35|446.65|  null|   446.65|       TESLA|\n",
      "|2020-10-14| 465.9|447.35|449.78| 461.3|  null|    461.3|       TESLA|\n",
      "|2020-10-15|456.57| 442.5|450.31|448.88|  null|   448.88|       TESLA|\n",
      "|2020-10-16|455.95|438.85|454.44|439.67|  null|   439.67|       TESLA|\n",
      "|2020-10-19| 447.0|428.87|446.24|430.83|  null|   430.83|       TESLA|\n",
      "|2020-10-20|431.75|419.05|431.75|421.94|  null|   421.94|       TESLA|\n",
      "|2020-10-21|432.95|421.25| 422.7|422.64|  null|   422.64|       TESLA|\n",
      "|2020-10-22|445.23|424.51|441.92|425.79|  null|   425.79|       TESLA|\n",
      "|2020-10-23|422.89|407.38|421.84|420.63|  null|   420.63|       TESLA|\n",
      "|2020-10-26|425.76| 410.0|411.63|420.28|  null|   420.28|       TESLA|\n",
      "|2020-10-27| 430.5| 420.1|423.76|424.68|  null|   424.68|       TESLA|\n",
      "|2020-10-28| 418.6| 406.0|416.48|406.02|  null|   406.02|       TESLA|\n",
      "|2020-10-29|418.06|406.46|409.96|410.83|  null|   410.83|       TESLA|\n",
      "|2020-10-30|407.59|379.11| 406.9|388.04|  null|   388.04|       TESLA|\n",
      "|2020-11-02|406.98| 392.3| 394.0|400.51|  null|   400.51|       TESLA|\n",
      "|2020-11-03|427.77|406.69|409.73| 423.9|  null|    423.9|       TESLA|\n",
      "|2020-11-04| 435.4| 417.1|430.62|420.98|  null|   420.98|       TESLA|\n",
      "|2020-11-05| 440.0| 424.0| 428.3|438.09|  null|   438.09|       TESLA|\n",
      "|2020-11-06|436.57|424.28| 436.1|429.95|  null|   429.95|       TESLA|\n",
      "|2020-11-09| 452.5| 421.0| 439.5|421.26|  null|   421.26|       TESLA|\n",
      "|2020-11-10|420.09|396.03|420.09|410.36|  null|   410.36|       TESLA|\n",
      "|2020-11-11| 418.7|410.58|416.45|417.13|  null|   417.13|       TESLA|\n",
      "|2020-11-12| 423.0|409.52|415.05|411.76|  null|   411.76|       TESLA|\n",
      "|2020-11-13|412.53|401.66|410.85| 408.5|  null|    408.5|       TESLA|\n",
      "|2020-11-16|412.45|404.09|408.93|408.09|  null|   408.09|       TESLA|\n",
      "|2020-11-17| 462.0|433.01|460.17|441.61|  null|   441.61|       TESLA|\n",
      "|2020-11-18| 496.0| 443.5|448.35|486.64|  null|   486.64|       TESLA|\n",
      "|2020-11-19|508.61|487.57| 492.0|499.27|  null|   499.27|       TESLA|\n",
      "|2020-11-20| 502.5|489.06|497.99|489.61|  null|   489.61|       TESLA|\n",
      "|2020-11-23| 526.0|501.79| 503.5|521.85|  null|   521.85|       TESLA|\n",
      "|2020-11-24|559.99| 526.2| 540.4|555.38|  null|   555.38|       TESLA|\n",
      "|2020-11-25| 574.0|545.37|550.06| 574.0|  null|    574.0|       TESLA|\n",
      "|2020-11-27|598.78|578.45|581.16|585.76|  null|   585.76|       TESLA|\n",
      "|2020-11-30| 607.8|554.51|602.21| 567.6|  null|    567.6|       TESLA|\n",
      "|2020-12-01|597.85|572.05|597.59|584.76|  null|   584.76|       TESLA|\n",
      "|2020-12-02|571.54|541.21|556.44|564.03|  null|   564.03|       TESLA|\n",
      "+----------+------+------+------+------+------+---------+------------+\n",
      "\n",
      "Time range of the stock : 594 days, 0:00:00\n",
      "ZOOM size : 411\n",
      "nb_missing_values :\n",
      "+----+---+----+-----+------+---------+\n",
      "|High|Low|Open|Close|Volume|Adj Close|\n",
      "+----+---+----+-----+------+---------+\n",
      "|   0|  0|   0|    0|     0|        0|\n",
      "+----+---+----+-----+------+---------+\n",
      "\n",
      "+-------+------------------+------------------+-----------------+------------------+-----------------+------------------+------------+\n",
      "|summary|              High|               Low|             Open|             Close|           Volume|         Adj Close|company_name|\n",
      "+-------+------------------+------------------+-----------------+------------------+-----------------+------------------+------------+\n",
      "|  count|               411|               411|              411|               411|              411|               411|         411|\n",
      "|   mean|182.39606543585043|172.02370037069576|177.1945766625323|177.46828020750172|7060712.613138686|177.46828020750172|        null|\n",
      "| stddev|142.85245242428914| 134.5095182837666|138.9019224307191|138.66359007242428|6905543.039975025|138.66359007242428|        null|\n",
      "|    min|             63.74|             59.94|             61.0|              62.0|           512600|              62.0|        ZOOM|\n",
      "|    max|            588.84|            562.55|            572.5|            568.34|         53346800|            568.34|        ZOOM|\n",
      "+-------+------------------+------------------+-----------------+------------------+-----------------+------------------+------------+\n",
      "\n",
      "+----------+-------+------+------+------+--------+---------+------------+\n",
      "|      Date|   High|   Low|  Open| Close|  Volume|Adj Close|company_name|\n",
      "+----------+-------+------+------+------+--------+---------+------------+\n",
      "|2019-04-18|   66.0|60.321|  65.0|  62.0|25764700|     62.0|        ZOOM|\n",
      "|2019-04-22|   68.9| 59.94|  61.0|  65.7| 9949700|     65.7|        ZOOM|\n",
      "|2019-04-23| 74.169| 65.55| 66.87|  69.0| 6786500|     69.0|        ZOOM|\n",
      "|2019-04-24|   71.5| 63.16|  71.4|  63.2| 4973500|     63.2|        ZOOM|\n",
      "|2019-04-25|  66.85|  62.6| 64.74|  65.0| 3863300|     65.0|        ZOOM|\n",
      "|2019-04-26|  66.99|  63.6| 66.12| 66.22| 1527400|    66.22|        ZOOM|\n",
      "|2019-04-29|   68.5| 64.75| 66.53| 68.17| 1822300|    68.17|        ZOOM|\n",
      "|2019-04-30|  72.52| 66.67|  68.4| 72.47| 4113100|    72.47|        ZOOM|\n",
      "|2019-05-01|  76.95|70.816| 72.72| 72.76| 3301900|    72.76|        ZOOM|\n",
      "|2019-05-02|  75.89|69.691| 72.75|  75.5| 2525300|     75.5|        ZOOM|\n",
      "|2019-05-03|  80.25|  75.0|  75.0| 79.18| 2590300|    79.18|        ZOOM|\n",
      "|2019-05-06|  80.79|  74.5| 75.01| 78.24| 2051800|    78.24|        ZOOM|\n",
      "|2019-05-07|  78.05| 73.25| 77.85| 73.33| 1975200|    73.33|        ZOOM|\n",
      "|2019-05-08|   78.5| 74.03| 74.61| 77.68| 2265500|    77.68|        ZOOM|\n",
      "|2019-05-09|  76.99|  74.0| 76.85| 75.21| 1348200|    75.21|        ZOOM|\n",
      "|2019-05-10|  79.74| 74.77| 75.79| 79.63| 1555100|    79.63|        ZOOM|\n",
      "|2019-05-13|  77.39|  70.6| 77.39| 72.54| 2873200|    72.54|        ZOOM|\n",
      "|2019-05-14| 76.885| 73.11| 74.12| 73.14| 1950400|    73.14|        ZOOM|\n",
      "|2019-05-15|   80.0| 72.21|  73.4| 79.76| 2426500|    79.76|        ZOOM|\n",
      "|2019-05-16|  87.55| 79.25| 80.12|  83.4| 4580700|     83.4|        ZOOM|\n",
      "|2019-05-17|  90.28| 81.88| 82.25| 89.98| 3442500|    89.98|        ZOOM|\n",
      "|2019-05-20|  91.46| 83.27|  90.1| 84.67| 3666800|    84.67|        ZOOM|\n",
      "|2019-05-21|   89.7|  84.5| 86.63| 85.44| 2576000|    85.44|        ZOOM|\n",
      "|2019-05-22|   85.7|  82.0| 84.63| 82.43| 1596400|    82.43|        ZOOM|\n",
      "|2019-05-23|   81.5| 77.26| 81.25| 78.76| 2856000|    78.76|        ZOOM|\n",
      "|2019-05-24|  81.25|  74.2| 80.48| 76.25| 2946800|    76.25|        ZOOM|\n",
      "|2019-05-28|  79.39|  76.8|  76.8| 77.77| 1641300|    77.77|        ZOOM|\n",
      "|2019-05-29|  77.93|73.583|  77.0| 75.77| 1512100|    75.77|        ZOOM|\n",
      "|2019-05-30|  80.97|  76.6| 76.68| 80.42| 1996000|    80.42|        ZOOM|\n",
      "|2019-05-31|  83.17| 77.78| 78.77| 79.73| 1594300|    79.73|        ZOOM|\n",
      "|2019-06-03|  81.94| 75.65|  80.0|  75.9| 1570500|     75.9|        ZOOM|\n",
      "|2019-06-04|  78.88| 76.62|  78.2| 78.74| 1134900|    78.74|        ZOOM|\n",
      "|2019-06-05|   80.6| 76.24| 80.14| 78.04| 1295800|    78.04|        ZOOM|\n",
      "|2019-06-06|  79.75| 77.03|  77.4| 79.43| 3024000|    79.43|        ZOOM|\n",
      "|2019-06-07|  98.89|  92.5| 93.66| 94.05| 9487800|    94.05|        ZOOM|\n",
      "|2019-06-10|105.985|  96.0| 98.51| 102.0| 4852800|    102.0|        ZOOM|\n",
      "|2019-06-11|  101.2| 91.57| 101.0| 94.87| 4372400|    94.87|        ZOOM|\n",
      "|2019-06-12|104.185|  94.0|  94.6|102.77| 3151700|   102.77|        ZOOM|\n",
      "|2019-06-13|105.172| 98.55| 105.1|100.95| 3189100|   100.95|        ZOOM|\n",
      "|2019-06-14| 104.57| 99.25|100.47|100.29| 1889300|   100.29|        ZOOM|\n",
      "+----------+-------+------+------+------+--------+---------+------------+\n",
      "only showing top 40 rows\n",
      "\n"
     ]
    },
    {
     "name": "stderr",
     "output_type": "stream",
     "text": [
      "2022-06-20 16:04:37,603 WARN window.WindowExec: No Partition Defined for Window operation! Moving all data to a single partition, this can cause serious performance degradation.\n",
      "2022-06-20 16:04:37,604 WARN window.WindowExec: No Partition Defined for Window operation! Moving all data to a single partition, this can cause serious performance degradation.\n",
      "2022-06-20 16:04:37,749 WARN window.WindowExec: No Partition Defined for Window operation! Moving all data to a single partition, this can cause serious performance degradation.\n",
      "2022-06-20 16:04:37,772 WARN window.WindowExec: No Partition Defined for Window operation! Moving all data to a single partition, this can cause serious performance degradation.\n"
     ]
    },
    {
     "name": "stdout",
     "output_type": "stream",
     "text": [
      "+----------+-------+-------+-------+--------+--------+---------+------------+\n",
      "|      Date|   High|    Low|   Open|   Close|  Volume|Adj Close|company_name|\n",
      "+----------+-------+-------+-------+--------+--------+---------+------------+\n",
      "|2020-10-07|  487.5| 477.11|  482.5|  480.61| 4449500|   480.61|        ZOOM|\n",
      "|2020-10-08| 489.49| 475.58|  484.0|  478.55| 4193100|   478.55|        ZOOM|\n",
      "|2020-10-09|  498.9| 484.08| 487.99|  492.41| 8719700|   492.41|        ZOOM|\n",
      "|2020-10-12| 506.11|490.478| 501.43|  491.54| 6979500|   491.54|        ZOOM|\n",
      "|2020-10-13|  520.0|  493.0|  494.0|  518.79| 8941500|   518.79|        ZOOM|\n",
      "|2020-10-14|  519.8|  498.6| 518.78|  509.25| 8327700|   509.25|        ZOOM|\n",
      "|2020-10-15| 540.05|  506.5| 509.08|   536.4|16520600|    536.4|        ZOOM|\n",
      "|2020-10-16| 565.45| 543.25|  544.0|   559.0|13745800|    559.0|        ZOOM|\n",
      "|2020-10-19| 588.84| 562.55|  572.5|  568.34|15193200|   568.34|        ZOOM|\n",
      "|2020-10-20| 575.69| 534.59| 572.33|  537.02|12098200|   537.02|        ZOOM|\n",
      "|2020-10-21| 551.66| 511.78| 535.88|  513.19| 9215400|   513.19|        ZOOM|\n",
      "|2020-10-22| 530.43| 503.47| 521.78|  520.54| 8100900|   520.54|        ZOOM|\n",
      "|2020-10-23|  527.0| 505.41| 522.33|  511.52| 5377100|   511.52|        ZOOM|\n",
      "|2020-10-26|541.105| 510.31|520.489|  517.79|10080800|   517.79|        ZOOM|\n",
      "|2020-10-27|  540.0|  513.3| 525.22|  538.99| 7227600|   538.99|        ZOOM|\n",
      "|2020-10-28|553.859|  511.5|  549.5|  516.01| 8810100|   516.01|        ZOOM|\n",
      "|2020-10-29|525.455|  483.5| 521.19|  489.68| 9207600|   489.68|        ZOOM|\n",
      "|2020-10-30| 495.95| 457.02|  481.5|  460.91| 8697800|   460.91|        ZOOM|\n",
      "|2020-11-02|  477.0|  440.0| 462.29|   453.0| 8051900|    453.0|        ZOOM|\n",
      "|2020-11-03| 461.88| 445.01|456.328|  451.51| 6497000|   451.51|        ZOOM|\n",
      "|2020-11-04| 484.94|  455.4| 471.92|   483.7| 8048500|    483.7|        ZOOM|\n",
      "|2020-11-05| 499.35|480.761| 497.99|  496.73| 6379900|   496.73|        ZOOM|\n",
      "|2020-11-06| 505.88| 482.73| 494.66|  500.11| 4266000|   500.11|        ZOOM|\n",
      "|2020-11-09| 446.47|  402.0|  433.0|  413.24|18033500|   413.24|        ZOOM|\n",
      "|2020-11-10| 414.45| 366.28|412.504|  376.01|20751900|   376.01|        ZOOM|\n",
      "|2020-11-11|  419.8|  385.0| 391.65|  413.34|16691100|   413.34|        ZOOM|\n",
      "|2020-11-12| 435.75| 419.61| 427.85|  428.64|14910000|   428.64|        ZOOM|\n",
      "|2020-11-13|428.469| 396.87| 425.99|  403.58|11732200|   403.58|        ZOOM|\n",
      "|2020-11-16|  400.8|  375.1|  382.6|  399.15|12054400|   399.15|        ZOOM|\n",
      "|2020-11-17|  411.5| 396.32| 406.29|  401.63| 6972100|   401.63|        ZOOM|\n",
      "|2020-11-18|  423.5| 390.22|  399.0|  415.04|10974200|   415.04|        ZOOM|\n",
      "|2020-11-19| 427.89|  407.5| 408.99|  414.29| 8007000|   414.29|        ZOOM|\n",
      "|2020-11-20|  445.3| 415.56| 418.55|   439.6|12557900|    439.6|        ZOOM|\n",
      "|2020-11-23|436.513| 417.88| 432.01|  430.28| 8486000|   430.28|        ZOOM|\n",
      "|2020-11-24|438.832| 420.01|421.505|  427.55| 6148400|   427.55|        ZOOM|\n",
      "|2020-11-25| 448.48| 433.33| 435.85|  443.72| 8763700|   443.72|        ZOOM|\n",
      "|2020-11-27| 472.04|  449.0| 453.99|  471.61| 7276400|   471.61|        ZOOM|\n",
      "|2020-11-30| 486.83|  460.0|  485.7|  478.36|16646500|   478.36|        ZOOM|\n",
      "|2020-12-01| 434.99| 401.72| 434.72|  406.31|20837500|   406.31|        ZOOM|\n",
      "|2020-12-02|424.425| 394.57|  399.0|419.6282| 5943384| 419.6282|        ZOOM|\n",
      "+----------+-------+-------+-------+--------+--------+---------+------------+\n",
      "\n"
     ]
    },
    {
     "name": "stderr",
     "output_type": "stream",
     "text": [
      "                                                                                \r"
     ]
    },
    {
     "name": "stdout",
     "output_type": "stream",
     "text": [
      "+----------+------+------+------+------+-------+---------+------------+-----------------+-----------------+-----------------+-----------------+-----------------+-----------------+-----------------+------------------+--------------------+-----------------------+------------------------+-----------------------+-------------------+--------------+-------------+\n",
      "|      Date|  High|   Low|  Open| Close| Volume|Adj Close|company_name|  Weekly Avg Open| Monthly Avg Open|  Yearly Avg Open| Weekly Avg Close|Monthly Avg Close| Yearly Avg Close| Daily Difference|Monthly Difference|        Daily Return|Weekly Avg Daily Return|Monthly Avg Daily Return|Yearly Avg Daily Return|      Weekly Return|Monthly Return|Yearly Return|\n",
      "+----------+------+------+------+------+-------+---------+------------+-----------------+-----------------+-----------------+-----------------+-----------------+-----------------+-----------------+------------------+--------------------+-----------------------+------------------------+-----------------------+-------------------+--------------+-------------+\n",
      "|2017-01-03|758.76| 747.7|757.92|753.67|3521100|   753.67|      AMAZON|757.9199829101562|757.9199829101562|757.9199829101562|753.6699829101562|753.6699829101562|753.6699829101562|             null|              null| -0.5607452100261875|    -0.5607452100261875|     -0.5607452100261875|    -0.5607452100261875|               null|          null|         null|\n",
      "|2017-01-04|759.68| 754.2|758.39|757.18|2510500|   757.18|      AMAZON|758.1549987792969|758.1549987792969|758.1549987792969|755.4249877929688|755.4249877929688|755.4249877929688|   3.510009765625|              null|  -0.159551411448524|   -0.36014831073735576|    -0.36014831073735576|   -0.36014831073735576|               null|          null|         null|\n",
      "|2017-01-05| 782.4|760.26|761.55|780.45|5830100|   780.45|      AMAZON|759.2866617838541|759.2866617838541|759.2866617838541|763.7666625976562|763.7666625976562|763.7666625976562|   23.27001953125|              null|  2.4817838247015467|     0.5871624010756117|      0.5871624010756117|     0.5871624010756117|               null|          null|         null|\n",
      "|2017-01-06|799.44|778.48|782.36|795.99|5986200|   795.99|      AMAZON|765.0549926757812|765.0549926757812|765.0549926757812|771.8224945068359|771.8224945068359|771.8224945068359|15.53997802734375|              null|   1.742165389080795|     0.8759131480769076|      0.8759131480769076|     0.8759131480769076|               null|          null|         null|\n",
      "|2017-01-09|801.77|791.77| 798.0|796.92|3446100|   796.92|      AMAZON| 771.643994140625| 771.643994140625| 771.643994140625|   776.8419921875|   776.8419921875|   776.8419921875|             null|              null|-0.13534048744909147|     0.6736624209717077|      0.6736624209717077|     0.6736624209717077|               null|          null|         null|\n",
      "|2017-01-10| 798.0|789.54| 796.6| 795.9|2558400|    795.9|      AMAZON|779.3799926757813|775.8033243815104|775.8033243815104|785.2880004882812|780.0183308919271|780.0183308919271|-1.01995849609375|              null|-0.08786733534107283|     0.7682379959087307|      0.5467407949195776|     0.5467407949195776| 5.6032537398985705|          null|         null|\n",
      "|2017-01-11| 799.5|789.51|793.66|799.02|2992800|   799.02|      AMAZON|    786.433984375|778.3542742047991|778.3542742047991| 793.656005859375|782.7328578404018|782.7328578404018|  3.1199951171875|              null|   0.675358033426066|      0.935219884883649|      0.5651146861347903|     0.5651146861347903|  5.525770260729054|          null|         null|\n",
      "|2017-01-12|814.13| 799.5|800.31|813.64|4873900|   813.64|      AMAZON| 794.185986328125|781.0987396240234|781.0987396240234|800.2940063476562|786.5962524414062|786.5962524414062| 14.6199951171875|              null|  1.6656067187099972|     0.7719844636853388|      0.7026761902066911|     0.7026761902066911|  4.252674985236836|          null|         null|\n",
      "|2017-01-13|821.65| 811.4|814.32|817.14|3791900|   817.14|      AMAZON|800.5779907226563|784.7899915907118|784.7899915907118|804.5240112304688| 789.990003797743| 789.990003797743|              3.5|              null| 0.34630210468302713|    0.49281180680578524|      0.6630790695929507|     0.6630790695929507| 2.6570716558678065|          null|         null|\n",
      "|2017-01-17| 816.0|803.44| 815.7|809.72|3670500|   809.72|      AMAZON|805.9974975585938|787.8809936523437|787.8809936523437|809.8800048828125|791.9630004882813|791.9630004882813|             null|              null| -0.7331177411320753|     0.4885372789217538|       0.523459388520448|      0.523459388520448| 1.7363922433896988|          null|         null|\n",
      "|2017-01-18|811.73|804.27| 809.5|807.48|2354200|   807.48|      AMAZON|809.9575042724609| 789.846357865767| 789.846357865767|811.9949951171875|793.3736350319602|793.3736350319602|  -2.239990234375|              null|-0.24953916383570104|    0.25731297960631205|     0.45318679285170727|    0.45318679285170727|  1.058792111674885|          null|         null|\n",
      "|2017-01-19|813.51|807.32| 810.0|809.04|2540800|   809.04|      AMAZON|812.3800048828125|791.5258280436198|791.5258280436198|810.8449859619141|794.6791636149088|794.6791636149088| 1.55999755859375|              null|-0.11852123119212962|   -0.18871900786921972|     0.40554445751472085|    0.40554445751472085| -0.565365092458163|          null|         null|\n",
      "|2017-01-20|816.02|806.26|815.28|808.33|3376200|   808.33|      AMAZON|812.6200103759766|793.3530742938702|793.3530742938702|808.6424865722656|795.7292292668269|795.7292292668269|    -0.7099609375|              null| -0.8524693304489717|    -0.4884118666522194|      0.3087741661328983|     0.3087741661328983|-1.0781503048023076|          null|         null|\n",
      "|2017-01-23| 818.5|805.08| 806.8|817.88|2797500|   817.88|      AMAZON| 811.456005859375|794.3135681152344|794.3135681152344| 810.489990234375|797.3114275251116|797.3114275251116|             null|              null|  1.3733288618599941|   -0.11606372094977671|      0.3848137872562623|     0.3848137872562623|               null|          null|         null|\n",
      "|2017-01-24|823.99| 814.5| 822.0|822.44|2971700|   822.44|      AMAZON|812.7160034179688|796.1593302408854|796.1593302408854|813.0339965820312|798.9866658528646|798.9866658528646| 4.55999755859375|              null|0.053528277543339414|   0.041265482785306236|      0.3627280866087341|     0.3627280866087341|  1.570917378663112|          null|         null|\n",
      "|2017-01-25|837.42|825.29|825.79|836.52|3922600|   836.52|      AMAZON|815.9739990234375|798.0112457275391|798.0112457275391|818.8420043945313|801.3325004577637|801.3325004577637|14.08001708984375|              null|  1.2993668837612067|     0.3510466923046878|     0.42126801143076364|    0.42126801143076364| 3.5963788285676106|          null|         null|\n",
      "|2017-01-26|843.84| 833.0|835.53|839.15|3586300|   839.15|      AMAZON|821.0800048828125|800.2182329963235|800.2182329963235| 824.864013671875|803.5570606904871|803.5570606904871|  2.6300048828125|              null|  0.4332573325023208|     0.4614024050435779|      0.4219732656114435|     0.4219732656114435| 3.7217006828432773|          null|         null|\n",
      "|2017-01-27| 839.7|829.44| 839.0|835.77|2998700|   835.77|      AMAZON|825.8239990234375|802.3727756076389|802.3727756076389|830.3520141601563| 805.346669514974| 805.346669514974| -3.3800048828125|              null|-0.38497979365315854|     0.5549003124027404|     0.37714254009674336|    0.37714254009674336| 3.3946534040880936|          null|         null|\n",
      "|2017-01-30| 833.5|816.38| 833.0|830.38|3747300|   830.38|      AMAZON|831.0640014648437|803.9847347861842|803.9847347861842|832.8520141601563|806.6642134817023|806.6642134817023|             null|              null|-0.31452522415216083|    0.21732949520030953|     0.34073897355732735|    0.34073897355732735| 1.5283415568755743|          null|         null|\n",
      "|2017-01-31|826.99|819.56|823.75|823.48|3137200|   823.48|      AMAZON|831.4140014648438| 804.972998046875| 804.972998046875| 833.060009765625|807.5050018310546|807.5050018310546| -6.9000244140625|              null| -0.0327793057663126|    0.20006797853837913|      0.3220630595911454|     0.3220630595911454|0.12645032151361604|          null|         null|\n",
      "+----------+------+------+------+------+-------+---------+------------+-----------------+-----------------+-----------------+-----------------+-----------------+-----------------+-----------------+------------------+--------------------+-----------------------+------------------------+-----------------------+-------------------+--------------+-------------+\n",
      "only showing top 20 rows\n",
      "\n"
     ]
    },
    {
     "name": "stdout",
     "output_type": "stream",
     "text": [
      "+----------+-------+-------+-------+-------+------+---------+------------+------------------+------------------+------------------+------------------+------------------+------------------+--------------------+------------------+--------------------+-----------------------+------------------------+-----------------------+--------------------+--------------+-------------+\n",
      "|      Date|   High|    Low|   Open|  Close|Volume|Adj Close|company_name|   Weekly Avg Open|  Monthly Avg Open|   Yearly Avg Open|  Weekly Avg Close| Monthly Avg Close|  Yearly Avg Close|    Daily Difference|Monthly Difference|        Daily Return|Weekly Avg Daily Return|Monthly Avg Daily Return|Yearly Avg Daily Return|       Weekly Return|Monthly Return|Yearly Return|\n",
      "+----------+-------+-------+-------+-------+------+---------+------------+------------------+------------------+------------------+------------------+------------------+------------------+--------------------+------------------+--------------------+-----------------------+------------------------+-----------------------+--------------------+--------------+-------------+\n",
      "|2017-01-03|29.0825|  28.69|  28.95|29.0375|  null| 27.27764|       APPLE|28.950000762939453|28.950000762939453|28.950000762939453|29.037500381469727|29.037500381469727|29.037500381469727|                null|              null|  0.3022439247818145|     0.3022439247818145|      0.3022439247818145|     0.3022439247818145|                null|          null|         null|\n",
      "|2017-01-04|29.1275|28.9375|28.9625| 29.005|  null|27.247108|       APPLE|28.956250190734863|28.956250190734863|28.956250190734863|29.021249771118164|29.021249771118164|29.021249771118164|-0.03053092956542...|              null| 0.14673989744012572|     0.2244919111109701|      0.2244919111109701|     0.2244919111109701|                null|          null|         null|\n",
      "|2017-01-05| 29.215|28.9525|  28.98|29.1525|  null|27.385668|       APPLE| 28.96416664123535| 28.96416664123535| 28.96416664123535| 29.06499989827474| 29.06499989827474| 29.06499989827474| 0.13855934143066406|              null|  0.5952402107534712|     0.3480746776584705|      0.3480746776584705|     0.3480746776584705|                null|          null|         null|\n",
      "|2017-01-06|  29.54|29.1175| 29.195|29.4775|  null|27.690971|       APPLE| 29.02187490463257| 29.02187490463257| 29.02187490463257| 29.16812515258789| 29.16812515258789| 29.16812515258789| 0.30530357360839844|              null|  0.9676356350611907|     0.5029649170091506|      0.5029649170091506|     0.5029649170091506|                null|          null|         null|\n",
      "|2017-01-09|29.8575| 29.485|29.4875|29.7475|  null|27.944603|       APPLE|29.114999771118164|29.114999771118164|29.114999771118164| 29.28400001525879| 29.28400001525879| 29.28400001525879|                null|              null|  0.8817303454307914|     0.5787180026934788|      0.5787180026934788|     0.5787180026934788|                null|          null|         null|\n",
      "|2017-01-10| 29.845| 29.575|29.6925|29.7775|  null|27.972786|       APPLE|29.263499450683593|29.211249669392902|29.211249669392902|29.431999969482423|29.366250038146973|29.366250038146973|  0.0281829833984375|              null|  0.2862709243875398|     0.5755234026146238|      0.5299768229758223|     0.5299768229758223|  2.5484117256433123|          null|         null|\n",
      "|2017-01-11|29.9825|  29.65| 29.685|29.9375|  null|28.123089|       APPLE|29.407999420166014|29.278928211757115|29.278928211757115|  29.6185001373291| 29.44785717555455| 29.44785717555455| 0.15030288696289062|              null|  0.8505997594755264|     0.7162953750217039|      0.5757800996186371|     0.5757800996186371|   3.214948032009336|          null|         null|\n",
      "|2017-01-12| 29.825|29.5525| 29.725|29.8125|  null|28.005665|       APPLE|29.556999588012694| 29.33468723297119| 29.33468723297119|29.750500106811522| 29.49343752861023| 29.49343752861023|-0.11742401123046875|              null|  0.2943637255083766|      0.656120077972685|      0.5406030528548545|     0.5406030528548545|  2.2639470727665882|          null|         null|\n",
      "|2017-01-13| 29.905|29.7025|29.7775|  29.76|  null| 27.95635|       APPLE| 29.67349967956543|29.383888668484158|29.383888668484158|29.806999969482423|29.523055606418186|29.523055606418186|-0.04931449890136719|              null|-0.05876894842206494|     0.4508391612760338|      0.4740061638240857|     0.4740061638240857|  0.9583591288192818|          null|         null|\n",
      "|2017-01-17|  30.06| 29.555| 29.585|   30.0|  null|  28.1818|       APPLE|29.693124771118164|29.403999710083006|29.403999710083006| 29.87750005722046|29.570750045776368|29.570750045776368|                null|              null|  1.4027410118973171|     0.6222338871147888|      0.5668796486314088|     0.5668796486314088|  0.7472079933472414|          null|         null|\n",
      "|2017-01-18| 30.125|29.9275|   30.0|29.9975|  null|28.179457|       APPLE| 29.77187490463257|29.458181554620918|29.458181554620918|29.892499923706055| 29.60954544760964| 29.60954544760964|-0.00234413146972...|              null|-0.00833511352539...|    0.40750016886455953|      0.5145873975262453|     0.5145873975262453|  0.2004327279726446|          null|         null|\n",
      "|2017-01-19|30.0225|29.8425|  29.85| 29.945|  null|28.130133|       APPLE| 29.80312490463257|29.490833123524983|29.490833123524983| 29.92562484741211|29.637499968210857|29.637499968210857|-0.04932403564453125|              null| 0.31825565206178635|    0.41347315050291195|      0.4982264187375403|     0.4982264187375403| 0.44443811817094475|          null|         null|\n",
      "|2017-01-20|30.1125|29.9325|30.1125|   30.0|  null|  28.1818|       APPLE|29.886874675750732| 29.53865359379695| 29.53865359379695| 29.98562479019165| 29.66538458604079| 29.66538458604079| 0.05166816711425781|              null| -0.3735964795711476|    0.33476626771564133|      0.4311631188676413|     0.4311631188676413|   0.806437582566195|          null|         null|\n",
      "|2017-01-23|30.2025|29.9425|   30.0|  30.02|  null| 28.20059|       APPLE|29.909499740600587| 29.57160690852574| 29.57160690852574|29.992499923706056|29.690714291163854|29.690714291163854|                null|              null| 0.06666819254557292|    0.28114665268162764|      0.4051277669874936|     0.4051277669874936|                null|          null|         null|\n",
      "|2017-01-24| 30.025| 29.875|29.8875|29.9925|  null|28.174757|       APPLE|29.970000076293946|29.592666498819987|29.592666498819987| 29.99099998474121| 29.71083335876465| 29.71083335876465| -0.0258331298828125|              null|  0.3513158998109595|    0.07086163026435612|     0.40154030917572464|    0.40154030917572464|-0.02499428102695...|          null|         null|\n",
      "|2017-01-25| 30.525|  30.07| 30.105|  30.47|  null|28.623314|       APPLE| 29.99099998474121| 29.62468731403351| 29.62468731403351|30.085499954223632|29.758281230926514|29.758281230926514| 0.44855690002441406|              null|  1.2124224436744513|     0.3150131417043245|     0.45222044258189503|    0.45222044258189503|  1.5751091213295438|          null|         null|\n",
      "|2017-01-26|  30.61|   30.4|30.4175| 30.485|  null|28.637407|       APPLE| 30.10449981689453|29.671323327457202|29.671323327457202|30.193500137329103|29.801029429716223|29.801029429716223|0.014093399047851562|              null| 0.22191524330100024|    0.29574505995216727|     0.43867307791831295|    0.43867307791831295|  1.8033140246554669|          null|         null|\n",
      "|2017-01-27|30.5875|   30.4| 30.535|30.4875|  null|28.639755|       APPLE|30.188999938964844|29.719305356343586|29.719305356343586|30.290999984741212| 29.83916664123535| 29.83916664123535|0.002347946166992...|              null|-0.15556119400337332|    0.33935211706572216|     0.40566006281155265|    0.40566006281155265|   1.625000507601158|          null|         null|\n",
      "|2017-01-30|30.4075| 30.165|30.2325|30.4075|  null|28.564606|       APPLE|30.235499954223634|29.746315604762028|29.746315604762028|30.368499755859375|29.869078887136357|29.869078887136357|                null|              null|  0.5788447419794042|    0.44178742695248846|     0.41477504592565007|    0.41477504592565007|  1.2908083749249506|          null|         null|\n",
      "|2017-01-31|30.3475| 30.155|30.2875|30.3375|  null|28.498844|       APPLE| 30.31549987792969|29.773374843597413|29.773374843597413|30.437499618530275|29.892499923706055|29.892499923706055|-0.06576156616210938|              null| 0.16508208479012362|     0.4045406639483213|      0.4022903978688738|     0.4022903978688738|     1.1502748467389|          null|         null|\n",
      "+----------+-------+-------+-------+-------+------+---------+------------+------------------+------------------+------------------+------------------+------------------+------------------+--------------------+------------------+--------------------+-----------------------+------------------------+-----------------------+--------------------+--------------+-------------+\n",
      "only showing top 20 rows\n",
      "\n"
     ]
    },
    {
     "name": "stdout",
     "output_type": "stream",
     "text": [
      "+----------+------+------+------+------+--------+---------+------------+------------------+------------------+------------------+------------------+------------------+------------------+-------------------+------------------+--------------------+-----------------------+------------------------+-----------------------+-------------------+--------------+-------------+\n",
      "|      Date|  High|   Low|  Open| Close|  Volume|Adj Close|company_name|   Weekly Avg Open|  Monthly Avg Open|   Yearly Avg Open|  Weekly Avg Close| Monthly Avg Close|  Yearly Avg Close|   Daily Difference|Monthly Difference|        Daily Return|Weekly Avg Daily Return|Monthly Avg Daily Return|Yearly Avg Daily Return|      Weekly Return|Monthly Return|Yearly Return|\n",
      "+----------+------+------+------+------+--------+---------+------------+------------------+------------------+------------------+------------------+------------------+------------------+-------------------+------------------+--------------------+-----------------------+------------------------+-----------------------+-------------------+--------------+-------------+\n",
      "|2017-01-03|117.84|115.51|116.03|116.86|20663900|   116.86|    FACEBOOK|116.02999877929688|116.02999877929688|116.02999877929688|116.86000061035156|116.86000061035156|116.86000061035156|               null|              null|  0.7153338272746617|     0.7153338272746617|      0.7153338272746617|     0.7153338272746617|               null|          null|         null|\n",
      "|2017-01-04|119.66|117.29|117.55|118.69|19630900|   118.69|    FACEBOOK|116.79000091552734|116.79000091552734|116.79000091552734| 117.7750015258789| 117.7750015258789| 117.7750015258789| 1.8300018310546875|              null|  0.9697995406656779|     0.8425666839701698|      0.8425666839701698|     0.8425666839701698|               null|          null|         null|\n",
      "|2017-01-05|120.95|118.32|118.86|120.67|19492200|   120.67|    FACEBOOK|117.48000081380208|117.48000081380208|117.48000081380208|118.74000040690105|118.74000040690105|118.74000040690105| 1.9799957275390625|              null|  1.5227978708559056|     1.0693104129320818|      1.0693104129320818|     1.0693104129320818|               null|          null|         null|\n",
      "|2017-01-06|123.88|120.03|120.98|123.41|28545300|   123.41|    FACEBOOK|118.35500144958496|118.35500144958496|118.35500144958496|119.90750122070312|119.90750122070312|119.90750122070312| 2.7400054931640625|              null|   2.008596658744028|     1.3041319743850683|      1.3041319743850683|     1.3041319743850683|               null|          null|         null|\n",
      "|2017-01-09|125.43|123.04|123.55| 124.9|22880400|    124.9|    FACEBOOK|119.39400177001953|119.39400177001953|119.39400177001953|120.90600128173828|120.90600128173828|120.90600128173828|               null|              null|  1.0926737683329313|     1.2618403331746408|      1.2618403331746408|     1.2618403331746408|               null|          null|         null|\n",
      "|2017-01-10| 125.5|124.28|124.82|124.35|17324600|   124.35|    FACEBOOK|  121.152001953125|120.29833475748698|120.29833475748698|122.40400085449218|121.48000081380208|121.48000081380208|-0.5500030517578125|              null| -0.3765431996893476|      1.043464927781839|      0.9887764110306428|     0.9887764110306428|  6.409376882294882|          null|         null|\n",
      "|2017-01-11|126.12|124.06|124.35|126.09|18356500|   126.09|    FACEBOOK|122.51200103759766|120.87714385986328|120.87714385986328|123.88399963378906|122.13857160295758|122.13857160295758| 1.7399978637695312|              null|  1.3992745356821603|     1.1293599267851353|      1.0474190002665738|     1.0474190002665738|  6.234723855648696|          null|         null|\n",
      "|2017-01-12|126.73| 124.8|125.61|126.62|18653900|   126.62|    FACEBOOK|123.86200103759765|121.46875095367432|121.46875095367432|125.07400054931641|122.69875049591064|122.69875049591064| 0.5300064086914062|              null|  0.8040778053680179|      0.985615913687558|      1.0170013509042544|     1.0170013509042544|  4.930806884828449|          null|         null|\n",
      "|2017-01-13|129.27|127.37|127.49|128.34|24884300|   128.34|    FACEBOOK|125.16399993896485|122.13777838812933|122.13777838812933|126.05999908447265|123.32555558946397|123.32555558946397| 1.7199935913085938|              null|  0.6667177726595984|     0.7172401364706721|      0.9780809533215149|     0.9780809533215149| 3.9948079811093202|          null|         null|\n",
      "|2017-01-17|128.34| 127.4|128.04|127.87|15294500|   127.87|    FACEBOOK|126.37249755859375|122.72799987792969|122.72799987792969|127.22999954223633|123.78000030517578|123.78000030517578|               null|              null|-0.13276362735422906|     0.6843266215888868|      0.8669964952539404|     0.8669964952539404| 2.8307232132322846|          null|         null|\n",
      "|2017-01-18|128.43|126.84|128.41|127.92|13145900|   127.92|    FACEBOOK|127.38749885559082|123.24454567649148|123.24454567649148|          127.6875|124.15636374733664|124.15636374733664|0.04999542236328125|              null|-0.38159448577965505|    0.23910936622343307|      0.7534882242508864|     0.7534882242508864| 1.4513457722298018|          null|         null|\n",
      "|2017-01-19|128.35|127.45|128.23|127.55|12195500|   127.55|    FACEBOOK| 128.0424976348877|123.65999984741211|123.65999984741211|127.92000007629395|124.43916702270508|124.43916702270508|   -0.3699951171875|              null|  -0.530291428244361|   -0.09448294217966169|       0.646506586542949|      0.646506586542949| 0.7344813497098788|          null|         null|\n",
      "|2017-01-20|128.48|126.78| 128.1|127.04|19097200|   127.04|    FACEBOOK|128.19499969482422| 124.0015387901893| 124.0015387901893|127.59500122070312| 124.6392311683068| 124.6392311683068|-0.5100021362304688|              null| -0.8274825429217447|   -0.46803302107499745|      0.5331228073533573|     0.5331228073533573|-1.0129308551175915|          null|         null|\n",
      "|2017-01-23|129.25|126.95|127.31|128.93|16593600|   128.93|    FACEBOOK|128.01799926757812|124.23785727364677|124.23785727364677|127.86199951171875| 124.9457141331264| 124.9457141331264|               null|              null|  1.2724806757159082|   -0.11993028171681633|       0.585934083664968|      0.585934083664968|               null|          null|         null|\n",
      "|2017-01-24| 129.9|128.38|129.38|129.37|15162700|   129.37|    FACEBOOK|128.28600158691407| 124.5806671142578| 124.5806671142578|128.16199798583983|125.24066619873047|125.24066619873047|   0.44000244140625|              null|-0.00773671761263...|   -0.09492489976849806|       0.546356030246461|      0.546356030246461|  1.173060403837024|          null|         null|\n",
      "|2017-01-25|131.74|129.77| 130.0|131.48|18731300|   131.48|    FACEBOOK| 128.6040008544922| 124.9193754196167| 124.9193754196167| 128.8739974975586|  125.630624294281|  125.630624294281| 2.1100006103515625|              null|   1.138458251953125|    0.20908564777805796|      0.5833624191031275|     0.5833624191031275|  2.782987499649604|          null|         null|\n",
      "|2017-01-26|133.14|131.44|131.63|132.78|20020100|   132.78|    FACEBOOK|129.28400268554688|125.31411832921646|125.31411832921646| 129.9199966430664|126.05117573457606|126.05117573457606| 1.3000030517578125|              null|  0.8736563502433894|     0.4898752034756081|      0.6004385326996136|     0.6004385326996136|  4.100349355081404|          null|         null|\n",
      "|2017-01-27|132.95|131.08|132.68|132.18|19539500|   132.18|    FACEBOOK|             130.2|125.72333357069228|125.72333357069228| 130.9479949951172|  126.391665564643|  126.391665564643| -0.600006103515625|              null| -0.3768465688883532|     0.5800023982822864|      0.5461449159447265|     0.5461449159447265|  4.045963258195849|          null|         null|\n",
      "|2017-01-30|131.58| 129.6|131.58|130.98|18956100|   130.98|    FACEBOOK| 131.0540008544922|126.03157926860608|126.03157926860608|131.35799560546874|126.63315662584807|126.63315662584807|               null|              null| -0.4560009843182836|    0.23430606627544792|     0.49340039487825227|    0.49340039487825227|  1.590012540303893|          null|         null|\n",
      "|2017-01-31|130.66|129.52|130.17|130.32|19790500|   130.32|    FACEBOOK|131.21199951171874|126.23850021362304|126.23850021362304|  131.547998046875| 126.8174991607666| 126.8174991607666|-0.6599884033203125|              null|  0.1152409598091438|     0.2589016017598042|     0.47449242312479684|    0.47449242312479684| 0.7343373601975469|          null|         null|\n",
      "+----------+------+------+------+------+--------+---------+------------+------------------+------------------+------------------+------------------+------------------+------------------+-------------------+------------------+--------------------+-----------------------+------------------------+-----------------------+-------------------+--------------+-------------+\n",
      "only showing top 20 rows\n",
      "\n"
     ]
    },
    {
     "name": "stdout",
     "output_type": "stream",
     "text": [
      "+----------+-------+-------+------+-------+-------+---------+------------+-----------------+-----------------+-----------------+-----------------+-----------------+-----------------+-----------------+------------------+--------------------+-----------------------+------------------------+-----------------------+--------------------+--------------+-------------+\n",
      "|      Date|   High|    Low|  Open|  Close| Volume|Adj Close|company_name|  Weekly Avg Open| Monthly Avg Open|  Yearly Avg Open| Weekly Avg Close|Monthly Avg Close| Yearly Avg Close| Daily Difference|Monthly Difference|        Daily Return|Weekly Avg Daily Return|Monthly Avg Daily Return|Yearly Avg Daily Return|       Weekly Return|Monthly Return|Yearly Return|\n",
      "+----------+-------+-------+------+-------+-------+---------+------------+-----------------+-----------------+-----------------+-----------------+-----------------+-----------------+-----------------+------------------+--------------------+-----------------------+------------------------+-----------------------+--------------------+--------------+-------------+\n",
      "|2017-01-03| 789.63|  775.8|778.81| 786.14|1657300|   786.14|      GOOGLE|778.8099975585938|778.8099975585938|778.8099975585938|786.1400146484375|786.1400146484375|786.1400146484375|             null|              null|  0.9411816890925666|     0.9411816890925666|      0.9411816890925666|     0.9411816890925666|                null|          null|         null|\n",
      "|2017-01-04| 791.34| 783.16|788.36|  786.9|1073000|    786.9|      GOOGLE|783.5849914550781|783.5849914550781|783.5849914550781|  786.52001953125|  786.52001953125|  786.52001953125|   0.760009765625|              null|  -0.185189629690419|     0.3779960297010738|      0.3779960297010738|     0.3779960297010738|                null|          null|         null|\n",
      "|2017-01-05| 794.48| 785.02|786.08| 794.02|1335200|   794.02|      GOOGLE|784.4166666666666|784.4166666666666|784.4166666666666|  789.02001953125|  789.02001953125|  789.02001953125|  7.1199951171875|              null|  1.0100755990212076|     0.5886892194744517|      0.5886892194744517|     0.5886892194744517|                null|          null|         null|\n",
      "|2017-01-06|  807.9|792.204|795.26| 806.15|1640200|   806.15|      GOOGLE|787.1275024414062|787.1275024414062|787.1275024414062|793.3025207519531|793.3025207519531|793.3025207519531| 12.1300048828125|              null|  1.3693653037636018|     0.7838582405467392|      0.7838582405467392|     0.7838582405467392|                null|          null|         null|\n",
      "|2017-01-09|809.966| 802.83| 806.4| 806.65|1274600|   806.65|      GOOGLE|790.9820068359375|790.9820068359375|790.9820068359375| 795.972021484375| 795.972021484375| 795.972021484375|             null|              null| 0.03100198318838746|     0.6332869890750689|      0.6332869890750689|     0.6332869890750689|                null|          null|         null|\n",
      "|2017-01-10| 809.13| 803.51|807.86| 804.79|1176800|   804.79|      GOOGLE|796.7920043945312|793.7950032552084|793.7950032552084|799.7020141601563|797.4416809082031|797.4416809082031|-1.86004638671875|              null| -0.3800172529751863|     0.3690472006615183|      0.4644029487333597|     0.4644029487333597|   2.372346278194035|          null|         null|\n",
      "|2017-01-11| 808.15| 801.37| 805.0| 807.91|1065900|   807.91|      GOOGLE|800.1200073242187|795.3957170758929|795.3957170758929|  803.90400390625|798.9371512276786|798.9371512276786|  3.1199951171875|              null| 0.36148734714673914|    0.47838259602894995|     0.44970071993527105|    0.44970071993527105|  2.6699641731633026|          null|         null|\n",
      "|2017-01-12| 807.39| 799.17|807.14| 806.36|1353100|   806.36|      GOOGLE|804.3320068359375|796.8637542724609|796.8637542724609|806.3719970703125|799.8650054931641|799.8650054931641|-1.54998779296875|              null|-0.09664113818155255|     0.2570392485883979|     0.38140798767066814|    0.38140798767066814|   1.554112681894016|          null|         null|\n",
      "|2017-01-13|811.224| 806.69|807.48| 807.88|1099200|   807.88|      GOOGLE|806.7760009765625|798.0433349609375|798.0433349609375|806.7179931640625|800.7555609809028|800.7555609809028|    1.52001953125|              null| 0.04953985532003926|   -0.00692584110031...|      0.3445337507428205|     0.3445337507428205| 0.21459783121726123|          null|         null|\n",
      "|2017-01-17| 807.14| 800.37|807.08| 804.61|1362100|   804.61|      GOOGLE|806.6750030517578|798.9470031738281|798.9470031738281|806.6899871826172|801.1410034179687|801.1410034179687|             null|              null| -0.3060454584401248|   0.002085151461275...|       0.279475829824526|      0.279475829824526|-0.02236517360994...|          null|         null|\n",
      "|2017-01-18|806.205| 800.99|805.81| 806.07|1294400|   806.07|      GOOGLE|806.8775024414062|799.5709117542614|799.5709117542614|806.2299957275391|801.5890946821733|801.5890946821733| 1.46002197265625|              null| 0.03226688256695321|   -0.08021996468367122|     0.25700228916474666|    0.25700228916474666|-0.22774391720293058|          null|         null|\n",
      "|2017-01-19| 809.48|  801.8|805.12|802.175| 919300|  802.175|      GOOGLE|806.3724975585938|800.0333353678385|800.0333353678385|805.1837463378906|801.6379191080729|801.6379191080729|   -3.89501953125|              null| -0.3657848944355302|   -0.14750590374716566|     0.20510335719805692|    0.20510335719805692| -0.5189986649410865|          null|         null|\n",
      "|2017-01-20| 806.91| 801.69|806.91| 805.02|1670000|   805.02|      GOOGLE|806.2299957275391|800.5623075045072|800.5623075045072|        804.46875|801.8980806790865|801.8980806790865| 2.84503173828125|              null|-0.23422112455942184|   -0.21844614871703094|      0.1713091662936355|     0.1713091662936355|-0.35401115688924084|          null|         null|\n",
      "|2017-01-23| 820.87| 803.74|807.25| 819.31|1963600|   819.31|      GOOGLE|806.4339965820312|801.0399998256138|801.0399998256138|807.4369995117188|803.1417890276227|803.1417890276227|             null|              null|  1.4939606761961908|     0.1240352162656134|       0.265784274143818|      0.265784274143818|                null|          null|         null|\n",
      "|2017-01-24|  825.9|817.821| 822.3| 823.87|1474000|   823.87|      GOOGLE|809.4779907226563|802.4573323567708|802.4573323567708|811.2890014648438|804.5236694335938|804.5236694335938| 4.55999755859375|              null| 0.19092877873348968|     0.2234300637003363|     0.26079390778312944|    0.26079390778312944|  2.3937075249208624|          null|         null|\n",
      "|2017-01-25| 835.77| 825.06|829.62| 835.67|1494500|   835.67|      GOOGLE| 814.239990234375|804.1549987792969|804.1549987792969|817.2089965820312|806.4703140258789|806.4703140258789|11.79998779296875|              null|  0.7292480688238671|     0.3628263009517191|     0.29007229284817554|    0.29007229284817554|  3.6721345933954033|          null|         null|\n",
      "|2017-01-26|  838.0| 827.01|837.81| 832.15|2973900|   832.15|      GOOGLE|820.7779907226562|806.1347045898438|806.1347045898438|  823.20400390625|807.9808852251838|807.9808852251838|-3.51995849609375|              null| -0.6755676300145141|     0.3008697538359223|      0.2332699444444879|     0.2332699444444879|  3.7367204259963698|          null|         null|\n",
      "|2017-01-27| 841.95| 820.44|834.71| 823.31|2965800|   823.31|      GOOGLE|826.3380004882813|807.7222222222222|807.7222222222222|826.8619995117188|808.8325025770399|808.8325025770399|-8.84002685546875|              null| -1.3657466801609752|    0.07456464271561161|     0.14443568752196217|    0.14443568752196217|    2.27199045782659|          null|         null|\n",
      "|2017-01-30| 815.84|  799.8|814.66| 802.32|3246600|   802.32|      GOOGLE|827.8199951171875|808.0873670076069|808.0873670076069|823.4640014648437|808.4897396689967|808.4897396689967|             null|              null| -1.5147382008571115|    -0.5271751326950488|     0.05711074602832671|    0.05711074602832671|  -2.073694973209447|          null|         null|\n",
      "|2017-01-31| 801.25| 790.52|796.86| 796.79|2160600|   796.79|      GOOGLE|822.7319946289062|807.5259979248046|807.5259979248046| 818.047998046875| 807.904751586914| 807.904751586914|  -5.530029296875|              null|-0.00878539837683829|    -0.5671179681171143|     0.05381593880806847|    0.05381593880806847|   -3.28692842928354|          null|         null|\n",
      "+----------+-------+-------+------+-------+-------+---------+------------+-----------------+-----------------+-----------------+-----------------+-----------------+-----------------+-----------------+------------------+--------------------+-----------------------+------------------------+-----------------------+--------------------+--------------+-------------+\n",
      "only showing top 20 rows\n",
      "\n"
     ]
    },
    {
     "name": "stdout",
     "output_type": "stream",
     "text": [
      "+----------+-----+-----+-----+-----+------+---------+------------+------------------+------------------+------------------+------------------+------------------+------------------+--------------------+------------------+--------------------+-----------------------+------------------------+-----------------------+--------------------+--------------+-------------+\n",
      "|      Date| High|  Low| Open|Close|Volume|Adj Close|company_name|   Weekly Avg Open|  Monthly Avg Open|   Yearly Avg Open|  Weekly Avg Close| Monthly Avg Close|  Yearly Avg Close|    Daily Difference|Monthly Difference|        Daily Return|Weekly Avg Daily Return|Monthly Avg Daily Return|Yearly Avg Daily Return|       Weekly Return|Monthly Return|Yearly Return|\n",
      "+----------+-----+-----+-----+-----+------+---------+------------+------------------+------------------+------------------+------------------+------------------+------------------+--------------------+------------------+--------------------+-----------------------+------------------------+-----------------------+--------------------+--------------+-------------+\n",
      "|2017-01-03|62.84|62.13|62.79|62.58|  null|58.673244|   MICROSOFT|62.790000915527344|62.790000915527344|62.790000915527344| 62.58000183105469| 62.58000183105469| 62.58000183105469|                null|              null| -0.3344466975803556|    -0.3344466975803556|     -0.3344466975803556|    -0.3344466975803556|                null|          null|         null|\n",
      "|2017-01-04|62.75|62.12|62.48| 62.3|  null|58.410725|   MICROSOFT|62.635000228881836|62.635000228881836|62.635000228881836| 62.44000053405762| 62.44000053405762| 62.44000053405762|-0.26251983642578125|              null|-0.28809268004891947|   -0.31126968881463757|    -0.31126968881463757|   -0.31126968881463757|                null|          null|         null|\n",
      "|2017-01-05|62.66|62.03|62.19| 62.3|  null|58.410725|   MICROSOFT| 62.48666636149088| 62.48666636149088| 62.48666636149088|62.393333435058594|62.393333435058594|62.393333435058594|                 0.0|              null| 0.17687829680111958|    -0.1485536936093852|     -0.1485536936093852|    -0.1485536936093852|                null|          null|         null|\n",
      "|2017-01-06|63.15|62.04| 62.3|62.84|  null|58.917015|   MICROSOFT|  62.4399995803833|  62.4399995803833|  62.4399995803833| 62.50500011444092| 62.50500011444092| 62.50500011444092|  0.5062904357910156|              null|  0.8667751559234564|    0.10527851877382521|     0.10527851877382521|    0.10527851877382521|                null|          null|         null|\n",
      "|2017-01-09|63.08|62.54|62.76|62.64|  null|58.729496|   MICROSOFT| 62.50399932861328| 62.50399932861328| 62.50399932861328| 62.53199996948242| 62.53199996948242| 62.53199996948242|                null|              null| -0.1912028921192522|    0.04598223659520973|     0.04598223659520973|    0.04598223659520973|                null|          null|         null|\n",
      "|2017-01-10|63.07|62.28|62.73|62.62|  null|58.710747|   MICROSOFT| 62.49199905395508| 62.54166603088379| 62.54166603088379|62.539999389648436| 62.54666646321615| 62.54666646321615|-0.01874923706054...|              null|-0.17535566898497856|    0.07780044231428515|    0.009092585665178348|   0.009092585665178348| 0.06391718943290416|          null|         null|\n",
      "|2017-01-11|63.23|62.43|62.61|63.19|  null| 59.24516|   MICROSOFT|62.517999267578126|  62.5514281136649|  62.5514281136649| 62.71799926757812|62.638571058000835|62.638571058000835|  0.5344123840332031|              null|  0.9263664122397861|     0.3206922607720263|     0.14013170374726516|    0.14013170374726516|  1.4285638714837186|          null|         null|\n",
      "|2017-01-12| 63.4|61.95|63.06|62.61|  null| 58.70137|   MICROSOFT| 62.69199981689453|62.614999771118164|62.614999771118164|62.779999542236325| 62.63499975204468| 62.63499975204468| -0.5437889099121094|              null| -0.7136072837607809|    0.14259514465964618|     0.03341433030875941|    0.03341433030875941|  0.4975894429611872|          null|         null|\n",
      "|2017-01-13|62.87|62.35|62.62| 62.7|  null|58.785755|   MICROSOFT| 62.75599975585938| 62.61555523342557| 62.61555523342557| 62.75199966430664| 62.64222208658854| 62.64222208658854| 0.08438491821289062|              null|  0.1277576372074198|   -0.00520835908356...|     0.04389691996416613|    0.04389691996416613|-0.22278779405962237|          null|         null|\n",
      "|2017-01-17| 62.7|62.03|62.68|62.53|  null| 58.62637|   MICROSOFT| 62.74250030517578|62.621999740600586|62.621999740600586| 62.75749969482422| 62.63099975585938| 62.63099975585938|                null|              null|-0.23931321816940054|   0.025300886879256135|     0.01557590615080946|    0.01557590615080946|  -0.143716940198185|          null|         null|\n",
      "|2017-01-18| 62.7|62.12|62.67| 62.5|  null|58.598248|   MICROSOFT| 62.75749969482422| 62.62636323408647| 62.62636323408647| 62.58500003814697| 62.61909068714488| 62.61909068714488| -0.0281219482421875|              null| -0.2712592530911405|   -0.27410552945347555|    -0.01050001741664...|   -0.01050001741664...|  -1.091923172093992|          null|         null|\n",
      "|2017-01-19|62.98| 62.2|62.24| 62.3|  null|58.410725|   MICROSOFT|62.552499771118164| 62.59416643778483| 62.59416643778483| 62.50749969482422| 62.59249973297119| 62.59249973297119|-0.18752288818359375|              null| 0.09639710311014882|    -0.0716044327357431|    -0.00159192403940...|   -0.00159192403940...|-0.49512574950228133|          null|         null|\n",
      "|2017-01-20|62.82|62.37|62.67|62.74|  null| 58.82326|   MICROSOFT|  62.5649995803833|  62.5999996478741|  62.5999996478741|62.517499923706055|62.603846036470856|62.603846036470856|    0.41253662109375|              null|  0.1117017896390701|   -0.07561839462783054|    0.007122977012782538|   0.007122977012782538| 0.06380134679763247|          null|         null|\n",
      "|2017-01-23|63.12|62.57| 62.7|62.96|  null|59.029526|   MICROSOFT| 62.59199981689453| 62.60714258466448| 62.60714258466448| 62.60599975585937|62.629285539899556|62.629285539899556|                null|              null|  0.4146703642257087|   0.022439357142877304|     0.03623350467084869|    0.03623350467084869|                null|          null|         null|\n",
      "|2017-01-24|63.74|62.94| 63.2|63.52|  null| 59.55457|   MICROSOFT| 62.69599990844726| 62.64666646321614| 62.64666646321614| 62.80400009155274| 62.68866653442383| 62.68866653442383|  0.5250434875488281|              null|  0.5063286249386676|    0.17156772576449092|     0.06757317935536995|    0.06757317935536995|  1.5832462019353681|          null|         null|\n",
      "|2017-01-25| 64.1|63.45|63.95|63.68|  null|59.704575|   MICROSOFT| 62.95200042724609| 62.72812485694885| 62.72812485694885| 63.04000015258789|62.750624895095825|62.750624895095825| 0.15000534057617188|              null| -0.4222055583150885|    0.14137846471970134|    0.036962008250966294|   0.036962008250966294|   1.887986592695782|          null|         null|\n",
      "|2017-01-26|64.54|63.55|64.12|64.27|  null|60.257736|   MICROSOFT| 63.32800064086914| 62.81000002692728| 62.81000002692728|63.433999633789064|62.839999703799975|62.839999703799975|    0.55316162109375|              null| 0.23392684039204997|    0.16888441217608158|     0.04854817484750063|    0.04854817484750063|   3.162110344545635|          null|         null|\n",
      "|2017-01-27|65.91|64.89|65.39|65.78|  null| 61.67348|   MICROSOFT| 63.87200088500977| 62.95333332485623| 62.95333332485623| 64.04199905395508|63.003332985772026|63.003332985772026|  1.4157447814941406|              null|  0.5964205433379716|    0.26582816291586187|      0.0789855286525268|     0.0789855286525268|   4.845395623198585|          null|         null|\n",
      "|2017-01-30|65.79| 64.8|65.69|65.13|  null|61.064045|   MICROSOFT| 64.47000122070312| 63.09736854151676| 63.09736854151676| 64.47599868774414| 63.11526268406918| 63.11526268406918|                null|              null| -0.8524968293124834|   0.012394724208223452|    0.029960141391210476|   0.029960141391210476|  3.4466128085418886|          null|         null|\n",
      "|2017-01-31|65.15|64.26|64.86|64.65|  null| 60.61402|   MICROSOFT| 64.80200119018555|63.185500144958496|63.185500144958496| 64.70199890136719| 63.19199962615967| 63.19199962615967| -0.4500236511230469|              null|-0.32377286848057896|   -0.15362557447562586|    0.012273490897621003|   0.012273490897621003|  1.7789601542364581|          null|         null|\n",
      "+----------+-----+-----+-----+-----+------+---------+------------+------------------+------------------+------------------+------------------+------------------+------------------+--------------------+------------------+--------------------+-----------------------+------------------------+-----------------------+--------------------+--------------+-------------+\n",
      "only showing top 20 rows\n",
      "\n"
     ]
    },
    {
     "name": "stdout",
     "output_type": "stream",
     "text": [
      "+----------+------+------+------+------+------+---------+------------+------------------+------------------+------------------+------------------+------------------+------------------+--------------------+------------------+-------------------+-----------------------+------------------------+-----------------------+-------------------+--------------+-------------+\n",
      "|      Date|  High|   Low|  Open| Close|Volume|Adj Close|company_name|   Weekly Avg Open|  Monthly Avg Open|   Yearly Avg Open|  Weekly Avg Close| Monthly Avg Close|  Yearly Avg Close|    Daily Difference|Monthly Difference|       Daily Return|Weekly Avg Daily Return|Monthly Avg Daily Return|Yearly Avg Daily Return|      Weekly Return|Monthly Return|Yearly Return|\n",
      "+----------+------+------+------+------+------+---------+------------+------------------+------------------+------------------+------------------+------------------+------------------+--------------------+------------------+-------------------+-----------------------+------------------------+-----------------------+-------------------+--------------+-------------+\n",
      "|2017-01-03|44.066|42.192|42.972|43.398|  null|   43.398|       TESLA| 42.97200012207031| 42.97200012207031| 42.97200012207031| 43.39799880981445| 43.39799880981445| 43.39799880981445|                null|              null| 0.9913401436610085|     0.9913401436610085|      0.9913401436610085|     0.9913401436610085|               null|          null|         null|\n",
      "|2017-01-04|  45.6|42.862| 42.95|45.398|  null|   45.398|       TESLA| 42.96100044250488| 42.96100044250488| 42.96100044250488| 44.39799880981445| 44.39799880981445| 44.39799880981445|                 2.0|              null|  5.699646108009665|     3.3454931258353366|      3.3454931258353366|     3.3454931258353366|               null|          null|         null|\n",
      "|2017-01-05|45.496| 44.39|45.284| 45.35|  null|    45.35|       TESLA| 43.73533376057943| 43.73533376057943| 43.73533376057943|    44.71533203125|    44.71533203125|    44.71533203125|-0.04800033569335...|              null| 0.1457425952088501|      2.278909615626508|       2.278909615626508|      2.278909615626508|               null|          null|         null|\n",
      "|2017-01-06|46.062| 45.09|45.386|45.802|  null|   45.802|       TESLA|44.148000717163086|44.148000717163086|44.148000717163086|44.986998558044434|44.986998558044434|44.986998558044434|  0.4519996643066406|              null| 0.9165745757908189|     1.9383258556675858|      1.9383258556675858|     1.9383258556675858|               null|          null|         null|\n",
      "|2017-01-09|46.384|  45.6|45.794|46.256|  null|   46.256|       TESLA| 44.47720031738281| 44.47720031738281| 44.47720031738281| 45.24079895019531| 45.24079895019531| 45.24079895019531|                null|              null|  1.008869750334496|     1.7524346346009678|      1.7524346346009678|     1.7524346346009678|               null|          null|         null|\n",
      "|2017-01-10|  46.4|45.378|  46.4|45.974|  null|   45.974|       TESLA| 45.16280059814453| 44.79766718546549| 44.79766718546549| 45.75599899291992|45.362998962402344|45.362998962402344| -0.2820014953613281|              null|-0.9181088112762448|      1.370544843613517|      1.3073440602880992|     1.3073440602880992|  5.935758063204713|          null|         null|\n",
      "|2017-01-11|45.996|45.336|45.814|45.946|  null|   45.946|       TESLA|45.735600280761716|44.942857469831196|44.942857469831196| 45.86559906005859| 45.44628470284598| 45.44628470284598| -0.0279998779296875|              null|0.28812147347201655|     0.2882399167059874|      1.1617408336000874|     1.1617408336000874|  1.207102405524732|          null|         null|\n",
      "|2017-01-12| 46.14|45.116|45.812|45.918|  null|   45.918|       TESLA|45.841200256347655| 45.05150032043457| 45.05150032043457|    45.97919921875|  45.5052490234375|  45.5052490234375| -0.0279998779296875|              null|0.23137822466694885|     0.3053670425976071|      1.0454455074834452|     1.0454455074834452| 1.2524824973944817|          null|         null|\n",
      "|2017-01-13| 47.57|45.918|  46.0| 47.55|  null|    47.55|       TESLA| 45.96399993896485| 45.15688917371962| 45.15688917371962|46.328799438476565|45.732443491617836|45.732443491617836|  1.6319999694824219|              null|  3.369563558827276|     0.7959648392048985|      1.3036808465216485|     1.3036808465216485|  3.816429784023429|          null|         null|\n",
      "|2017-01-17|47.992|46.874| 47.34|47.116|  null|   47.116|       TESLA| 46.24149990081787|45.375200271606445|45.375200271606445| 46.63249969482422|  45.8707992553711|  45.8707992553711|                null|              null|-0.4731707281696214|     0.8539731321991549|      1.1259956890525216|     1.1259956890525216|  2.484017335822144|          null|         null|\n",
      "|2017-01-18|47.942|47.116| 47.33|47.672|  null|   47.672|       TESLA|46.620500564575195|45.552909504283555|45.552909504283555| 47.06400012969971|46.034544858065516|46.034544858065516|   0.555999755859375|              null| 0.7225840708306964|     0.9625887815388249|      1.0893219055778103|     1.0893219055778103|  3.756587671618207|          null|         null|\n",
      "|2017-01-19|49.736| 48.15| 49.45|48.752|  null|   48.752|       TESLA| 47.53000068664551| 45.87766710917155| 45.87766710917155| 47.77250003814697| 46.26099936167399| 46.26099936167399|  1.0799980163574219|              null|-1.4115305375189935|     0.5518615909923392|      0.8809175353197433|     0.8809175353197433|  6.171870898107921|          null|         null|\n",
      "|2017-01-20|  49.2|48.602|49.092|48.946|  null|   48.946|       TESLA| 48.30300045013428| 46.12492341261644| 46.12492341261644| 48.12150001525879| 46.46753780658428| 46.46753780658428|   0.194000244140625|              null|-0.2974006177397724|    -0.3648794531494227|      0.7902776773920882|     0.7902776773920882| 2.9358568472052067|          null|         null|\n",
      "|2017-01-23|50.178|  49.1| 49.17|49.784|  null|   49.784|       TESLA|48.476399993896486|46.342428752354216|46.342428752354216|48.454000091552736|46.704427991594585|46.704427991594585|                null|              null| 1.2487334770148384|    -0.0421568671165705|      0.8230245202222847|     0.8230245202222847|               null|          null|         null|\n",
      "|2017-01-24| 50.96| 49.93|  50.0|50.922|  null|   50.922|       TESLA|49.008399963378906|  46.5862668355306|  46.5862668355306| 49.21520004272461|46.985599517822266|46.985599517822266|    1.13800048828125|              null|  1.844001770019531|       0.42127763252126|      0.8910896702087677|     0.8910896702087677|  8.077934596840446|          null|         null|\n",
      "|2017-01-25|51.692| 50.36|51.462|50.894|  null|   50.894|       TESLA| 49.83479995727539|46.891000270843506|46.891000270843506| 49.85960006713867| 47.22987461090088| 47.22987461090088| -0.0279998779296875|              null| -1.103728525094224|   0.056015113336275936|      0.7664135330023307|     0.7664135330023307|  6.758684473601474|          null|         null|\n",
      "|2017-01-26|51.148| 50.15|50.858|50.502|  null|   50.502|       TESLA|50.116400146484374|  47.1243532966165|  47.1243532966165| 50.20960006713867|47.422352510340076|47.422352510340076| -0.3920021057128906|              null|-0.6999936994266478|     0.1983224809547451|      0.6801542840359203|     0.6801542840359203|  3.589596405145397|          null|         null|\n",
      "|2017-01-27|  50.6|49.704|50.276| 50.59|  null|    50.59|       TESLA| 50.35320053100586|47.299444834391274|47.299444834391274| 50.53840026855469| 47.59833293490939| 47.59833293490939| 0.08800125122070312|              null| 0.6245508193298224|    0.38271276836866397|      0.6770652026633592|     0.6770652026633592| 3.3588056956254047|          null|         null|\n",
      "|2017-01-30|51.058| 49.42|50.506|50.126|  null|   50.126|       TESLA|50.620401000976564|  47.4682109230443|  47.4682109230443|  50.6068000793457|47.731368014686986|47.731368014686986|                null|              null|-0.7523879622457816|   -0.01751151948345999|      0.6018308255628781|     0.6018308255628781| 0.6869657946924492|          null|         null|\n",
      "|2017-01-31|51.178| 49.54|49.848|50.386|  null|   50.386|       TESLA| 50.59000091552734| 47.58720035552979| 47.58720035552979| 50.49960021972656| 47.86409969329834| 47.86409969329834| 0.26000213623046875|              null| 1.0792850641376976|   -0.17045486065982668|      0.6257035374916191|     0.6257035374916191|-1.0525888393625331|          null|         null|\n",
      "+----------+------+------+------+------+------+---------+------------+------------------+------------------+------------------+------------------+------------------+------------------+--------------------+------------------+-------------------+-----------------------+------------------------+-----------------------+-------------------+--------------+-------------+\n",
      "only showing top 20 rows\n",
      "\n"
     ]
    },
    {
     "name": "stdout",
     "output_type": "stream",
     "text": [
      "+----------+------+------+-----+-----+--------+---------+------------+-----------------+-----------------+-----------------+------------------+------------------+------------------+-------------------+------------------+-------------------+-----------------------+------------------------+-----------------------+--------------------+--------------+-------------+\n",
      "|      Date|  High|   Low| Open|Close|  Volume|Adj Close|company_name|  Weekly Avg Open| Monthly Avg Open|  Yearly Avg Open|  Weekly Avg Close| Monthly Avg Close|  Yearly Avg Close|   Daily Difference|Monthly Difference|       Daily Return|Weekly Avg Daily Return|Monthly Avg Daily Return|Yearly Avg Daily Return|       Weekly Return|Monthly Return|Yearly Return|\n",
      "+----------+------+------+-----+-----+--------+---------+------------+-----------------+-----------------+-----------------+------------------+------------------+------------------+-------------------+------------------+-------------------+-----------------------+------------------------+-----------------------+--------------------+--------------+-------------+\n",
      "|2019-04-18|  66.0|60.321| 65.0| 62.0|25764700|     62.0|        ZOOM|             65.0|             65.0|             65.0|              62.0|              62.0|              62.0|               null|              null| -4.615384615384616|     -4.615384615384616|      -4.615384615384616|     -4.615384615384616|                null|          null|         null|\n",
      "|2019-04-22|  68.9| 59.94| 61.0| 65.7| 9949700|     65.7|        ZOOM|             63.0|             63.0|             63.0|63.849998474121094|63.849998474121094|63.849998474121094|               null|              null|  7.704913029905224|     1.5447642072603043|      1.5447642072603043|     1.5447642072603043|                null|          null|         null|\n",
      "|2019-04-23|74.169| 65.55|66.87| 69.0| 6786500|     69.0|        ZOOM|64.29000091552734|64.29000091552734|64.29000091552734| 65.56666564941406| 65.56666564941406| 65.56666564941406| 3.3000030517578125|              null| 3.1852806429364784|     2.0916030191523625|      2.0916030191523625|     2.0916030191523625|                null|          null|         null|\n",
      "|2019-04-24|  71.5| 63.16| 71.4| 63.2| 4973500|     63.2|        ZOOM|66.06750106811523|66.06750106811523|66.06750106811523| 64.97499942779541| 64.97499942779541| 64.97499942779541| -5.799999237060547|              null|-11.484594660642081|    -1.3024464007962484|     -1.3024464007962484|    -1.3024464007962484|                null|          null|         null|\n",
      "|2019-04-25| 66.85|  62.6|64.74| 65.0| 3863300|     65.0|        ZOOM|66.00250053405762| 65.8020004272461| 65.8020004272461| 65.72499942779541| 64.97999954223633| 64.97999954223633| 1.7999992370605469|              null| 0.4016097386619993|   -0.04819781228459484|     -0.9616351729045988|    -0.9616351729045988|   4.838709677419355|          null|         null|\n",
      "|2019-04-26| 66.99|  63.6|66.12|66.22| 1527400|    66.22|        ZOOM| 66.0260009765625|65.85500081380208|65.85500081380208| 65.82399978637696| 65.18666648864746| 65.18666648864746|  1.220001220703125|              null|0.15123785536482456|   -0.00831067875471...|     -0.7761563348596949|    -0.7761563348596949|                null|          null|         null|\n",
      "|2019-04-29|  68.5| 64.75|66.53|68.17| 1822300|    68.17|        ZOOM|67.13200073242187|65.95142909458706|65.95142909458706| 66.31800003051758|    65.61285672869|    65.61285672869|               null|              null|  2.465052487207892|    -1.0562827872941773|    -0.31312650313575396|   -0.31312650313575396|  3.7595149702198127|          null|         null|\n",
      "|2019-04-30| 72.52| 66.67| 68.4|72.47| 4113100|    72.47|        ZOOM|67.43800048828125|66.25750064849854|66.25750064849854|  67.0120002746582| 66.46999979019165| 66.46999979019165| 4.3000030517578125|              null|  5.950291818757267|    -0.5032805521300195|      0.4698007871008737|     0.4698007871008737|   5.028987276381341|          null|         null|\n",
      "|2019-05-01| 76.95|70.816|72.72|72.76| 3301900|    72.76|        ZOOM|67.70200042724609|66.97555626763238|66.97555626763238|  68.9240005493164| 67.16888893975153| 67.16888893975153|0.29000091552734375|              null|0.05500675860268774|     1.8046397317189338|      0.4237125617121864|     0.4237125617121864|   15.12658426880433|          null|         null|\n",
      "|2019-05-02| 75.89|69.691|72.75| 75.5| 2525300|     75.5|        ZOOM|69.30400085449219|67.55300064086914|67.55300064086914| 71.02400054931641| 68.00200004577637| 68.00200004577637| 2.7399978637695312|              null| 3.7800687285223367|     2.4803315296910013|      0.7593481783932015|     0.7593481783932015|  16.153846153846153|          null|         null|\n",
      "|2019-05-03| 80.25|  75.0| 75.0|79.18| 2590300|    79.18|        ZOOM|71.08000030517579|68.23000058260831|68.23000058260831| 73.61600036621094| 69.01818188753995| 69.01818188753995| 3.6800003051757812|              null|  5.573333740234375|      3.564750706664912|      1.1969832294696716|     1.1969832294696716|  19.571124804541416|          null|         null|\n",
      "|2019-05-06| 80.79|  74.5|75.01|78.24| 2051800|    78.24|        ZOOM| 72.7760009765625|68.79500071207683|68.79500071207683| 75.63000030517578| 69.78666655222575| 69.78666655222575|               null|              null|  4.306086702507834|     3.9329575497249003|       1.456075185556185|      1.456075185556185|  14.771893744030617|          null|         null|\n",
      "|2019-05-07| 78.05| 73.25|77.85|73.33| 1975200|    73.33|        ZOOM|74.66600036621094|69.49153900146484|69.49153900146484|  75.8020004272461| 70.05923080444336| 70.05923080444336| -4.909996032714844|              null| -5.806033052870186|     1.5816925753994096|      0.8974514749080028|     0.8974514749080028|   1.186698766200488|          null|         null|\n",
      "|2019-05-08|  78.5| 74.03|74.61|77.68| 2265500|    77.68|        ZOOM|75.04400024414062|69.85714340209961|69.85714340209961| 76.78600006103515|  70.6035714830671|  70.6035714830671|  4.349998474121094|              null|  4.114729486275168|     2.3936371209339056|      1.1272570471485146|     1.1272570471485146|   6.761954404197887|          null|         null|\n",
      "|2019-05-09| 76.99|  74.0|76.85|75.21| 1348200|    75.21|        ZOOM|75.86399993896484|70.32333374023438|70.32333374023438| 76.72799987792969| 70.91066665649414| 70.91066665649414| -2.470001220703125|              null|-2.1340265741198423|       1.21081806040547|      0.9098381390639575|     0.9098381390639575|  -0.384107172883899|          null|         null|\n",
      "|2019-05-10| 79.74| 74.77|75.79|79.63| 1555100|    79.63|        ZOOM|76.02200012207031|70.66500043869019|70.66500043869019| 76.81799926757813| 71.45562481880188| 71.45562481880188| 4.4199981689453125|              null|  5.066626588605717|      1.109476630079738|      1.1696374171603174|     1.1696374171603174|  0.5683214782872038|          null|         null|\n",
      "|2019-05-13| 77.39|  70.6|77.39|72.54| 2873200|    72.54|        ZOOM|76.49799957275391|71.06058861227596|71.06058861227596|  75.6779998779297| 71.51941164802102| 71.51941164802102|               null|              null|-6.2669576332492145|    -1.0051322370716715|      0.7321906494891685|     0.7321906494891685|  -7.285272372025045|          null|         null|\n",
      "|2019-05-14|76.885| 73.11|74.12|73.14| 1950400|    73.14|        ZOOM|75.75200042724609|71.23055606418185|71.23055606418185| 75.63999938964844| 71.60944430033366| 71.60944430033366| 0.5999984741210938|              null|-1.3221847283037043|   -0.10836257215837519|      0.6180586840562312|     0.6180586840562312|-0.25910600935753075|          null|         null|\n",
      "|2019-05-15|  80.0| 72.21| 73.4|79.76| 2426500|    79.76|        ZOOM|75.51000061035157|71.34473740427117|71.34473740427117| 76.05599975585938| 72.03842102853875| 72.03842102853875|  6.620002746582031|              null|  8.664850787651815|     0.8016616881169544|      1.0415740579296828|     1.0415740579296828|  2.6776542519092885|          null|         null|\n",
      "|2019-05-16| 87.55| 79.25|80.12| 83.4| 4580700|     83.4|        ZOOM|76.16400146484375|71.78350067138672|71.78350067138672| 77.69400024414062| 72.60650005340577| 72.60650005340577| 3.6399993896484375|              null|  4.093857547248776|      2.047238512390678|      1.1941882323956374|     1.1941882323956374|  10.889512752430152|          null|         null|\n",
      "+----------+------+------+-----+-----+--------+---------+------------+-----------------+-----------------+-----------------+------------------+------------------+------------------+-------------------+------------------+-------------------+-----------------------+------------------------+-----------------------+--------------------+--------------+-------------+\n",
      "only showing top 20 rows\n",
      "\n"
     ]
    },
    {
     "name": "stdout",
     "output_type": "stream",
     "text": [
      "Correlation between AMAZON and APPLE\n",
      "[['High', 'Low', 'Open', 'Close', 'Adj Close'], [0.9297874259390847, 0.9294547100635051, 0.929432373427345, 0.9292860084204524, 0.9314678774869076]]\n"
     ]
    },
    {
     "name": "stderr",
     "output_type": "stream",
     "text": [
      "\r",
      "[Stage 257:>                                                        (0 + 1) / 1]\r",
      "\r",
      "                                                                                \r"
     ]
    },
    {
     "name": "stdout",
     "output_type": "stream",
     "text": [
      "Correlation between AMAZON and FACEBOOK\n",
      "[['High', 'Low', 'Open', 'Close', 'Adj Close'], [0.8682214375390286, 0.858656263465311, 0.8630665010422292, 0.8628112282541691, 0.8628112282541691]]\n",
      "Correlation between AMAZON and GOOGLE\n",
      "[['High', 'Low', 'Open', 'Close', 'Adj Close'], [0.9279218467592136, 0.9238630174063731, 0.9262870255493186, 0.9255061932293708, 0.9255061932293708]]\n"
     ]
    },
    {
     "name": "stderr",
     "output_type": "stream",
     "text": [
      "\r",
      "[Stage 303:>                                                        (0 + 1) / 1]\r",
      "\r",
      "                                                                                \r"
     ]
    },
    {
     "name": "stdout",
     "output_type": "stream",
     "text": [
      "Correlation between AMAZON and MICROSOFT\n",
      "[['High', 'Low', 'Open', 'Close', 'Adj Close'], [0.951284096151614, 0.9524913662368054, 0.9514272822500527, 0.9519391984487741, 0.9511824060153518]]\n"
     ]
    },
    {
     "name": "stderr",
     "output_type": "stream",
     "text": [
      "\r",
      "[Stage 326:>                                                        (0 + 1) / 1]\r",
      "\r",
      "                                                                                \r"
     ]
    },
    {
     "name": "stdout",
     "output_type": "stream",
     "text": [
      "Correlation between AMAZON and TESLA\n",
      "[['High', 'Low', 'Open', 'Close', 'Adj Close'], [0.8123427553679604, 0.8069472186412819, 0.8100728829691062, 0.8094073996359907, 0.8094073996359907]]\n"
     ]
    },
    {
     "name": "stderr",
     "output_type": "stream",
     "text": [
      "\r",
      "[Stage 349:>                                                        (0 + 1) / 1]\r",
      "\r",
      "                                                                                \r"
     ]
    },
    {
     "name": "stdout",
     "output_type": "stream",
     "text": [
      "Correlation between AMAZON and ZOOM\n",
      "[['High', 'Low', 'Open', 'Close', 'Adj Close'], [0.9133082712469004, 0.9140200107429356, 0.9144061918476822, 0.914744271428987, 0.914744271428987]]\n"
     ]
    },
    {
     "name": "stderr",
     "output_type": "stream",
     "text": [
      "\r",
      "[Stage 372:>                                                        (0 + 1) / 1]\r",
      "\r",
      "                                                                                \r"
     ]
    },
    {
     "name": "stdout",
     "output_type": "stream",
     "text": [
      "Correlation between APPLE and FACEBOOK\n",
      "[['High', 'Low', 'Open', 'Close', 'Adj Close'], [0.912895378181455, 0.9061836311978357, 0.9093706647109683, 0.909143831170847, 0.9086533367686319]]\n",
      "Correlation between APPLE and GOOGLE\n",
      "[['High', 'Low', 'Open', 'Close', 'Adj Close'], [0.9250570139204963, 0.9229422544755259, 0.9232986324073348, 0.9238202964706318, 0.9246956687641503]]\n",
      "Correlation between APPLE and MICROSOFT\n",
      "[['High', 'Low', 'Open', 'Close', 'Adj Close'], [0.9412485224711806, 0.9417320000174492, 0.940544899449, 0.9414663222485514, 0.9439920309680077]]\n"
     ]
    },
    {
     "name": "stderr",
     "output_type": "stream",
     "text": [
      "\r",
      "[Stage 441:>                                                        (0 + 1) / 1]\r",
      "\r",
      "                                                                                \r"
     ]
    },
    {
     "name": "stdout",
     "output_type": "stream",
     "text": [
      "Correlation between APPLE and TESLA\n",
      "[['High', 'Low', 'Open', 'Close', 'Adj Close'], [0.9113585843845249, 0.9083134679329079, 0.9101124008032263, 0.9094872749905819, 0.908939847211644]]\n"
     ]
    },
    {
     "name": "stderr",
     "output_type": "stream",
     "text": [
      "\r",
      "[Stage 464:>                                                        (0 + 1) / 1]\r",
      "\r",
      "                                                                                \r"
     ]
    },
    {
     "name": "stdout",
     "output_type": "stream",
     "text": [
      "Correlation between APPLE and ZOOM\n",
      "[['High', 'Low', 'Open', 'Close', 'Adj Close'], [0.8808886369902045, 0.8784167261492821, 0.8794186794999088, 0.8798818350347076, 0.8822159457571348]]\n"
     ]
    },
    {
     "name": "stderr",
     "output_type": "stream",
     "text": [
      "                                                                                \r"
     ]
    },
    {
     "name": "stdout",
     "output_type": "stream",
     "text": [
      "Correlation between FACEBOOK and GOOGLE\n",
      "[['High', 'Low', 'Open', 'Close', 'Adj Close'], [0.9013204763144368, 0.8985141699549771, 0.8993882249308792, 0.9000839548151618, 0.9000839548151618]]\n"
     ]
    },
    {
     "name": "stderr",
     "output_type": "stream",
     "text": [
      "\r",
      "[Stage 510:>                                                        (0 + 1) / 1]\r",
      "\r",
      "                                                                                \r"
     ]
    },
    {
     "name": "stdout",
     "output_type": "stream",
     "text": [
      "Correlation between FACEBOOK and MICROSOFT\n",
      "[['High', 'Low', 'Open', 'Close', 'Adj Close'], [0.8611344337622792, 0.853161152499042, 0.8567486831660741, 0.8570760230066189, 0.8556526821290147]]\n",
      "Correlation between FACEBOOK and TESLA\n",
      "[['High', 'Low', 'Open', 'Close', 'Adj Close'], [0.8331028488431108, 0.8246657984737641, 0.8286301094216965, 0.8288057479037657, 0.8288057479037657]]\n",
      "Correlation between FACEBOOK and ZOOM\n",
      "[['High', 'Low', 'Open', 'Close', 'Adj Close'], [0.8549963510605557, 0.8442544993637039, 0.851767510593323, 0.8500061058765412, 0.8500061058765412]]\n"
     ]
    },
    {
     "name": "stderr",
     "output_type": "stream",
     "text": [
      "\r",
      "[Stage 579:>                                                        (0 + 1) / 1]\r",
      "\r",
      "                                                                                \r"
     ]
    },
    {
     "name": "stdout",
     "output_type": "stream",
     "text": [
      "Correlation between GOOGLE and MICROSOFT\n",
      "[['High', 'Low', 'Open', 'Close', 'Adj Close'], [0.9453856481181697, 0.942653299169456, 0.9442185369519542, 0.9442882610519647, 0.9433944144632486]]\n"
     ]
    },
    {
     "name": "stderr",
     "output_type": "stream",
     "text": [
      "\r",
      "[Stage 602:>                                                        (0 + 1) / 1]\r",
      "\r",
      "                                                                                \r"
     ]
    },
    {
     "name": "stdout",
     "output_type": "stream",
     "text": [
      "Correlation between GOOGLE and TESLA\n",
      "[['High', 'Low', 'Open', 'Close', 'Adj Close'], [0.7712390089726987, 0.7631472893662992, 0.7666815667279554, 0.7665494283405445, 0.7665494283405445]]\n"
     ]
    },
    {
     "name": "stderr",
     "output_type": "stream",
     "text": [
      "                                                                                \r"
     ]
    },
    {
     "name": "stdout",
     "output_type": "stream",
     "text": [
      "Correlation between GOOGLE and ZOOM\n",
      "[['High', 'Low', 'Open', 'Close', 'Adj Close'], [0.7498826496251751, 0.7311612333480673, 0.7419145392050145, 0.7405503876943942, 0.7405503876943942]]\n"
     ]
    },
    {
     "name": "stderr",
     "output_type": "stream",
     "text": [
      "\r",
      "[Stage 648:>                                                        (0 + 1) / 1]\r",
      "\r",
      "                                                                                \r"
     ]
    },
    {
     "name": "stdout",
     "output_type": "stream",
     "text": [
      "Correlation between MICROSOFT and TESLA\n",
      "[['High', 'Low', 'Open', 'Close', 'Adj Close'], [0.7743821540247339, 0.7703609856919504, 0.7719231288541617, 0.7720378958676984, 0.7718157786620587]]\n"
     ]
    },
    {
     "name": "stderr",
     "output_type": "stream",
     "text": [
      "\r",
      "[Stage 671:>                                                        (0 + 1) / 1]\r",
      "\r",
      "                                                                                \r"
     ]
    },
    {
     "name": "stdout",
     "output_type": "stream",
     "text": [
      "Correlation between MICROSOFT and ZOOM\n",
      "[['High', 'Low', 'Open', 'Close', 'Adj Close'], [0.842943435742423, 0.8431835101596402, 0.8420396419988482, 0.8431651966720145, 0.8451039311151026]]\n",
      "Correlation between TESLA and ZOOM\n",
      "[['High', 'Low', 'Open', 'Close', 'Adj Close'], [0.9406250294875865, 0.9448065212915425, 0.9426038471310438, 0.9431541228015273, 0.9431541228015273]]\n"
     ]
    },
    {
     "name": "stderr",
     "output_type": "stream",
     "text": [
      "\r",
      "[Stage 717:>                                                        (0 + 1) / 1]\r"
     ]
    },
    {
     "name": "stdout",
     "output_type": "stream",
     "text": [
      "Best return rate is 773.114967438317 for the stock of TESLA\n"
     ]
    },
    {
     "name": "stderr",
     "output_type": "stream",
     "text": [
      "\r",
      "                                                                                \r"
     ]
    }
   ],
   "source": [
    "df = main()"
   ]
  },
  {
   "cell_type": "markdown",
   "metadata": {
    "application/vnd.databricks.v1+cell": {
     "inputWidgets": {},
     "nuid": "d1184824-d118-4e97-ad52-f2713e5d6dce",
     "showTitle": false,
     "title": ""
    }
   },
   "source": [
    "#### We can cite and explain several insights that could be helpful to explore the data further :\n",
    "\n",
    "- MACD : calculated using the difference between a short term EMA (12-period) and a long term EMA (26 period), period being a time interval and EMA being the exponential moving average, a type of moving average where more weight is given to more recent data points. Its value can signify a change in momentum of the stock price.\n",
    "- Aroon oscillator : value computed by calculating the difference between aroon up and aroon down, it describes the general tendency of the stock price evolution, whether it is going up or down\n",
    "- Portfolio diversification : this process implies observing and detecting stocks which are not related, as to invest in these to minimize the risk if one sector where to crash\n",
    "- Bollinger Band : a statistical chart copyrighted by John Bollinger that produces bounds on the stock price evolution in order to represent volatility, closer bounds meaning low volatility.\n",
    "- Value at risk : calculation that gives us the probability of a big loss or gain in the stock\n",
    "- Portfolio optimization : set of techniques that allow us to select an optimal portfolio for maximizing expected return and minimizing risk \n",
    "- Using Facebook's Prophet Model : a model developed by facebook that can predict trend in stock price evolution using data\n",
    "- ARIMA (Autoregressive integrated moving average) : model using moving average of variables in stock prices in order to perform regression and predict future evolution\n",
    "\n",
    "however, implementing all these insights is reasonably not in the scope of this project, furthermore some of them require additional data."
   ]
  },
  {
   "cell_type": "markdown",
   "metadata": {
    "application/vnd.databricks.v1+cell": {
     "inputWidgets": {},
     "nuid": "b7b1d973-f7fa-4575-96a9-036db5c46c9b",
     "showTitle": false,
     "title": ""
    }
   },
   "source": [
    "## Second Step : ML"
   ]
  },
  {
   "cell_type": "markdown",
   "metadata": {
    "application/vnd.databricks.v1+cell": {
     "inputWidgets": {},
     "nuid": "14a24e08-9897-4323-b694-fdf406e193d1",
     "showTitle": false,
     "title": ""
    }
   },
   "source": [
    "On this part we are going to use regression models to predict the Avg Close of some day, which is basically a measure of the stock value at a specific time point."
   ]
  },
  {
   "cell_type": "markdown",
   "metadata": {
    "application/vnd.databricks.v1+cell": {
     "inputWidgets": {},
     "nuid": "fa650e4e-1c9a-4b99-86af-7348e649c225",
     "showTitle": false,
     "title": ""
    }
   },
   "source": [
    "#### 1) Data Preparation\n",
    "For now we will focus on a model that can predict the Adj Close of a day given data of the previous day. Our model will thus be able to give short-term predictions.\n",
    "In other terms, we want to be able to predict the Avg Close for the next day given a specific day, to do this we will add the next day's Adj Close for any row as a new column."
   ]
  },
  {
   "cell_type": "code",
   "execution_count": 14,
   "metadata": {
    "application/vnd.databricks.v1+cell": {
     "inputWidgets": {},
     "nuid": "5903c489-7c0f-4f73-a871-f46ce0fafadb",
     "showTitle": false,
     "title": ""
    }
   },
   "outputs": [
    {
     "name": "stdout",
     "output_type": "stream",
     "text": [
      "+----------+------+------+------+------+-------+---------+------------+-----------------+-----------------+-----------------+-----------------+-----------------+-----------------+-----------------+------------------+--------------------+-----------------------+------------------------+-----------------------+-------------------+--------------+-------------+-----------------+\n",
      "|      Date|  High|   Low|  Open| Close| Volume|Adj Close|company_name|  Weekly Avg Open| Monthly Avg Open|  Yearly Avg Open| Weekly Avg Close|Monthly Avg Close| Yearly Avg Close| Daily Difference|Monthly Difference|        Daily Return|Weekly Avg Daily Return|Monthly Avg Daily Return|Yearly Avg Daily Return|      Weekly Return|Monthly Return|Yearly Return|     Adj Close +1|\n",
      "+----------+------+------+------+------+-------+---------+------------+-----------------+-----------------+-----------------+-----------------+-----------------+-----------------+-----------------+------------------+--------------------+-----------------------+------------------------+-----------------------+-------------------+--------------+-------------+-----------------+\n",
      "|2017-01-03|758.76| 747.7|757.92|753.67|3521100|   753.67|      AMAZON|757.9199829101562|757.9199829101562|757.9199829101562|753.6699829101562|753.6699829101562|753.6699829101562|             null|              null| -0.5607452100261875|    -0.5607452100261875|     -0.5607452100261875|    -0.5607452100261875|               null|          null|         null|757.1799926757812|\n",
      "|2017-01-04|759.68| 754.2|758.39|757.18|2510500|   757.18|      AMAZON|758.1549987792969|758.1549987792969|758.1549987792969|755.4249877929688|755.4249877929688|755.4249877929688|   3.510009765625|              null|  -0.159551411448524|   -0.36014831073735576|    -0.36014831073735576|   -0.36014831073735576|               null|          null|         null|780.4500122070312|\n",
      "|2017-01-05| 782.4|760.26|761.55|780.45|5830100|   780.45|      AMAZON|759.2866617838541|759.2866617838541|759.2866617838541|763.7666625976562|763.7666625976562|763.7666625976562|   23.27001953125|              null|  2.4817838247015467|     0.5871624010756117|      0.5871624010756117|     0.5871624010756117|               null|          null|         null| 795.989990234375|\n",
      "|2017-01-06|799.44|778.48|782.36|795.99|5986200|   795.99|      AMAZON|765.0549926757812|765.0549926757812|765.0549926757812|771.8224945068359|771.8224945068359|771.8224945068359|15.53997802734375|              null|   1.742165389080795|     0.8759131480769076|      0.8759131480769076|     0.8759131480769076|               null|          null|         null|             null|\n",
      "|2017-01-09|801.77|791.77| 798.0|796.92|3446100|   796.92|      AMAZON| 771.643994140625| 771.643994140625| 771.643994140625|   776.8419921875|   776.8419921875|   776.8419921875|             null|              null|-0.13534048744909147|     0.6736624209717077|      0.6736624209717077|     0.6736624209717077|               null|          null|         null|795.9000244140625|\n",
      "|2017-01-10| 798.0|789.54| 796.6| 795.9|2558400|    795.9|      AMAZON|779.3799926757813|775.8033243815104|775.8033243815104|785.2880004882812|780.0183308919271|780.0183308919271|-1.01995849609375|              null|-0.08786733534107283|     0.7682379959087307|      0.5467407949195776|     0.5467407949195776| 5.6032537398985705|          null|         null|  799.02001953125|\n",
      "|2017-01-11| 799.5|789.51|793.66|799.02|2992800|   799.02|      AMAZON|    786.433984375|778.3542742047991|778.3542742047991| 793.656005859375|782.7328578404018|782.7328578404018|  3.1199951171875|              null|   0.675358033426066|      0.935219884883649|      0.5651146861347903|     0.5651146861347903|  5.525770260729054|          null|         null|813.6400146484375|\n",
      "|2017-01-12|814.13| 799.5|800.31|813.64|4873900|   813.64|      AMAZON| 794.185986328125|781.0987396240234|781.0987396240234|800.2940063476562|786.5962524414062|786.5962524414062| 14.6199951171875|              null|  1.6656067187099972|     0.7719844636853388|      0.7026761902066911|     0.7026761902066911|  4.252674985236836|          null|         null|817.1400146484375|\n",
      "|2017-01-13|821.65| 811.4|814.32|817.14|3791900|   817.14|      AMAZON|800.5779907226563|784.7899915907118|784.7899915907118|804.5240112304688| 789.990003797743| 789.990003797743|              3.5|              null| 0.34630210468302713|    0.49281180680578524|      0.6630790695929507|     0.6630790695929507| 2.6570716558678065|          null|         null|             null|\n",
      "|2017-01-17| 816.0|803.44| 815.7|809.72|3670500|   809.72|      AMAZON|805.9974975585938|787.8809936523437|787.8809936523437|809.8800048828125|791.9630004882813|791.9630004882813|             null|              null| -0.7331177411320753|     0.4885372789217538|       0.523459388520448|      0.523459388520448| 1.7363922433896988|          null|         null|  807.47998046875|\n",
      "|2017-01-18|811.73|804.27| 809.5|807.48|2354200|   807.48|      AMAZON|809.9575042724609| 789.846357865767| 789.846357865767|811.9949951171875|793.3736350319602|793.3736350319602|  -2.239990234375|              null|-0.24953916383570104|    0.25731297960631205|     0.45318679285170727|    0.45318679285170727|  1.058792111674885|          null|         null|809.0399780273438|\n",
      "|2017-01-19|813.51|807.32| 810.0|809.04|2540800|   809.04|      AMAZON|812.3800048828125|791.5258280436198|791.5258280436198|810.8449859619141|794.6791636149088|794.6791636149088| 1.55999755859375|              null|-0.11852123119212962|   -0.18871900786921972|     0.40554445751472085|    0.40554445751472085| -0.565365092458163|          null|         null|808.3300170898438|\n",
      "|2017-01-20|816.02|806.26|815.28|808.33|3376200|   808.33|      AMAZON|812.6200103759766|793.3530742938702|793.3530742938702|808.6424865722656|795.7292292668269|795.7292292668269|    -0.7099609375|              null| -0.8524693304489717|    -0.4884118666522194|      0.3087741661328983|     0.3087741661328983|-1.0781503048023076|          null|         null|             null|\n",
      "|2017-01-23| 818.5|805.08| 806.8|817.88|2797500|   817.88|      AMAZON| 811.456005859375|794.3135681152344|794.3135681152344| 810.489990234375|797.3114275251116|797.3114275251116|             null|              null|  1.3733288618599941|   -0.11606372094977671|      0.3848137872562623|     0.3848137872562623|               null|          null|         null|822.4400024414062|\n",
      "|2017-01-24|823.99| 814.5| 822.0|822.44|2971700|   822.44|      AMAZON|812.7160034179688|796.1593302408854|796.1593302408854|813.0339965820312|798.9866658528646|798.9866658528646| 4.55999755859375|              null|0.053528277543339414|   0.041265482785306236|      0.3627280866087341|     0.3627280866087341|  1.570917378663112|          null|         null|  836.52001953125|\n",
      "|2017-01-25|837.42|825.29|825.79|836.52|3922600|   836.52|      AMAZON|815.9739990234375|798.0112457275391|798.0112457275391|818.8420043945313|801.3325004577637|801.3325004577637|14.08001708984375|              null|  1.2993668837612067|     0.3510466923046878|     0.42126801143076364|    0.42126801143076364| 3.5963788285676106|          null|         null|839.1500244140625|\n",
      "|2017-01-26|843.84| 833.0|835.53|839.15|3586300|   839.15|      AMAZON|821.0800048828125|800.2182329963235|800.2182329963235| 824.864013671875|803.5570606904871|803.5570606904871|  2.6300048828125|              null|  0.4332573325023208|     0.4614024050435779|      0.4219732656114435|     0.4219732656114435| 3.7217006828432773|          null|         null|  835.77001953125|\n",
      "|2017-01-27| 839.7|829.44| 839.0|835.77|2998700|   835.77|      AMAZON|825.8239990234375|802.3727756076389|802.3727756076389|830.3520141601563| 805.346669514974| 805.346669514974| -3.3800048828125|              null|-0.38497979365315854|     0.5549003124027404|     0.37714254009674336|    0.37714254009674336| 3.3946534040880936|          null|         null|             null|\n",
      "|2017-01-30| 833.5|816.38| 833.0|830.38|3747300|   830.38|      AMAZON|831.0640014648437|803.9847347861842|803.9847347861842|832.8520141601563|806.6642134817023|806.6642134817023|             null|              null|-0.31452522415216083|    0.21732949520030953|     0.34073897355732735|    0.34073897355732735| 1.5283415568755743|          null|         null|  823.47998046875|\n",
      "|2017-01-31|826.99|819.56|823.75|823.48|3137200|   823.48|      AMAZON|831.4140014648438| 804.972998046875| 804.972998046875| 833.060009765625|807.5050018310546|807.5050018310546| -6.9000244140625|              null| -0.0327793057663126|    0.20006797853837913|      0.3220630595911454|     0.3220630595911454|0.12645032151361604|          null|         null|832.3499755859375|\n",
      "+----------+------+------+------+------+-------+---------+------------+-----------------+-----------------+-----------------+-----------------+-----------------+-----------------+-----------------+------------------+--------------------+-----------------------+------------------------+-----------------------+-------------------+--------------+-------------+-----------------+\n",
      "only showing top 20 rows\n",
      "\n"
     ]
    }
   ],
   "source": [
    "df_ml = df\n",
    "w = Window.partitionBy(F.col(\"company_name\")).orderBy(F.col(\"Date\").cast(\"timestamp\").cast(\"long\")).rangeBetween(days(1), days(1))\n",
    "df_ml = df_ml.withColumn(\"Adj Close +1\",F.avg(\"Adj Close\").over(w))\n",
    "df_ml.show()"
   ]
  },
  {
   "cell_type": "markdown",
   "metadata": {
    "application/vnd.databricks.v1+cell": {
     "inputWidgets": {},
     "nuid": "5a5530d9-bcd1-4f15-879c-1e4c2ec9daf2",
     "showTitle": false,
     "title": ""
    }
   },
   "source": [
    "Of course we do not always have information on the next day for every day on our database. We have to remove rows where this information is not disponible as it is the one we want to predict. Sadly this represents 1393/6333 = 21 % of our data, we will keep this in mind."
   ]
  },
  {
   "cell_type": "code",
   "execution_count": 15,
   "metadata": {
    "application/vnd.databricks.v1+cell": {
     "inputWidgets": {},
     "nuid": "88ea82c1-4d7a-4834-8838-f679cc6828a9",
     "showTitle": false,
     "title": ""
    }
   },
   "outputs": [
    {
     "name": "stdout",
     "output_type": "stream",
     "text": [
      "+------------------------+\n",
      "|Adj Close +1 -- nb nulls|\n",
      "+------------------------+\n",
      "|                    1393|\n",
      "+------------------------+\n",
      "\n",
      "DF size: 6333\n",
      "DF size without Adj Close +1 nulls: 4940\n"
     ]
    }
   ],
   "source": [
    "df_ml.select(F.count(F.when(F.isnull(\"Adj Close +1\"), \"Adj Close +1\")).alias(\"Adj Close +1 -- nb nulls\")).show()\n",
    "print(\"DF size: \" + str(df_ml.count()))\n",
    "df_ml = df_ml.filter(df_ml[\"Adj Close +1\"].isNotNull())\n",
    "print(\"DF size without Adj Close +1 nulls: \" + str(df_ml.count()))"
   ]
  },
  {
   "cell_type": "markdown",
   "metadata": {
    "application/vnd.databricks.v1+cell": {
     "inputWidgets": {},
     "nuid": "4783446e-9a1a-4e1c-a402-63ad21021ef6",
     "showTitle": false,
     "title": ""
    }
   },
   "source": [
    "#### 2) Linear Regression\n",
    "We will train our model on a 80/20 train/test split of our data. For now the explicative variables will be 'Open', 'Close', 'Weekly Avg Daily Return', 'Monthly Avg Daily Return' and 'Yearly Avg Daily Return'. We will construct a vector column for our features using these variables."
   ]
  },
  {
   "cell_type": "code",
   "execution_count": 16,
   "metadata": {
    "application/vnd.databricks.v1+cell": {
     "inputWidgets": {},
     "nuid": "0417a32f-b9b3-46e7-9f92-9a0777131588",
     "showTitle": false,
     "title": ""
    }
   },
   "outputs": [],
   "source": [
    "from pyspark.ml.feature import VectorAssembler\n",
    "\n",
    "trainDF, testDF = df_ml.randomSplit([.8, .2], seed=42)\n",
    "\n",
    "vecAssembler = VectorAssembler(inputCols=['Open', 'Close', 'Weekly Avg Close', 'Monthly Avg Close', 'Yearly Avg Close'], outputCol=\"features\")"
   ]
  },
  {
   "cell_type": "markdown",
   "metadata": {
    "application/vnd.databricks.v1+cell": {
     "inputWidgets": {},
     "nuid": "c2296673-7270-4b20-83a4-74385f7a1a8b",
     "showTitle": false,
     "title": ""
    }
   },
   "source": [
    "We will train using basic Linear Regression for now, it will be our baseline for the rest of this part."
   ]
  },
  {
   "cell_type": "code",
   "execution_count": 17,
   "metadata": {
    "application/vnd.databricks.v1+cell": {
     "inputWidgets": {},
     "nuid": "20b0cde5-6a91-4f59-9c83-40b66715fdf0",
     "showTitle": false,
     "title": ""
    }
   },
   "outputs": [],
   "source": [
    "from pyspark.ml.regression import LinearRegression\n",
    "\n",
    "lr = LinearRegression(featuresCol=\"features\", labelCol=\"Adj Close +1\")"
   ]
  },
  {
   "cell_type": "markdown",
   "metadata": {
    "application/vnd.databricks.v1+cell": {
     "inputWidgets": {},
     "nuid": "19bb1f49-8ce2-4c4a-9c3f-4d4db36d0b8e",
     "showTitle": false,
     "title": ""
    }
   },
   "source": [
    "We will now perform the training and see the predictions for our test data using a pipeline"
   ]
  },
  {
   "cell_type": "code",
   "execution_count": 18,
   "metadata": {
    "application/vnd.databricks.v1+cell": {
     "inputWidgets": {},
     "nuid": "5bf3309b-7125-48ee-8a3e-f70c6a6e6122",
     "showTitle": false,
     "title": ""
    }
   },
   "outputs": [
    {
     "name": "stderr",
     "output_type": "stream",
     "text": [
      "2022-06-20 16:06:09,921 WARN util.Instrumentation: [841fcd62] regParam is zero, which might cause numerical instability and overfitting.\n",
      "[Stage 752:>                                                        (0 + 1) / 1]\r"
     ]
    },
    {
     "name": "stdout",
     "output_type": "stream",
     "text": [
      "+------------------+------------------+\n",
      "|      Adj Close +1|        prediction|\n",
      "+------------------+------------------+\n",
      "| 58.41072463989258|61.889395808458595|\n",
      "| 27.38566780090332|28.265385569821767|\n",
      "| 58.41072463989258|61.632150170293244|\n",
      "|45.801998138427734|  44.5497628408573|\n",
      "|  45.9739990234375| 45.43250503086868|\n",
      "| 804.7899780273438| 805.9870449914793|\n",
      "| 807.9099731445312| 804.6960582011217|\n",
      "| 806.3599853515625| 808.4673088998499|\n",
      "|127.91999816894531|127.23037615794989|\n",
      "| 806.0700073242188| 805.6403440992096|\n",
      "+------------------+------------------+\n",
      "only showing top 10 rows\n",
      "\n"
     ]
    },
    {
     "name": "stderr",
     "output_type": "stream",
     "text": [
      "\r",
      "                                                                                \r"
     ]
    }
   ],
   "source": [
    "from pyspark.ml import Pipeline\n",
    "\n",
    "pipeline = Pipeline(stages=[vecAssembler, lr])\n",
    "pipelineModel = pipeline.fit(trainDF)\n",
    "\n",
    "predDF = pipelineModel.transform(testDF)\n",
    "predDF = predDF.select(\"Adj Close +1\", \"prediction\")\n",
    "predDF.show(10)"
   ]
  },
  {
   "cell_type": "markdown",
   "metadata": {
    "application/vnd.databricks.v1+cell": {
     "inputWidgets": {},
     "nuid": "6ef90e0d-256b-4986-9aca-f92a1a35d4c2",
     "showTitle": false,
     "title": ""
    }
   },
   "source": [
    "We will use RegressionMetrics to obtain the mean square error and the R²"
   ]
  },
  {
   "cell_type": "code",
   "execution_count": 19,
   "metadata": {
    "application/vnd.databricks.v1+cell": {
     "inputWidgets": {},
     "nuid": "01a17250-45fe-448e-96c8-98d82f06a0cb",
     "showTitle": false,
     "title": ""
    }
   },
   "outputs": [
    {
     "name": "stderr",
     "output_type": "stream",
     "text": [
      "/home/guillaume/.local/lib/python3.10/site-packages/pyspark/sql/context.py:125: FutureWarning: Deprecated in 3.0.0. Use SparkSession.builder.getOrCreate() instead.\n",
      "  warnings.warn(\n",
      "                                                                                \r"
     ]
    },
    {
     "name": "stdout",
     "output_type": "stream",
     "text": [
      "Average of the Adj Close: 537.4425730492904\n"
     ]
    },
    {
     "name": "stderr",
     "output_type": "stream",
     "text": [
      "\r",
      "[Stage 765:>                                                        (0 + 1) / 1]\r"
     ]
    },
    {
     "name": "stdout",
     "output_type": "stream",
     "text": [
      "Root mean squared error: 17.57522467449153\n",
      "R Squared: 0.999352926889026\n"
     ]
    },
    {
     "name": "stderr",
     "output_type": "stream",
     "text": [
      "\r",
      "                                                                                \r"
     ]
    }
   ],
   "source": [
    "from pyspark.mllib.evaluation import RegressionMetrics\n",
    "import numpy as np\n",
    "\n",
    "val_pred = predDF.rdd.map(tuple)\n",
    "rm = RegressionMetrics(val_pred)\n",
    "\n",
    "print(\"Average of the Adj Close: \" + str(df_ml.select(F.avg('Adj Close')).collect()[0][0]))\n",
    "print(\"Root mean squared error: \" + str(np.sqrt(rm.meanSquaredError)))\n",
    "print(\"R Squared: \" + str(rm.r2))"
   ]
  },
  {
   "cell_type": "markdown",
   "metadata": {
    "application/vnd.databricks.v1+cell": {
     "inputWidgets": {},
     "nuid": "8495bc09-ca18-4d82-9c05-5d517ccb8972",
     "showTitle": false,
     "title": ""
    }
   },
   "source": [
    "We have an R² of 0.99 and mean square error of 18. Which is already good given that the average for Adj Close is 537."
   ]
  },
  {
   "cell_type": "markdown",
   "metadata": {
    "application/vnd.databricks.v1+cell": {
     "inputWidgets": {},
     "nuid": "96f8ce08-e0fa-4345-970d-7a9d4003ecfc",
     "showTitle": false,
     "title": ""
    }
   },
   "source": [
    "#### 3) Using imputation to add another variable\n",
    "We have information on the previous week, month and year but the best would be to take into account the information on the stock's value at the previous day. We can achieve that by adding 'Daily Difference' in our explicative variables, but we do not have it on every data point."
   ]
  },
  {
   "cell_type": "code",
   "execution_count": 20,
   "metadata": {
    "application/vnd.databricks.v1+cell": {
     "inputWidgets": {},
     "nuid": "7467b39c-8012-400e-8b72-c27c77a7c39b",
     "showTitle": false,
     "title": ""
    }
   },
   "outputs": [
    {
     "name": "stdout",
     "output_type": "stream",
     "text": [
      "+----------------------------+\n",
      "|Daily Difference -- nb nulls|\n",
      "+----------------------------+\n",
      "|                        1341|\n",
      "+----------------------------+\n",
      "\n",
      "DF size: 4940\n"
     ]
    }
   ],
   "source": [
    "df_ml.select(F.count(F.when(F.isnull(\"Daily Difference\"), \"Daily Difference\")).alias(\"Daily Difference -- nb nulls\")).show()\n",
    "print(\"DF size: \" + str(df_ml.count()))"
   ]
  },
  {
   "cell_type": "markdown",
   "metadata": {
    "application/vnd.databricks.v1+cell": {
     "inputWidgets": {},
     "nuid": "888fc2e2-bb5f-44d8-954f-fccad5d1b70a",
     "showTitle": false,
     "title": ""
    }
   },
   "source": [
    "Sadly this represents 1341/4940=27% of our data. Furthermore, we already removed 21% of our data by removing data points where information about the next data was not available. Thus we cannot afford to yet again remove these rows. Instead we will impute these values. We make a decision, that we will consider the stock value for the previous day to be the same as the current day if we do not have it. Consequently we will replace null values on the daily difference column by 0. We will remember where we inferred this variable by adding another column 'Daily Return Imputed'"
   ]
  },
  {
   "cell_type": "code",
   "execution_count": 21,
   "metadata": {
    "application/vnd.databricks.v1+cell": {
     "inputWidgets": {},
     "nuid": "6c9eba18-162c-445f-8f52-034455197094",
     "showTitle": false,
     "title": ""
    }
   },
   "outputs": [
    {
     "name": "stdout",
     "output_type": "stream",
     "text": [
      "+----------------------------+\n",
      "|Daily Difference -- nb nulls|\n",
      "+----------------------------+\n",
      "|                           0|\n",
      "+----------------------------+\n",
      "\n",
      "+-------------------------------------+\n",
      "|Daily Difference Imputated -- nb True|\n",
      "+-------------------------------------+\n",
      "|                                 1341|\n",
      "+-------------------------------------+\n",
      "\n"
     ]
    }
   ],
   "source": [
    "df_ml = df_ml.withColumn(\"Daily Difference Imputated\", df_ml[\"Daily Difference\"].isNull())\n",
    "df_ml = df_ml.fillna(value=0,subset=[\"Daily Difference\"])\n",
    "df_ml.select(F.count(F.when(F.isnull(\"Daily Difference\"), \"Daily Difference\")).alias(\"Daily Difference -- nb nulls\")).show()\n",
    "df_ml.select(F.count(F.when(df_ml[\"Daily Difference Imputated\"], \"Daily Difference Imputated\")).alias(\"Daily Difference Imputated -- nb True\")).show()"
   ]
  },
  {
   "cell_type": "markdown",
   "metadata": {
    "application/vnd.databricks.v1+cell": {
     "inputWidgets": {},
     "nuid": "f768d8f6-2d1b-4406-a208-feb8dc8c7a3b",
     "showTitle": false,
     "title": ""
    }
   },
   "source": [
    "Let's train again and see our new performances."
   ]
  },
  {
   "cell_type": "code",
   "execution_count": 22,
   "metadata": {
    "application/vnd.databricks.v1+cell": {
     "inputWidgets": {},
     "nuid": "dbc1b03e-7a08-47dd-9d03-888033fe2e81",
     "showTitle": false,
     "title": ""
    }
   },
   "outputs": [
    {
     "name": "stderr",
     "output_type": "stream",
     "text": [
      "2022-06-20 16:06:19,646 WARN util.Instrumentation: [f04582f3] regParam is zero, which might cause numerical instability and overfitting.\n",
      "                                                                                \r"
     ]
    },
    {
     "name": "stdout",
     "output_type": "stream",
     "text": [
      "+------------------+------------------+\n",
      "|      Adj Close +1|        prediction|\n",
      "+------------------+------------------+\n",
      "| 58.41072463989258| 61.85819058414851|\n",
      "| 27.38566780090332| 28.24943032114706|\n",
      "| 58.41072463989258|61.627572419273314|\n",
      "|45.801998138427734| 44.55279439215404|\n",
      "|  45.9739990234375|  45.4612891767964|\n",
      "| 804.7899780273438| 806.2656569320546|\n",
      "| 807.9099731445312|  804.850963390572|\n",
      "| 806.3599853515625| 808.3856677284217|\n",
      "|127.91999816894531|127.20504307170474|\n",
      "| 806.0700073242188| 805.4507474597208|\n",
      "+------------------+------------------+\n",
      "only showing top 10 rows\n",
      "\n"
     ]
    },
    {
     "name": "stderr",
     "output_type": "stream",
     "text": [
      "/home/guillaume/.local/lib/python3.10/site-packages/pyspark/sql/context.py:125: FutureWarning: Deprecated in 3.0.0. Use SparkSession.builder.getOrCreate() instead.\n",
      "  warnings.warn(\n",
      "                                                                                \r"
     ]
    },
    {
     "name": "stdout",
     "output_type": "stream",
     "text": [
      "Average of the Adj Close: 537.4425730492904\n"
     ]
    },
    {
     "name": "stderr",
     "output_type": "stream",
     "text": [
      "\r",
      "[Stage 820:>                                                        (0 + 1) / 1]\r"
     ]
    },
    {
     "name": "stdout",
     "output_type": "stream",
     "text": [
      "Root mean squared error: 17.493689407537598\n",
      "R Squared: 0.9993592109632434\n"
     ]
    },
    {
     "name": "stderr",
     "output_type": "stream",
     "text": [
      "\r",
      "                                                                                \r"
     ]
    }
   ],
   "source": [
    "trainDF, testDF = df_ml.randomSplit([.8, .2], seed=42)\n",
    "vecAssembler = VectorAssembler(inputCols=['Open', 'Close', 'Weekly Avg Close', 'Monthly Avg Close', 'Yearly Avg Close', 'Daily Difference'], outputCol=\"features\")\n",
    "pipeline = Pipeline(stages=[vecAssembler, lr])\n",
    "\n",
    "pipelineModel = pipeline.fit(trainDF)\n",
    "predDF = pipelineModel.transform(testDF)\n",
    "\n",
    "predDF = predDF.select(\"Adj Close +1\", \"prediction\")\n",
    "predDF.show(10)\n",
    "\n",
    "val_pred = predDF.rdd.map(tuple)\n",
    "rm = RegressionMetrics(val_pred)\n",
    "\n",
    "print(\"Average of the Adj Close: \" + str(df_ml.select(F.avg('Adj Close')).collect()[0][0]))\n",
    "print(\"Root mean squared error: \" + str(np.sqrt(rm.meanSquaredError)))\n",
    "print(\"R Squared: \" + str(rm.r2))"
   ]
  },
  {
   "cell_type": "markdown",
   "metadata": {
    "application/vnd.databricks.v1+cell": {
     "inputWidgets": {},
     "nuid": "145f5225-5c0b-4a82-aab5-e20c1149d805",
     "showTitle": false,
     "title": ""
    }
   },
   "source": [
    "Our performance improved, but not by much as the daily difference may be correlated to other variables."
   ]
  },
  {
   "cell_type": "markdown",
   "metadata": {
    "application/vnd.databricks.v1+cell": {
     "inputWidgets": {},
     "nuid": "03a2f0fd-5913-45f7-9b82-7fbabaff2421",
     "showTitle": false,
     "title": ""
    }
   },
   "source": [
    "#### 4) Testing Ridge Regression\n",
    "We will now use ridge regression to try giving better predictions. To do this we must find a good regularization parameter. We will try hyperparameter tuning to find the best regularization parameter, to do that we will use a cross validator with 10 folds, and various values to test. Note that we will perform cross validation outside of our pipeline to be able to see the best value for the parameter."
   ]
  },
  {
   "cell_type": "code",
   "execution_count": 23,
   "metadata": {
    "application/vnd.databricks.v1+cell": {
     "inputWidgets": {},
     "nuid": "b8cbeada-ca8c-4d2e-9244-c8830d9f98f0",
     "showTitle": false,
     "title": ""
    }
   },
   "outputs": [
    {
     "name": "stderr",
     "output_type": "stream",
     "text": [
      "2022-06-20 16:06:25,454 WARN util.package: Truncated the string representation of a plan since it was too large. This behavior can be adjusted by setting 'spark.sql.debug.maxToStringFields'.\n",
      "2022-06-20 16:06:25,975 WARN util.Instrumentation: [9f495261] regParam is zero, which might cause numerical instability and overfitting.\n",
      "2022-06-20 16:06:30,062 WARN util.Instrumentation: [d09de904] regParam is zero, which might cause numerical instability and overfitting.\n",
      "2022-06-20 16:06:34,288 WARN util.Instrumentation: [e56e7629] regParam is zero, which might cause numerical instability and overfitting.\n",
      "2022-06-20 16:06:37,963 WARN util.Instrumentation: [51e825e0] regParam is zero, which might cause numerical instability and overfitting.\n",
      "2022-06-20 16:06:41,877 WARN util.Instrumentation: [193c45b7] regParam is zero, which might cause numerical instability and overfitting.\n",
      "2022-06-20 16:06:45,648 WARN util.Instrumentation: [ccac4961] regParam is zero, which might cause numerical instability and overfitting.\n",
      "2022-06-20 16:06:49,471 WARN util.Instrumentation: [4c381bef] regParam is zero, which might cause numerical instability and overfitting.\n",
      "2022-06-20 16:06:53,160 WARN util.Instrumentation: [f7a56c70] regParam is zero, which might cause numerical instability and overfitting.\n",
      "2022-06-20 16:06:56,994 WARN util.Instrumentation: [e3f07312] regParam is zero, which might cause numerical instability and overfitting.\n",
      "2022-06-20 16:07:00,213 WARN util.Instrumentation: [86753fff] regParam is zero, which might cause numerical instability and overfitting.\n",
      "                                                                                \r"
     ]
    },
    {
     "data": {
      "text/plain": [
       "[({Param(parent='LinearRegression_2ae0fc13e751', name='regParam', doc='regularization parameter (>= 0).'): 0.0},\n",
       "  17.430783430350157),\n",
       " ({Param(parent='LinearRegression_2ae0fc13e751', name='regParam', doc='regularization parameter (>= 0).'): 0.001},\n",
       "  17.42916787104426),\n",
       " ({Param(parent='LinearRegression_2ae0fc13e751', name='regParam', doc='regularization parameter (>= 0).'): 0.01},\n",
       "  17.429613596434958),\n",
       " ({Param(parent='LinearRegression_2ae0fc13e751', name='regParam', doc='regularization parameter (>= 0).'): 0.1},\n",
       "  17.690499696042544)]"
      ]
     },
     "execution_count": 23,
     "metadata": {},
     "output_type": "execute_result"
    }
   ],
   "source": [
    "from pyspark.ml.tuning import ParamGridBuilder\n",
    "from pyspark.ml.evaluation import RegressionEvaluator\n",
    "from pyspark.ml.tuning import CrossValidator\n",
    "\n",
    "lr = LinearRegression(featuresCol=\"features\", labelCol=\"Adj Close +1\")\n",
    "\n",
    "paramGrid = (ParamGridBuilder()\n",
    "            .addGrid(lr.regParam, [0, 0.001, 0.01, 0.1])\n",
    "            .build())\n",
    "\n",
    "\n",
    "evaluator = RegressionEvaluator(labelCol=\"Adj Close +1\", \n",
    "                                predictionCol=\"prediction\", \n",
    "                                metricName=\"rmse\")\n",
    "\n",
    "cv = CrossValidator(estimator=lr, \n",
    "                    evaluator=evaluator, \n",
    "                    estimatorParamMaps=paramGrid, \n",
    "                    numFolds=10,\n",
    "                    seed=42)\n",
    "\n",
    "pipeline = Pipeline(stages=[vecAssembler])\n",
    " \n",
    "pipelineModel = pipeline.fit(trainDF)\n",
    "vecTrainDF = pipelineModel.transform(trainDF)\n",
    "cvModel = cv.fit(vecTrainDF)\n",
    "list(zip(cvModel.getEstimatorParamMaps(), cvModel.avgMetrics))"
   ]
  },
  {
   "cell_type": "markdown",
   "metadata": {
    "application/vnd.databricks.v1+cell": {
     "inputWidgets": {},
     "nuid": "4ff5a05f-41b5-45f5-ae10-3e02ba0bf20b",
     "showTitle": false,
     "title": ""
    }
   },
   "source": [
    "The best order of magnitude for the regularization parameter seems to be around 0.001, let's see our new performance using this parameter."
   ]
  },
  {
   "cell_type": "code",
   "execution_count": 24,
   "metadata": {
    "application/vnd.databricks.v1+cell": {
     "inputWidgets": {},
     "nuid": "f20ed97a-8623-463d-9a7f-48a235b927dd",
     "showTitle": false,
     "title": ""
    }
   },
   "outputs": [
    {
     "name": "stdout",
     "output_type": "stream",
     "text": [
      "+------------------+------------------+\n",
      "|      Adj Close +1|        prediction|\n",
      "+------------------+------------------+\n",
      "| 58.41072463989258|61.860951586165626|\n",
      "| 27.38566780090332|28.250288458151836|\n",
      "| 58.41072463989258| 61.62900207983631|\n",
      "|45.801998138427734| 44.55266886274174|\n",
      "|  45.9739990234375|45.458456865342384|\n",
      "| 804.7899780273438| 806.2561288449463|\n",
      "| 807.9099731445312| 804.8601400786293|\n",
      "| 806.3599853515625| 808.3845440695644|\n",
      "|127.91999816894531|127.20743913857123|\n",
      "| 806.0700073242188| 805.4752367578036|\n",
      "+------------------+------------------+\n",
      "only showing top 10 rows\n",
      "\n",
      "Average of the Adj Close: 537.4425730492904\n"
     ]
    },
    {
     "name": "stderr",
     "output_type": "stream",
     "text": [
      "\r",
      "[Stage 1227:>                                                       (0 + 1) / 1]\r"
     ]
    },
    {
     "name": "stdout",
     "output_type": "stream",
     "text": [
      "Root mean squared error: 17.493173538375615\n",
      "R Squared: 0.9993592312694387\n"
     ]
    },
    {
     "name": "stderr",
     "output_type": "stream",
     "text": [
      "\r",
      "                                                                                \r"
     ]
    }
   ],
   "source": [
    "vecTestDF = pipelineModel.transform(testDF)\n",
    "\n",
    "predDF = cvModel.transform(vecTestDF)\n",
    "predDF = predDF.select(\"Adj Close +1\", \"prediction\")\n",
    "predDF.show(10)\n",
    "\n",
    "val_pred = predDF.rdd.map(tuple)\n",
    "rm = RegressionMetrics(val_pred)\n",
    "\n",
    "print(\"Average of the Adj Close: \" + str(df_ml.select(F.avg('Adj Close')).collect()[0][0]))\n",
    "print(\"Root mean squared error: \" + str(np.sqrt(rm.meanSquaredError)))\n",
    "print(\"R Squared: \" + str(rm.r2))"
   ]
  },
  {
   "cell_type": "markdown",
   "metadata": {
    "application/vnd.databricks.v1+cell": {
     "inputWidgets": {},
     "nuid": "cfc44070-8111-4386-9c41-925182ddf2ba",
     "showTitle": false,
     "title": ""
    }
   },
   "source": [
    "The performance is almost the same ! This may be explained by the face that we have 4940 data points and only 6 explicative variables, meaning we are in a situation where n >> p. In short our data may be too large for Ridge regression to be worth it. Thus we will keep unbiased Linear Regression."
   ]
  },
  {
   "cell_type": "markdown",
   "metadata": {
    "application/vnd.databricks.v1+cell": {
     "inputWidgets": {},
     "nuid": "c30c6bb5-ed1f-4577-8f91-563f045bb77f",
     "showTitle": false,
     "title": ""
    }
   },
   "source": [
    "#### 5) Using OHE to add a categorical variable"
   ]
  },
  {
   "cell_type": "markdown",
   "metadata": {
    "application/vnd.databricks.v1+cell": {
     "inputWidgets": {},
     "nuid": "3142b1e3-fb03-478e-b948-268d1883910d",
     "showTitle": false,
     "title": ""
    }
   },
   "source": [
    "We will now try to improve our model by adding the information of which company's stock we are trying to predict in the explicative variables. To do this we will perform OHE (one hot encoding) using StringIndexer, OneHotEncore and VectorAssembler."
   ]
  },
  {
   "cell_type": "code",
   "execution_count": 25,
   "metadata": {
    "application/vnd.databricks.v1+cell": {
     "inputWidgets": {},
     "nuid": "954caf23-c6ea-4e42-9a7c-345f47e17c80",
     "showTitle": false,
     "title": ""
    }
   },
   "outputs": [],
   "source": [
    "from pyspark.ml.feature import OneHotEncoder, StringIndexer\n",
    "\n",
    "stringIndexer = StringIndexer(inputCols=[\"company_name\"], \n",
    "                              outputCols=[\"company_name_index\"])\n",
    "oheEncoder = OneHotEncoder(inputCols=[\"company_name_index\"], \n",
    "                           outputCols=[\"company_name_OHE\"])\n",
    "\n",
    "vecAssembler = VectorAssembler(inputCols=['Open', 'Close', 'Weekly Avg Close', 'Monthly Avg Close', 'Yearly Avg Close', 'Daily Difference', 'company_name_OHE'], outputCol=\"features\")"
   ]
  },
  {
   "cell_type": "markdown",
   "metadata": {
    "application/vnd.databricks.v1+cell": {
     "inputWidgets": {},
     "nuid": "187d5659-9c50-4613-83a0-4e579a1867f3",
     "showTitle": false,
     "title": ""
    }
   },
   "source": [
    "Lets see what does our OHE looks like."
   ]
  },
  {
   "cell_type": "code",
   "execution_count": 26,
   "metadata": {
    "application/vnd.databricks.v1+cell": {
     "inputWidgets": {},
     "nuid": "81042d9c-b42b-46f2-9b08-c4b2be4dafbf",
     "showTitle": false,
     "title": ""
    }
   },
   "outputs": [
    {
     "name": "stderr",
     "output_type": "stream",
     "text": [
      "[Stage 1238:>                                                       (0 + 1) / 1]\r"
     ]
    },
    {
     "name": "stdout",
     "output_type": "stream",
     "text": [
      "+------------+------------------+----------------+\n",
      "|company_name|company_name_index|company_name_OHE|\n",
      "+------------+------------------+----------------+\n",
      "|   MICROSOFT|               5.0|   (6,[5],[1.0])|\n",
      "|       APPLE|               4.0|   (6,[4],[1.0])|\n",
      "|   MICROSOFT|               5.0|   (6,[5],[1.0])|\n",
      "|       TESLA|               2.0|   (6,[2],[1.0])|\n",
      "|       TESLA|               2.0|   (6,[2],[1.0])|\n",
      "|      GOOGLE|               1.0|   (6,[1],[1.0])|\n",
      "|      GOOGLE|               1.0|   (6,[1],[1.0])|\n",
      "|      GOOGLE|               1.0|   (6,[1],[1.0])|\n",
      "|    FACEBOOK|               3.0|   (6,[3],[1.0])|\n",
      "|      GOOGLE|               1.0|   (6,[1],[1.0])|\n",
      "+------------+------------------+----------------+\n",
      "only showing top 10 rows\n",
      "\n"
     ]
    },
    {
     "name": "stderr",
     "output_type": "stream",
     "text": [
      "\r",
      "                                                                                \r"
     ]
    }
   ],
   "source": [
    "pipeline = Pipeline(stages=[stringIndexer, oheEncoder])\n",
    "\n",
    "pipelineModel = pipeline.fit(trainDF)\n",
    "pipelineModel.transform(testDF).select(['company_name', 'company_name_index', 'company_name_OHE']).show(10)"
   ]
  },
  {
   "cell_type": "markdown",
   "metadata": {
    "application/vnd.databricks.v1+cell": {
     "inputWidgets": {},
     "nuid": "43c8a80e-d373-4e88-b24e-96e8858815ec",
     "showTitle": false,
     "title": ""
    }
   },
   "source": [
    "Let's train again and see our new performances."
   ]
  },
  {
   "cell_type": "code",
   "execution_count": 27,
   "metadata": {
    "application/vnd.databricks.v1+cell": {
     "inputWidgets": {},
     "nuid": "1bb3385c-6f69-4a4a-b11d-badd21407962",
     "showTitle": false,
     "title": ""
    }
   },
   "outputs": [
    {
     "name": "stderr",
     "output_type": "stream",
     "text": [
      "2022-06-20 16:07:14,245 WARN util.Instrumentation: [d0f469e8] regParam is zero, which might cause numerical instability and overfitting.\n",
      "                                                                                \r"
     ]
    },
    {
     "name": "stdout",
     "output_type": "stream",
     "text": [
      "+------------------+------------------+\n",
      "|      Adj Close +1|        prediction|\n",
      "+------------------+------------------+\n",
      "| 58.41072463989258|  60.0736184549013|\n",
      "| 27.38566780090332| 27.66626227757183|\n",
      "| 58.41072463989258| 59.84334098776507|\n",
      "|45.801998138427734| 45.70471737425869|\n",
      "|  45.9739990234375| 46.61257534499252|\n",
      "| 804.7899780273438| 806.0188398098536|\n",
      "| 807.9099731445312|  804.607728541524|\n",
      "| 806.3599853515625| 808.1458341788539|\n",
      "|127.91999816894531|127.96766094152268|\n",
      "| 806.0700073242188|  805.214516168016|\n",
      "+------------------+------------------+\n",
      "only showing top 10 rows\n",
      "\n"
     ]
    },
    {
     "name": "stderr",
     "output_type": "stream",
     "text": [
      "\r",
      "[Stage 1263:>                                                       (0 + 1) / 1]\r",
      "\r",
      "                                                                                \r"
     ]
    },
    {
     "name": "stdout",
     "output_type": "stream",
     "text": [
      "Average of the Adj Close: 537.4425730492904\n"
     ]
    },
    {
     "name": "stderr",
     "output_type": "stream",
     "text": [
      "\r",
      "[Stage 1272:>                                                       (0 + 1) / 1]\r"
     ]
    },
    {
     "name": "stdout",
     "output_type": "stream",
     "text": [
      "Root mean squared error: 17.47096818762458\n",
      "R Squared: 0.999360896513598\n"
     ]
    },
    {
     "name": "stderr",
     "output_type": "stream",
     "text": [
      "\r",
      "                                                                                \r"
     ]
    }
   ],
   "source": [
    "pipeline = Pipeline(stages=[stringIndexer, oheEncoder, vecAssembler, lr])\n",
    "\n",
    "pipelineModel = pipeline.fit(trainDF)\n",
    "predDF = pipelineModel.transform(testDF)\n",
    "\n",
    "predDF = predDF.select(\"Adj Close +1\", \"prediction\")\n",
    "predDF.show(10)\n",
    "\n",
    "val_pred = predDF.rdd.map(tuple)\n",
    "rm = RegressionMetrics(val_pred)\n",
    "\n",
    "print(\"Average of the Adj Close: \" + str(df_ml.select(F.avg('Adj Close')).collect()[0][0]))\n",
    "print(\"Root mean squared error: \" + str(np.sqrt(rm.meanSquaredError)))\n",
    "print(\"R Squared: \" + str(rm.r2))"
   ]
  },
  {
   "cell_type": "markdown",
   "metadata": {
    "application/vnd.databricks.v1+cell": {
     "inputWidgets": {},
     "nuid": "08cdc0b2-a005-4d2c-844f-416fed68a68a",
     "showTitle": false,
     "title": ""
    }
   },
   "source": [
    "Our performance improved but only slightly, maybe linear regression is not the best to exploit this information."
   ]
  },
  {
   "cell_type": "markdown",
   "metadata": {
    "application/vnd.databricks.v1+cell": {
     "inputWidgets": {},
     "nuid": "8dcdf5d4-08c2-4200-85fb-40d6fe608133",
     "showTitle": false,
     "title": ""
    }
   },
   "source": [
    "#### 6) Random Forest Regression"
   ]
  },
  {
   "cell_type": "markdown",
   "metadata": {
    "application/vnd.databricks.v1+cell": {
     "inputWidgets": {},
     "nuid": "c3d0d53d-abf1-4345-af72-558ccec0ba19",
     "showTitle": false,
     "title": ""
    }
   },
   "source": [
    "We will try using RandomForest to perform our predictions now. Note that we must not use OHE on our categorical variables, we will only use the StringIndexer."
   ]
  },
  {
   "cell_type": "code",
   "execution_count": 28,
   "metadata": {
    "application/vnd.databricks.v1+cell": {
     "inputWidgets": {},
     "nuid": "2a69f6da-84e2-4b60-8fe7-79c5589cd3e3",
     "showTitle": false,
     "title": ""
    }
   },
   "outputs": [
    {
     "name": "stderr",
     "output_type": "stream",
     "text": [
      "                                                                                \r"
     ]
    },
    {
     "name": "stdout",
     "output_type": "stream",
     "text": [
      "+------------------+------------------+\n",
      "|      Adj Close +1|        prediction|\n",
      "+------------------+------------------+\n",
      "| 58.41072463989258| 64.69487505881236|\n",
      "| 27.38566780090332| 38.93195732114348|\n",
      "| 58.41072463989258| 64.69487505881236|\n",
      "|45.801998138427734| 47.12932351999062|\n",
      "|  45.9739990234375| 47.12932351999062|\n",
      "| 804.7899780273438| 856.6682621257793|\n",
      "| 807.9099731445312| 856.6682621257793|\n",
      "| 806.3599853515625| 861.6196840627896|\n",
      "|127.91999816894531|133.84576792797026|\n",
      "| 806.0700073242188| 861.6196840627896|\n",
      "+------------------+------------------+\n",
      "only showing top 10 rows\n",
      "\n"
     ]
    },
    {
     "name": "stderr",
     "output_type": "stream",
     "text": [
      "\r",
      "[Stage 1311:>                                                       (0 + 1) / 1]\r",
      "\r",
      "                                                                                \r"
     ]
    },
    {
     "name": "stdout",
     "output_type": "stream",
     "text": [
      "Average of the Adj Close: 537.4425730492904\n"
     ]
    },
    {
     "name": "stderr",
     "output_type": "stream",
     "text": [
      "\r",
      "[Stage 1320:>                                                       (0 + 1) / 1]\r"
     ]
    },
    {
     "name": "stdout",
     "output_type": "stream",
     "text": [
      "Root mean squared error: 65.4158486549389\n",
      "R Squared: 0.9910028557993061\n"
     ]
    },
    {
     "name": "stderr",
     "output_type": "stream",
     "text": [
      "\r",
      "                                                                                \r"
     ]
    }
   ],
   "source": [
    "from pyspark.ml.regression import RandomForestRegressor\n",
    "\n",
    "vecAssembler = VectorAssembler(inputCols=['Open', 'Close', 'Weekly Avg Close', 'Monthly Avg Close', 'Yearly Avg Close', 'Daily Difference', 'company_name_index'], outputCol=\"features\")\n",
    "rf = RandomForestRegressor(featuresCol=\"features\", labelCol=\"Adj Close +1\")\n",
    "\n",
    "pipeline = Pipeline(stages=[stringIndexer, vecAssembler, rf])\n",
    "\n",
    "pipelineModel = pipeline.fit(trainDF)\n",
    "predDF = pipelineModel.transform(testDF)\n",
    "\n",
    "predDF = predDF.select(\"Adj Close +1\", \"prediction\")\n",
    "predDF.show(10)\n",
    "\n",
    "val_pred = predDF.rdd.map(tuple)\n",
    "rm = RegressionMetrics(val_pred)\n",
    "\n",
    "print(\"Average of the Adj Close: \" + str(df_ml.select(F.avg('Adj Close')).collect()[0][0]))\n",
    "print(\"Root mean squared error: \" + str(np.sqrt(rm.meanSquaredError)))\n",
    "print(\"R Squared: \" + str(rm.r2))"
   ]
  },
  {
   "cell_type": "markdown",
   "metadata": {
    "application/vnd.databricks.v1+cell": {
     "inputWidgets": {},
     "nuid": "6bbf6044-803a-4261-861f-fec2d40f3e1c",
     "showTitle": false,
     "title": ""
    }
   },
   "source": [
    "Our performance is way worse than using Linear Regression, however we used the default hyperparameters when constructing our random forest regressor."
   ]
  },
  {
   "cell_type": "markdown",
   "metadata": {
    "application/vnd.databricks.v1+cell": {
     "inputWidgets": {},
     "nuid": "9b69dc91-ae57-46c3-a31c-fd36b793a152",
     "showTitle": false,
     "title": ""
    }
   },
   "source": [
    "#### 7) Hyperparameter tuning for random forest regression"
   ]
  },
  {
   "cell_type": "markdown",
   "metadata": {
    "application/vnd.databricks.v1+cell": {
     "inputWidgets": {},
     "nuid": "c863e6dc-8642-4325-949b-42fbca95e65c",
     "showTitle": false,
     "title": ""
    }
   },
   "source": [
    "As like with ridge regression, we will try hyperparameter tuning to find the best hyperparameters, to do that we will use a cross validator with 10 folds, and various values to test for maxDepth and numTrees. We will once again perform cross validation outside of our pipeline to be able to see the best parameters."
   ]
  },
  {
   "cell_type": "code",
   "execution_count": 29,
   "metadata": {
    "application/vnd.databricks.v1+cell": {
     "inputWidgets": {},
     "nuid": "e625f785-2510-467d-a0ab-54d247fa5fc9",
     "showTitle": false,
     "title": ""
    }
   },
   "outputs": [
    {
     "name": "stderr",
     "output_type": "stream",
     "text": [
      "2022-06-20 16:07:40,135 WARN scheduler.DAGScheduler: Broadcasting large task binary with size 1137.5 KiB\n",
      "2022-06-20 16:07:49,156 WARN scheduler.DAGScheduler: Broadcasting large task binary with size 1155.2 KiB\n",
      "2022-06-20 16:07:58,189 WARN scheduler.DAGScheduler: Broadcasting large task binary with size 1138.9 KiB\n",
      "2022-06-20 16:08:06,145 WARN scheduler.DAGScheduler: Broadcasting large task binary with size 1124.5 KiB\n",
      "2022-06-20 16:08:15,354 WARN scheduler.DAGScheduler: Broadcasting large task binary with size 1147.6 KiB\n",
      "2022-06-20 16:08:23,200 WARN scheduler.DAGScheduler: Broadcasting large task binary with size 1155.1 KiB\n",
      "2022-06-20 16:08:31,232 WARN scheduler.DAGScheduler: Broadcasting large task binary with size 1139.0 KiB\n",
      "2022-06-20 16:08:39,674 WARN scheduler.DAGScheduler: Broadcasting large task binary with size 1135.0 KiB\n",
      "2022-06-20 16:08:47,120 WARN scheduler.DAGScheduler: Broadcasting large task binary with size 1159.9 KiB\n",
      "2022-06-20 16:08:54,443 WARN scheduler.DAGScheduler: Broadcasting large task binary with size 1137.8 KiB\n",
      "                                                                                \r"
     ]
    },
    {
     "data": {
      "text/plain": [
       "[({Param(parent='RandomForestRegressor_86e08c6fdce0', name='maxDepth', doc='Maximum depth of the tree. (>= 0) E.g., depth 0 means 1 leaf node; depth 1 means 1 internal node + 2 leaf nodes. Must be in range [0, 30].'): 2,\n",
       "   Param(parent='RandomForestRegressor_86e08c6fdce0', name='numTrees', doc='Number of trees to train (>= 1).'): 10},\n",
       "  157.8419198780815),\n",
       " ({Param(parent='RandomForestRegressor_86e08c6fdce0', name='maxDepth', doc='Maximum depth of the tree. (>= 0) E.g., depth 0 means 1 leaf node; depth 1 means 1 internal node + 2 leaf nodes. Must be in range [0, 30].'): 2,\n",
       "   Param(parent='RandomForestRegressor_86e08c6fdce0', name='numTrees', doc='Number of trees to train (>= 1).'): 50},\n",
       "  161.2806915666573),\n",
       " ({Param(parent='RandomForestRegressor_86e08c6fdce0', name='maxDepth', doc='Maximum depth of the tree. (>= 0) E.g., depth 0 means 1 leaf node; depth 1 means 1 internal node + 2 leaf nodes. Must be in range [0, 30].'): 2,\n",
       "   Param(parent='RandomForestRegressor_86e08c6fdce0', name='numTrees', doc='Number of trees to train (>= 1).'): 100},\n",
       "  157.0712260235369),\n",
       " ({Param(parent='RandomForestRegressor_86e08c6fdce0', name='maxDepth', doc='Maximum depth of the tree. (>= 0) E.g., depth 0 means 1 leaf node; depth 1 means 1 internal node + 2 leaf nodes. Must be in range [0, 30].'): 4,\n",
       "   Param(parent='RandomForestRegressor_86e08c6fdce0', name='numTrees', doc='Number of trees to train (>= 1).'): 10},\n",
       "  67.35801708831407),\n",
       " ({Param(parent='RandomForestRegressor_86e08c6fdce0', name='maxDepth', doc='Maximum depth of the tree. (>= 0) E.g., depth 0 means 1 leaf node; depth 1 means 1 internal node + 2 leaf nodes. Must be in range [0, 30].'): 4,\n",
       "   Param(parent='RandomForestRegressor_86e08c6fdce0', name='numTrees', doc='Number of trees to train (>= 1).'): 50},\n",
       "  67.86809384027033),\n",
       " ({Param(parent='RandomForestRegressor_86e08c6fdce0', name='maxDepth', doc='Maximum depth of the tree. (>= 0) E.g., depth 0 means 1 leaf node; depth 1 means 1 internal node + 2 leaf nodes. Must be in range [0, 30].'): 4,\n",
       "   Param(parent='RandomForestRegressor_86e08c6fdce0', name='numTrees', doc='Number of trees to train (>= 1).'): 100},\n",
       "  67.61758492769255),\n",
       " ({Param(parent='RandomForestRegressor_86e08c6fdce0', name='maxDepth', doc='Maximum depth of the tree. (>= 0) E.g., depth 0 means 1 leaf node; depth 1 means 1 internal node + 2 leaf nodes. Must be in range [0, 30].'): 6,\n",
       "   Param(parent='RandomForestRegressor_86e08c6fdce0', name='numTrees', doc='Number of trees to train (>= 1).'): 10},\n",
       "  61.28010919756933),\n",
       " ({Param(parent='RandomForestRegressor_86e08c6fdce0', name='maxDepth', doc='Maximum depth of the tree. (>= 0) E.g., depth 0 means 1 leaf node; depth 1 means 1 internal node + 2 leaf nodes. Must be in range [0, 30].'): 6,\n",
       "   Param(parent='RandomForestRegressor_86e08c6fdce0', name='numTrees', doc='Number of trees to train (>= 1).'): 50},\n",
       "  61.305896934675204),\n",
       " ({Param(parent='RandomForestRegressor_86e08c6fdce0', name='maxDepth', doc='Maximum depth of the tree. (>= 0) E.g., depth 0 means 1 leaf node; depth 1 means 1 internal node + 2 leaf nodes. Must be in range [0, 30].'): 6,\n",
       "   Param(parent='RandomForestRegressor_86e08c6fdce0', name='numTrees', doc='Number of trees to train (>= 1).'): 100},\n",
       "  61.42067361516637)]"
      ]
     },
     "execution_count": 29,
     "metadata": {},
     "output_type": "execute_result"
    }
   ],
   "source": [
    "paramGrid = (ParamGridBuilder()\n",
    "            .addGrid(rf.maxDepth, [2, 4, 6])\n",
    "            .addGrid(rf.numTrees, [10, 50, 100])\n",
    "            .build())\n",
    "\n",
    "\n",
    "evaluator = RegressionEvaluator(labelCol=\"Adj Close +1\", \n",
    "                                predictionCol=\"prediction\", \n",
    "                                metricName=\"rmse\")\n",
    "\n",
    "cv = CrossValidator(estimator=rf, \n",
    "                    evaluator=evaluator, \n",
    "                    estimatorParamMaps=paramGrid, \n",
    "                    numFolds=10,\n",
    "                    seed=42)\n",
    "\n",
    "pipeline = Pipeline(stages=[stringIndexer, vecAssembler])\n",
    " \n",
    "pipelineModel = pipeline.fit(trainDF)\n",
    "vecTrainDF = pipelineModel.transform(trainDF)\n",
    "cvModel = cv.fit(vecTrainDF)\n",
    "list(zip(cvModel.getEstimatorParamMaps(), cvModel.avgMetrics))"
   ]
  },
  {
   "cell_type": "markdown",
   "metadata": {
    "application/vnd.databricks.v1+cell": {
     "inputWidgets": {},
     "nuid": "4944f556-ec30-4443-892b-9849e7e2dfd2",
     "showTitle": false,
     "title": ""
    }
   },
   "source": [
    "According to our 10-fold cross validation the best parameters are : maxDepth=6, numTrees=100"
   ]
  },
  {
   "cell_type": "code",
   "execution_count": 30,
   "metadata": {
    "application/vnd.databricks.v1+cell": {
     "inputWidgets": {},
     "nuid": "a6f73e95-e32a-4f07-bc16-7d9c4e026f43",
     "showTitle": false,
     "title": ""
    }
   },
   "outputs": [
    {
     "name": "stderr",
     "output_type": "stream",
     "text": [
      "                                                                                \r"
     ]
    },
    {
     "name": "stdout",
     "output_type": "stream",
     "text": [
      "+------------------+------------------+\n",
      "|      Adj Close +1|        prediction|\n",
      "+------------------+------------------+\n",
      "|27.247108459472656|34.958556207102454|\n",
      "| 45.39799880981445|40.385869083322675|\n",
      "|118.69000244140625|113.32618959675287|\n",
      "| 757.1799926757812| 742.3436743827999|\n",
      "| 786.9000244140625| 742.3436743827999|\n",
      "|45.349998474121094| 44.22998106558981|\n",
      "|120.66999816894531|113.32618959675287|\n",
      "| 780.4500122070312| 741.5577237602414|\n",
      "|   794.02001953125| 744.4796744438352|\n",
      "| 27.69097137451172|34.958556207102454|\n",
      "+------------------+------------------+\n",
      "only showing top 10 rows\n",
      "\n",
      "Average of the Adj Close: 537.4425730492904\n"
     ]
    },
    {
     "name": "stderr",
     "output_type": "stream",
     "text": [
      "\r",
      "[Stage 3371:>                                                       (0 + 1) / 1]\r"
     ]
    },
    {
     "name": "stdout",
     "output_type": "stream",
     "text": [
      "Root mean squared error: 58.83454257711474\n",
      "R Squared: 0.9928575080354523\n"
     ]
    },
    {
     "name": "stderr",
     "output_type": "stream",
     "text": [
      "\r",
      "                                                                                \r"
     ]
    }
   ],
   "source": [
    "predDF = cvModel.transform(vecTrainDF)\n",
    "predDF = predDF.select(\"Adj Close +1\", \"prediction\")\n",
    "predDF.show(10)\n",
    "\n",
    "val_pred = predDF.rdd.map(tuple)\n",
    "rm = RegressionMetrics(val_pred)\n",
    "\n",
    "print(\"Average of the Adj Close: \" + str(df_ml.select(F.avg('Adj Close')).collect()[0][0]))\n",
    "print(\"Root mean squared error: \" + str(np.sqrt(rm.meanSquaredError)))\n",
    "print(\"R Squared: \" + str(rm.r2))"
   ]
  },
  {
   "cell_type": "markdown",
   "metadata": {
    "application/vnd.databricks.v1+cell": {
     "inputWidgets": {},
     "nuid": "085ce803-8463-4198-bc86-bcdd5021b282",
     "showTitle": false,
     "title": ""
    }
   },
   "source": [
    "The performance is better, but our linear regression model stays the best one. The best parameters found seem to indicate that big a maxDepth is better, so we could try to test with even higher maxDepth but it would be too much resource consuming and take too much time to be worth it."
   ]
  },
  {
   "cell_type": "markdown",
   "metadata": {
    "application/vnd.databricks.v1+cell": {
     "inputWidgets": {},
     "nuid": "e6b7b161-2aed-4b3d-a420-a1d7e046caf4",
     "showTitle": false,
     "title": ""
    }
   },
   "source": [
    "#### 8) Evaluating performance when training for longer-term predictions\n",
    "The best model we were able to obtain is a simple linear regression using the following variables : 'Open', 'Close', 'Weekly Avg Daily Return', 'Monthly Avg Daily Return', 'Yearly Avg Daily Return', 'Daily Difference' and 'company_name_index'. We will on this last part try using this structure of model to try and predict a stocks value seven days in the future to see our performance. It will be a good occasion to recapitulate all the steps we have done to obtain our final model structure."
   ]
  },
  {
   "cell_type": "code",
   "execution_count": 31,
   "metadata": {
    "application/vnd.databricks.v1+cell": {
     "inputWidgets": {},
     "nuid": "2c01eb4f-f27f-4b53-81ef-deedfed82068",
     "showTitle": false,
     "title": ""
    }
   },
   "outputs": [
    {
     "name": "stdout",
     "output_type": "stream",
     "text": [
      "+------------------------+\n",
      "|Adj Close +7 -- nb nulls|\n",
      "+------------------------+\n",
      "|                     481|\n",
      "+------------------------+\n",
      "\n",
      "DF size: 6333\n",
      "DF size without Adj Close +7 nulls: 5852\n",
      "+----------------------------+\n",
      "|Daily Difference -- nb nulls|\n",
      "+----------------------------+\n",
      "|                           0|\n",
      "+----------------------------+\n",
      "\n",
      "+-------------------------------------+\n",
      "|Daily Difference Imputated -- nb True|\n",
      "+-------------------------------------+\n",
      "|                                 1220|\n",
      "+-------------------------------------+\n",
      "\n"
     ]
    },
    {
     "name": "stderr",
     "output_type": "stream",
     "text": [
      "2022-06-20 16:09:04,630 WARN util.Instrumentation: [2f386ca0] regParam is zero, which might cause numerical instability and overfitting.\n",
      "                                                                                \r"
     ]
    },
    {
     "name": "stdout",
     "output_type": "stream",
     "text": [
      "+------------------+------------------+\n",
      "|      Adj Close +7|        prediction|\n",
      "+------------------+------------------+\n",
      "| 58.71074676513672| 60.65609340449297|\n",
      "|28.123088836669922|28.151734907684965|\n",
      "| 59.24515914916992| 60.43082582973664|\n",
      "|45.917999267578125|48.070453738430395|\n",
      "| 47.54999923706055| 48.50636279559906|\n",
      "| 807.8800048828125| 808.8334396135305|\n",
      "| 804.6099853515625| 807.8406744467624|\n",
      "| 806.0700073242188| 811.8052166006702|\n",
      "|127.04000091552734|128.69850197879416|\n",
      "|   805.02001953125| 812.0958158395672|\n",
      "+------------------+------------------+\n",
      "only showing top 10 rows\n",
      "\n"
     ]
    },
    {
     "name": "stderr",
     "output_type": "stream",
     "text": [
      "\r",
      "[Stage 3427:>                                                       (0 + 1) / 1]\r",
      "\r",
      "                                                                                \r"
     ]
    },
    {
     "name": "stdout",
     "output_type": "stream",
     "text": [
      "Average of the Adj Close: 536.033969218814\n"
     ]
    },
    {
     "name": "stderr",
     "output_type": "stream",
     "text": [
      "\r",
      "[Stage 3436:>                                                       (0 + 1) / 1]\r"
     ]
    },
    {
     "name": "stdout",
     "output_type": "stream",
     "text": [
      "Root mean squared error: 38.721356016146416\n",
      "R Squared: 0.9971324396456984\n"
     ]
    },
    {
     "name": "stderr",
     "output_type": "stream",
     "text": [
      "\r",
      "                                                                                \r"
     ]
    }
   ],
   "source": [
    "# We construct the Adj Close +7 column containing the Adj Close variable for the data point 7 days in the future\n",
    "df_ml = df\n",
    "w = Window.partitionBy(F.col(\"company_name\")).orderBy(F.col(\"Date\").cast(\"timestamp\").cast(\"long\")).rangeBetween(days(7), days(7))\n",
    "df_ml = df_ml.withColumn(\"Adj Close +7\", F.avg(\"Adj Close\").over(w))\n",
    "\n",
    "\n",
    "\n",
    "# We must remove rows where this information is not disponible, as it is the one we want to predict.\n",
    "df_ml.select(F.count(F.when(F.isnull(\"Adj Close +7\"), \"Adj Close +7\")).alias(\"Adj Close +7 -- nb nulls\")).show()\n",
    "print(\"DF size: \" + str(df_ml.count()))\n",
    "df_ml = df_ml.filter(df_ml[\"Adj Close +7\"].isNotNull())\n",
    "print(\"DF size without Adj Close +7 nulls: \" + str(df_ml.count()))\n",
    "\n",
    "\n",
    "\n",
    "# We use imputation to fill the daily difference column, by filling missing values by 0.\n",
    "df_ml = df_ml.withColumn(\"Daily Difference Imputated\", df_ml[\"Daily Difference\"].isNull())\n",
    "df_ml = df_ml.fillna(value=0,subset=[\"Daily Difference\"])\n",
    "df_ml.select(F.count(F.when(F.isnull(\"Daily Difference\"), \"Daily Difference\")).alias(\"Daily Difference -- nb nulls\")).show()\n",
    "df_ml.select(F.count(F.when(df_ml[\"Daily Difference Imputated\"], \"Daily Difference Imputated\")).alias(\"Daily Difference Imputated -- nb True\")).show()\n",
    "\n",
    "\n",
    "#We divide our dataset in an 80/20 train/test split\n",
    "trainDF, testDF = df_ml.randomSplit([.8, .2], seed=42)\n",
    "\n",
    "\n",
    "# We use OHE to take into account the company, because it is a categorical variable\n",
    "stringIndexer = StringIndexer(inputCols=[\"company_name\"], \n",
    "                              outputCols=[\"company_name_index\"])\n",
    "oheEncoder = OneHotEncoder(inputCols=[\"company_name_index\"], \n",
    "                           outputCols=[\"company_name_OHE\"])\n",
    "vecAssembler = VectorAssembler(inputCols=['Open', 'Close', 'Weekly Avg Close', 'Monthly Avg Close', 'Yearly Avg Close', 'Daily Difference', 'company_name_OHE'], outputCol=\"features\")\n",
    "\n",
    "\n",
    "\n",
    "# We train using linear regression\n",
    "lr = LinearRegression(featuresCol=\"features\", labelCol=\"Adj Close +7\")\n",
    "pipeline = Pipeline(stages=[stringIndexer, oheEncoder, vecAssembler, lr])\n",
    "\n",
    "pipelineModel = pipeline.fit(trainDF)\n",
    "predDF = pipelineModel.transform(testDF)\n",
    "\n",
    "predDF = predDF.select(\"Adj Close +7\", \"prediction\")\n",
    "predDF.show(10)\n",
    "\n",
    "val_pred = predDF.rdd.map(tuple)\n",
    "rm = RegressionMetrics(val_pred)\n",
    "\n",
    "print(\"Average of the Adj Close: \" + str(df_ml.select(F.avg('Adj Close')).collect()[0][0]))\n",
    "print(\"Root mean squared error: \" + str(np.sqrt(rm.meanSquaredError)))\n",
    "print(\"R Squared: \" + str(rm.r2))"
   ]
  },
  {
   "cell_type": "markdown",
   "metadata": {
    "application/vnd.databricks.v1+cell": {
     "inputWidgets": {},
     "nuid": "ed9f8f85-998e-4c72-ade2-cbde7410af20",
     "showTitle": false,
     "title": ""
    }
   },
   "source": [
    "The RMSE doubled compared to +1 predictions, but considering we are trying to predict way further in the future, our RMSE is still pretty good !"
   ]
  },
  {
   "cell_type": "markdown",
   "metadata": {
    "application/vnd.databricks.v1+cell": {
     "inputWidgets": {},
     "nuid": "9c09494a-ac65-4271-8cfc-578cf6d2b01c",
     "showTitle": false,
     "title": ""
    }
   },
   "source": [
    "### Conclusion\n",
    "Basic linear regression is hard to beat for predicting stock value. We were able to improve it by using other variables, but trying to use other methods such as ridge regression or random forest did not help. Another problem was that the dataset was missing a lot of dates, rendering approximatively 20% of our data unusable. (Note that these data points are still partially used, to construct the +1/+7 column on other data points) We must also remember that 27% of our data on the daily difference is inferred and set to 0, but as the model we employed is linear regression, it means this variable is not taken into account in the internal formula when data is unavailable, which is what we want."
   ]
  }
 ],
 "metadata": {
  "application/vnd.databricks.v1+notebook": {
   "dashboards": [],
   "language": "python",
   "notebookMetadata": {
    "pythonIndentUnit": 4
   },
   "notebookName": "Project BIG_DATA",
   "notebookOrigID": 4302939111332397,
   "widgets": {}
  },
  "interpreter": {
   "hash": "d31793bc0164bbf1a7493650a68c8e00179ba062bd5a26b747d14cdd740a9f47"
  },
  "kernelspec": {
   "display_name": "Python 3 (ipykernel)",
   "language": "python",
   "name": "python3"
  },
  "language_info": {
   "codemirror_mode": {
    "name": "ipython",
    "version": 3
   },
   "file_extension": ".py",
   "mimetype": "text/x-python",
   "name": "python",
   "nbconvert_exporter": "python",
   "pygments_lexer": "ipython3",
   "version": "3.10.5"
  }
 },
 "nbformat": 4,
 "nbformat_minor": 1
}
